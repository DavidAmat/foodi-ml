{
 "cells": [
  {
   "cell_type": "code",
   "execution_count": 1,
   "id": "846ae318",
   "metadata": {},
   "outputs": [],
   "source": [
    "import os\n",
    "os.chdir(\"/home/ec2-user/SageMaker/foodi-ml/\")"
   ]
  },
  {
   "cell_type": "code",
   "execution_count": 2,
   "id": "d30cf109",
   "metadata": {},
   "outputs": [
    {
     "name": "stdout",
     "output_type": "stream",
     "text": [
      "Requirement already satisfied: pip in /home/ec2-user/anaconda3/envs/python3/lib/python3.6/site-packages (21.2.4)\n"
     ]
    }
   ],
   "source": [
    "!/home/ec2-user/anaconda3/envs/python3/bin/python -m pip install --upgrade pip"
   ]
  },
  {
   "cell_type": "code",
   "execution_count": 3,
   "id": "289b716d",
   "metadata": {
    "scrolled": true
   },
   "outputs": [
    {
     "name": "stdout",
     "output_type": "stream",
     "text": [
      "Collecting torchvision==0.2.2\n",
      "  Downloading torchvision-0.2.2-py2.py3-none-any.whl (64 kB)\n",
      "\u001b[K     |████████████████████████████████| 64 kB 4.9 MB/s  eta 0:00:01\n",
      "\u001b[?25hCollecting tensorboardx==1.6\n",
      "  Downloading tensorboardX-1.6-py2.py3-none-any.whl (129 kB)\n",
      "\u001b[K     |████████████████████████████████| 129 kB 56.4 MB/s eta 0:00:01\n",
      "\u001b[?25hCollecting numpy==1.16.2\n",
      "  Downloading numpy-1.16.2-cp36-cp36m-manylinux1_x86_64.whl (17.3 MB)\n",
      "\u001b[K     |████████████████████████████████| 17.3 MB 49.2 MB/s eta 0:00:01\n",
      "\u001b[?25hCollecting addict==2.2.0\n",
      "  Downloading addict-2.2.0.tar.gz (5.1 kB)\n",
      "Collecting nltk==3.4.5\n",
      "  Downloading nltk-3.4.5.zip (1.5 MB)\n",
      "\u001b[K     |████████████████████████████████| 1.5 MB 99.7 MB/s eta 0:00:01\n",
      "\u001b[?25hCollecting pillow==6.2.2\n",
      "  Downloading Pillow-6.2.2-cp36-cp36m-manylinux1_x86_64.whl (2.1 MB)\n",
      "\u001b[K     |████████████████████████████████| 2.1 MB 101.7 MB/s eta 0:00:01\n",
      "\u001b[?25hCollecting pyaml==19.4.1\n",
      "  Downloading pyaml-19.4.1-py2.py3-none-any.whl (16 kB)\n",
      "Collecting argparse==1.4.0\n",
      "  Downloading argparse-1.4.0-py2.py3-none-any.whl (23 kB)\n",
      "Collecting torch\n",
      "  Downloading torch-1.9.1-cp36-cp36m-manylinux1_x86_64.whl (831.4 MB)\n",
      "\u001b[K     |█████████████████▊              | 460.6 MB 98.2 MB/s eta 0:00:04     |████▉                           | 125.7 MB 98.5 MB/s eta 0:00:08     |████████                        | 210.4 MB 91.8 MB/s eta 0:00:07     |█████████████████▏              | 446.5 MB 98.2 MB/s eta 0:00:04"
     ]
    },
    {
     "name": "stderr",
     "output_type": "stream",
     "text": [
      "IOPub data rate exceeded.\n",
      "The notebook server will temporarily stop sending output\n",
      "to the client in order to avoid crashing it.\n",
      "To change this limit, set the config variable\n",
      "`--NotebookApp.iopub_data_rate_limit`.\n",
      "\n",
      "Current values:\n",
      "NotebookApp.iopub_data_rate_limit=1000000.0 (bytes/sec)\n",
      "NotebookApp.rate_limit_window=3.0 (secs)\n",
      "\n"
     ]
    },
    {
     "name": "stdout",
     "output_type": "stream",
     "text": [
      "\u001b[K     |█████████████████████████████   | 755.5 MB 72.1 MB/s eta 0:00:02"
     ]
    },
    {
     "name": "stderr",
     "output_type": "stream",
     "text": [
      "IOPub data rate exceeded.\n",
      "The notebook server will temporarily stop sending output\n",
      "to the client in order to avoid crashing it.\n",
      "To change this limit, set the config variable\n",
      "`--NotebookApp.iopub_data_rate_limit`.\n",
      "\n",
      "Current values:\n",
      "NotebookApp.iopub_data_rate_limit=1000000.0 (bytes/sec)\n",
      "NotebookApp.rate_limit_window=3.0 (secs)\n",
      "\n"
     ]
    },
    {
     "name": "stdout",
     "output_type": "stream",
     "text": [
      "\u001b[K     |████████████████████████████████| 831.4 MB 11 kB/s \n",
      "\u001b[?25hRequirement already satisfied: six in /home/ec2-user/anaconda3/envs/python3/lib/python3.6/site-packages (from torchvision==0.2.2->-r requirements.txt (line 1)) (1.15.0)\n",
      "Collecting tqdm==4.19.9\n",
      "  Downloading tqdm-4.19.9-py2.py3-none-any.whl (52 kB)\n",
      "\u001b[K     |████████████████████████████████| 52 kB 241 kB/s  eta 0:00:01\n",
      "\u001b[?25hRequirement already satisfied: protobuf>=3.2.0 in /home/ec2-user/anaconda3/envs/python3/lib/python3.6/site-packages (from tensorboardx==1.6->-r requirements.txt (line 2)) (3.15.2)\n",
      "Requirement already satisfied: PyYAML in /home/ec2-user/anaconda3/envs/python3/lib/python3.6/site-packages (from pyaml==19.4.1->-r requirements.txt (line 7)) (5.4.1)\n",
      "Requirement already satisfied: typing-extensions in /home/ec2-user/anaconda3/envs/python3/lib/python3.6/site-packages (from torch->torchvision==0.2.2->-r requirements.txt (line 1)) (3.7.4.3)\n",
      "Requirement already satisfied: dataclasses in /home/ec2-user/anaconda3/envs/python3/lib/python3.6/site-packages (from torch->torchvision==0.2.2->-r requirements.txt (line 1)) (0.8)\n",
      "Building wheels for collected packages: addict, nltk\n",
      "  Building wheel for addict (setup.py) ... \u001b[?25ldone\n",
      "\u001b[?25h  Created wheel for addict: filename=addict-2.2.0-py3-none-any.whl size=2783 sha256=cc5bd0b1e3d4a2f9aeeee17107ec29d14673c4379d973d6658e2dea09aa3a30b\n",
      "  Stored in directory: /home/ec2-user/.cache/pip/wheels/01/63/4e/4513b03a36916a4988ba9dd0c0483e30f4973cc4b4ba56fb53\n",
      "  Building wheel for nltk (setup.py) ... \u001b[?25ldone\n",
      "\u001b[?25h  Created wheel for nltk: filename=nltk-3.4.5-py3-none-any.whl size=1449908 sha256=dc3297327f5bebcfb19d7367ceb284eebecec6fecedbc8ba6090a4fa2b17713c\n",
      "  Stored in directory: /home/ec2-user/.cache/pip/wheels/e3/c9/b0/ed26a73ef75a53145820825afa8e2d2c9b30fe9f6c10cd3202\n",
      "Successfully built addict nltk\n",
      "Installing collected packages: tqdm, torch, pillow, numpy, torchvision, tensorboardx, pyaml, nltk, argparse, addict\n",
      "  Attempting uninstall: tqdm\n",
      "    Found existing installation: tqdm 4.62.2\n",
      "    Uninstalling tqdm-4.62.2:\n",
      "      Successfully uninstalled tqdm-4.62.2\n",
      "  Attempting uninstall: pillow\n",
      "    Found existing installation: Pillow 8.3.1\n",
      "    Uninstalling Pillow-8.3.1:\n",
      "      Successfully uninstalled Pillow-8.3.1\n",
      "  Attempting uninstall: numpy\n",
      "    Found existing installation: numpy 1.19.5\n",
      "    Uninstalling numpy-1.19.5:\n",
      "      Successfully uninstalled numpy-1.19.5\n",
      "  Attempting uninstall: nltk\n",
      "    Found existing installation: nltk 3.4.4\n",
      "    Uninstalling nltk-3.4.4:\n",
      "      Successfully uninstalled nltk-3.4.4\n",
      "\u001b[31mERROR: pip's dependency resolver does not currently take into account all the packages that are installed. This behaviour is the source of the following dependency conflicts.\n",
      "shap 0.39.0 requires tqdm>4.25.0, but you have tqdm 4.19.9 which is incompatible.\n",
      "pyarrow 5.0.0 requires numpy>=1.16.6, but you have numpy 1.16.2 which is incompatible.\n",
      "bokeh 2.2.3 requires pillow>=7.1.0, but you have pillow 6.2.2 which is incompatible.\u001b[0m\n",
      "Successfully installed addict-2.2.0 argparse-1.4.0 nltk-3.4.5 numpy-1.16.2 pillow-6.2.2 pyaml-19.4.1 tensorboardx-1.6 torch-1.9.1 torchvision-0.2.2 tqdm-4.19.9\n"
     ]
    }
   ],
   "source": [
    "!pip install -r requirements.txt"
   ]
  },
  {
   "cell_type": "code",
   "execution_count": null,
   "id": "7b8a58bd",
   "metadata": {},
   "outputs": [
    {
     "name": "stdout",
     "output_type": "stream",
     "text": [
      "Collecting torch==1.1.0\n",
      "  Downloading https://download.pytorch.org/whl/cu100/torch-1.1.0-cp36-cp36m-linux_x86_64.whl (770.7 MB)\n",
      "\u001b[K     |█████████████▏                  | 318.3 MB 144.8 MB/s eta 0:00:04"
     ]
    },
    {
     "name": "stderr",
     "output_type": "stream",
     "text": [
      "IOPub data rate exceeded.\n",
      "The notebook server will temporarily stop sending output\n",
      "to the client in order to avoid crashing it.\n",
      "To change this limit, set the config variable\n",
      "`--NotebookApp.iopub_data_rate_limit`.\n",
      "\n",
      "Current values:\n",
      "NotebookApp.iopub_data_rate_limit=1000000.0 (bytes/sec)\n",
      "NotebookApp.rate_limit_window=3.0 (secs)\n",
      "\n"
     ]
    },
    {
     "name": "stdout",
     "output_type": "stream",
     "text": [
      "\u001b[K     |████████████████████████        | 580.5 MB 140.9 MB/s eta 0:00:02"
     ]
    },
    {
     "name": "stderr",
     "output_type": "stream",
     "text": [
      "IOPub data rate exceeded.\n",
      "The notebook server will temporarily stop sending output\n",
      "to the client in order to avoid crashing it.\n",
      "To change this limit, set the config variable\n",
      "`--NotebookApp.iopub_data_rate_limit`.\n",
      "\n",
      "Current values:\n",
      "NotebookApp.iopub_data_rate_limit=1000000.0 (bytes/sec)\n",
      "NotebookApp.rate_limit_window=3.0 (secs)\n",
      "\n"
     ]
    },
    {
     "name": "stdout",
     "output_type": "stream",
     "text": [
      "\u001b[K     |█████████████████████████████▋  | 714.2 MB 136.6 MB/s eta 0:00:01"
     ]
    },
    {
     "name": "stderr",
     "output_type": "stream",
     "text": [
      "IOPub data rate exceeded.\n",
      "The notebook server will temporarily stop sending output\n",
      "to the client in order to avoid crashing it.\n",
      "To change this limit, set the config variable\n",
      "`--NotebookApp.iopub_data_rate_limit`.\n",
      "\n",
      "Current values:\n",
      "NotebookApp.iopub_data_rate_limit=1000000.0 (bytes/sec)\n",
      "NotebookApp.rate_limit_window=3.0 (secs)\n",
      "\n"
     ]
    },
    {
     "name": "stdout",
     "output_type": "stream",
     "text": [
      "\u001b[K     |████████████████████████████████| 770.7 MB 7.2 kB/s \n",
      "\u001b[?25hRequirement already satisfied: numpy in /home/ec2-user/anaconda3/envs/python3/lib/python3.6/site-packages (from torch==1.1.0) (1.19.5)\n",
      "Installing collected packages: torch\n",
      "Successfully installed torch-1.1.0\n"
     ]
    }
   ],
   "source": [
    "!pip install https://download.pytorch.org/whl/cu100/torch-1.1.0-cp36-cp36m-linux_x86_64.whl"
   ]
  },
  {
   "cell_type": "code",
   "execution_count": 4,
   "id": "4d27fec8",
   "metadata": {},
   "outputs": [
    {
     "name": "stdout",
     "output_type": "stream",
     "text": [
      "Requirement already satisfied: torchvision==0.2.2 in /home/ec2-user/anaconda3/envs/python3/lib/python3.6/site-packages (from -r requirements.txt (line 1)) (0.2.2)\n",
      "Requirement already satisfied: tensorboardx==1.6 in /home/ec2-user/anaconda3/envs/python3/lib/python3.6/site-packages (from -r requirements.txt (line 2)) (1.6)\n",
      "Requirement already satisfied: numpy==1.16.2 in /home/ec2-user/anaconda3/envs/python3/lib/python3.6/site-packages (from -r requirements.txt (line 3)) (1.16.2)\n",
      "Requirement already satisfied: addict==2.2.0 in /home/ec2-user/anaconda3/envs/python3/lib/python3.6/site-packages (from -r requirements.txt (line 4)) (2.2.0)\n",
      "Requirement already satisfied: nltk==3.4.5 in /home/ec2-user/anaconda3/envs/python3/lib/python3.6/site-packages (from -r requirements.txt (line 5)) (3.4.5)\n",
      "Requirement already satisfied: pillow==6.2.2 in /home/ec2-user/anaconda3/envs/python3/lib/python3.6/site-packages (from -r requirements.txt (line 6)) (6.2.2)\n",
      "Requirement already satisfied: pyaml==19.4.1 in /home/ec2-user/anaconda3/envs/python3/lib/python3.6/site-packages (from -r requirements.txt (line 7)) (19.4.1)\n",
      "Collecting argparse==1.4.0\n",
      "  Using cached argparse-1.4.0-py2.py3-none-any.whl (23 kB)\n",
      "Requirement already satisfied: torch in /home/ec2-user/anaconda3/envs/python3/lib/python3.6/site-packages (from torchvision==0.2.2->-r requirements.txt (line 1)) (1.1.0)\n",
      "Requirement already satisfied: six in /home/ec2-user/anaconda3/envs/python3/lib/python3.6/site-packages (from torchvision==0.2.2->-r requirements.txt (line 1)) (1.15.0)\n",
      "Requirement already satisfied: tqdm==4.19.9 in /home/ec2-user/anaconda3/envs/python3/lib/python3.6/site-packages (from torchvision==0.2.2->-r requirements.txt (line 1)) (4.19.9)\n",
      "Requirement already satisfied: protobuf>=3.2.0 in /home/ec2-user/anaconda3/envs/python3/lib/python3.6/site-packages (from tensorboardx==1.6->-r requirements.txt (line 2)) (3.15.2)\n",
      "Requirement already satisfied: PyYAML in /home/ec2-user/anaconda3/envs/python3/lib/python3.6/site-packages (from pyaml==19.4.1->-r requirements.txt (line 7)) (5.4.1)\n",
      "Installing collected packages: argparse\n",
      "Successfully installed argparse-1.4.0\n"
     ]
    }
   ],
   "source": [
    "!pip install -r requirements.txt"
   ]
  },
  {
   "cell_type": "code",
   "execution_count": 4,
   "id": "6b5f4741",
   "metadata": {},
   "outputs": [
    {
     "name": "stderr",
     "output_type": "stream",
     "text": [
      "[nltk_data] Downloading package punkt to /home/ec2-user/nltk_data...\n",
      "[nltk_data]   Unzipping tokenizers/punkt.zip.\n"
     ]
    },
    {
     "data": {
      "text/plain": [
       "True"
      ]
     },
     "execution_count": 4,
     "metadata": {},
     "output_type": "execute_result"
    }
   ],
   "source": [
    "import nltk\n",
    "nltk.download('punkt')"
   ]
  },
  {
   "cell_type": "code",
   "execution_count": 5,
   "id": "d82b9187",
   "metadata": {},
   "outputs": [
    {
     "name": "stderr",
     "output_type": "stream",
     "text": [
      "/home/ec2-user/anaconda3/envs/python3/lib/python3.6/site-packages/ipykernel/__main__.py:4: UserWarning: torch.cholesky is deprecated in favor of torch.linalg.cholesky and will be removed in a future PyTorch release.\n",
      "L = torch.cholesky(A)\n",
      "should be replaced with\n",
      "L = torch.linalg.cholesky(A)\n",
      "and\n",
      "U = torch.cholesky(A, upper=True)\n",
      "should be replaced with\n",
      "U = torch.linalg.cholesky(A.transpose(-2, -1).conj()).transpose(-2, -1).conj() (Triggered internally at  ../aten/src/ATen/native/BatchLinearAlgebra.cpp:1284.)\n"
     ]
    },
    {
     "data": {
      "text/plain": [
       "tensor([[1., 0.],\n",
       "        [0., 1.]], device='cuda:0')"
      ]
     },
     "execution_count": 5,
     "metadata": {},
     "output_type": "execute_result"
    }
   ],
   "source": [
    "import torch\n",
    "                                                                                                                                                                                                                                                                                                                                                                                                                                                                                                                                                                          \n",
    "cov = torch.eye(2).to(\"cuda\")                                                                                                                                                                                                                                                        \n",
    "torch.cholesky(cov) "
   ]
  },
  {
   "cell_type": "code",
   "execution_count": null,
   "id": "8067ef00",
   "metadata": {},
   "outputs": [],
   "source": []
  },
  {
   "cell_type": "code",
   "execution_count": null,
   "id": "b7b4470a",
   "metadata": {},
   "outputs": [],
   "source": []
  }
 ],
 "metadata": {
  "kernelspec": {
   "display_name": "conda_python3",
   "language": "python",
   "name": "conda_python3"
  },
  "language_info": {
   "codemirror_mode": {
    "name": "ipython",
    "version": 3
   },
   "file_extension": ".py",
   "mimetype": "text/x-python",
   "name": "python",
   "nbconvert_exporter": "python",
   "pygments_lexer": "ipython3",
   "version": "3.6.13"
  }
 },
 "nbformat": 4,
 "nbformat_minor": 5
}
