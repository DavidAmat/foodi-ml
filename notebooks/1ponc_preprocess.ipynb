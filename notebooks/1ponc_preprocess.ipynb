{
 "cells": [
  {
   "cell_type": "code",
   "execution_count": 97,
   "id": "8092a80c",
   "metadata": {},
   "outputs": [],
   "source": [
    "import os\n",
    "import numpy as np\n",
    "import pandas as pd\n",
    "import multiprocessing\n",
    "import sys\n",
    "import json\n",
    "from tqdm import tqdm\n",
    "import shutil\n",
    "\n",
    "#os.chdir(\"/home/ec2-user/SageMaker/foodi-ml/notebooks/\")"
   ]
  },
  {
   "cell_type": "code",
   "execution_count": 98,
   "id": "6eb26462",
   "metadata": {},
   "outputs": [
    {
     "data": {
      "text/plain": [
       "'1.9.1+cu102'"
      ]
     },
     "execution_count": 98,
     "metadata": {},
     "output_type": "execute_result"
    }
   ],
   "source": [
    "import torch\n",
    "torch.__version__"
   ]
  },
  {
   "cell_type": "code",
   "execution_count": 99,
   "id": "b274ac2b",
   "metadata": {},
   "outputs": [],
   "source": [
    "os.chdir(\"/home/ec2-user/SageMaker/foodi-ml/\")\n",
    "from retrieval.data.tokenizer import Tokenizer"
   ]
  },
  {
   "cell_type": "markdown",
   "id": "e989f345",
   "metadata": {},
   "source": [
    "# Exploration of execution\n",
    "\n",
    "Execution \n",
    "\n",
    "```{bash}\n",
    "cd /home/ec2-user/SageMaker/foodi-ml\n",
    "source activate python3\n",
    "export DATA_PATH=/home/ec2-user/SageMaker/dataset/\n",
    "python run.py options/adapt/foodi-ml/i2t.yaml\n",
    "\n",
    "#watch -n 1 \"nvidia-smi\"\n",
    "```"
   ]
  },
  {
   "cell_type": "markdown",
   "id": "40b35958",
   "metadata": {},
   "source": [
    "# Configurations"
   ]
  },
  {
   "cell_type": "code",
   "execution_count": 100,
   "id": "ec848b36",
   "metadata": {},
   "outputs": [],
   "source": [
    "PATH_DATA = '/home/ec2-user/SageMaker/dataset/'\n",
    "PATH_FOODI = '/home/ec2-user/SageMaker/foodi-ml'\n",
    "DATASET_CSV = 'glovo-foodi-ml-dataset.csv'\n",
    "\n",
    "conf = {\n",
    "    \"S3_BUCKET\": 'glovo-products-dataset-d1c9720d',\n",
    "    \"S3_KEY_DATASET\": DATASET_CSV,\n",
    "    \"LOCAL_RAW_DATASET\": os.path.join(PATH_DATA, DATASET_CSV),\n",
    "    \"LOCAL_DATASET\": os.path.join(PATH_DATA, 'samples'),\n",
    "    \"LOCAL_IMAGES\": os.path.join(PATH_DATA, 'dataset'),\n",
    "    \"LOCAL_VOCAB\": os.path.join(PATH_FOODI, '.vocab_cache/foodiml_vocab.json'),\n",
    "    \"pth_dwn_samples\": '/home/ec2-user/SageMaker/dataset/',\n",
    "    \"pth_dwn_images\": '/home/ec2-user/SageMaker/dataset/dataset/',\n",
    "    \"pth_vocab\": '/home/ec2-user/SageMaker/foodi-ml/.vocab_cache/foodiml_vocab.json',\n",
    "    \"pth_dataset_json\": '/home/ec2-user/SageMaker/dataset/dataset_foodiml.json',\n",
    "}"
   ]
  },
  {
   "cell_type": "markdown",
   "id": "8bb27cf3",
   "metadata": {},
   "source": [
    "# Read all samples"
   ]
  },
  {
   "cell_type": "code",
   "execution_count": 101,
   "id": "cb543e9f",
   "metadata": {},
   "outputs": [],
   "source": [
    "samples = pd.read_csv(os.path.join(conf['LOCAL_RAW_DATASET']))"
   ]
  },
  {
   "cell_type": "code",
   "execution_count": 102,
   "id": "10e4243e",
   "metadata": {},
   "outputs": [
    {
     "data": {
      "text/plain": [
       "(10000, 5)"
      ]
     },
     "execution_count": 102,
     "metadata": {},
     "output_type": "execute_result"
    }
   ],
   "source": [
    "samples.shape"
   ]
  },
  {
   "cell_type": "code",
   "execution_count": 103,
   "id": "3a48537b",
   "metadata": {},
   "outputs": [
    {
     "data": {
      "text/html": [
       "<div>\n",
       "<style scoped>\n",
       "    .dataframe tbody tr th:only-of-type {\n",
       "        vertical-align: middle;\n",
       "    }\n",
       "\n",
       "    .dataframe tbody tr th {\n",
       "        vertical-align: top;\n",
       "    }\n",
       "\n",
       "    .dataframe thead th {\n",
       "        text-align: right;\n",
       "    }\n",
       "</style>\n",
       "<table border=\"1\" class=\"dataframe\">\n",
       "  <thead>\n",
       "    <tr style=\"text-align: right;\">\n",
       "      <th></th>\n",
       "      <th>Unnamed: 0</th>\n",
       "      <th>img_id</th>\n",
       "      <th>caption</th>\n",
       "      <th>s3_path</th>\n",
       "      <th>split</th>\n",
       "    </tr>\n",
       "  </thead>\n",
       "  <tbody>\n",
       "    <tr>\n",
       "      <th>0</th>\n",
       "      <td>0</td>\n",
       "      <td>1760256</td>\n",
       "      <td>menú focaccia italiana menú para todas horas i...</td>\n",
       "      <td>/home/ec2-user/SageMaker/dataset/dataset/HRZXK...</td>\n",
       "      <td>train</td>\n",
       "    </tr>\n",
       "    <tr>\n",
       "      <th>1</th>\n",
       "      <td>1</td>\n",
       "      <td>1529759</td>\n",
       "      <td>guacamole entrantes aguacate y chile verde aco...</td>\n",
       "      <td>/home/ec2-user/SageMaker/dataset/dataset/QGFTP...</td>\n",
       "      <td>train</td>\n",
       "    </tr>\n",
       "    <tr>\n",
       "      <th>2</th>\n",
       "      <td>2</td>\n",
       "      <td>1388031</td>\n",
       "      <td>dia vital cookies paquete 185 gr con chocolate...</td>\n",
       "      <td>/home/ec2-user/SageMaker/dataset/dataset/BFDKZ...</td>\n",
       "      <td>train</td>\n",
       "    </tr>\n",
       "    <tr>\n",
       "      <th>3</th>\n",
       "      <td>3</td>\n",
       "      <td>1633721</td>\n",
       "      <td>frijoles enteros negros ducal 823gr. frijoles ...</td>\n",
       "      <td>/home/ec2-user/SageMaker/dataset/dataset/YJWRK...</td>\n",
       "      <td>train</td>\n",
       "    </tr>\n",
       "    <tr>\n",
       "      <th>4</th>\n",
       "      <td>4</td>\n",
       "      <td>1791027</td>\n",
       "      <td>fanta naranja botella 1l bebidas nan</td>\n",
       "      <td>/home/ec2-user/SageMaker/dataset/dataset/BFDKZ...</td>\n",
       "      <td>train</td>\n",
       "    </tr>\n",
       "  </tbody>\n",
       "</table>\n",
       "</div>"
      ],
      "text/plain": [
       "   Unnamed: 0   img_id                                            caption  \\\n",
       "0           0  1760256  menú focaccia italiana menú para todas horas i...   \n",
       "1           1  1529759  guacamole entrantes aguacate y chile verde aco...   \n",
       "2           2  1388031  dia vital cookies paquete 185 gr con chocolate...   \n",
       "3           3  1633721  frijoles enteros negros ducal 823gr. frijoles ...   \n",
       "4           4  1791027               fanta naranja botella 1l bebidas nan   \n",
       "\n",
       "                                             s3_path  split  \n",
       "0  /home/ec2-user/SageMaker/dataset/dataset/HRZXK...  train  \n",
       "1  /home/ec2-user/SageMaker/dataset/dataset/QGFTP...  train  \n",
       "2  /home/ec2-user/SageMaker/dataset/dataset/BFDKZ...  train  \n",
       "3  /home/ec2-user/SageMaker/dataset/dataset/YJWRK...  train  \n",
       "4  /home/ec2-user/SageMaker/dataset/dataset/BFDKZ...  train  "
      ]
     },
     "execution_count": 103,
     "metadata": {},
     "output_type": "execute_result"
    }
   ],
   "source": [
    "samples.head()"
   ]
  },
  {
   "cell_type": "code",
   "execution_count": 75,
   "id": "6d90e480",
   "metadata": {},
   "outputs": [
    {
     "data": {
      "text/plain": [
       "(10000, 5)"
      ]
     },
     "execution_count": 75,
     "metadata": {},
     "output_type": "execute_result"
    }
   ],
   "source": [
    "samples.shape"
   ]
  },
  {
   "cell_type": "code",
   "execution_count": 76,
   "id": "a755f9b0",
   "metadata": {},
   "outputs": [
    {
     "data": {
      "text/plain": [
       "'/home/ec2-user/SageMaker/dataset/dataset/HRZXKKR_0005056_1147268051.png'"
      ]
     },
     "execution_count": 76,
     "metadata": {},
     "output_type": "execute_result"
    }
   ],
   "source": [
    "samples[\"s3_path\"].iloc[0]"
   ]
  },
  {
   "cell_type": "code",
   "execution_count": 77,
   "id": "b15afcaa",
   "metadata": {},
   "outputs": [
    {
     "data": {
      "text/plain": [
       "True"
      ]
     },
     "execution_count": 77,
     "metadata": {},
     "output_type": "execute_result"
    }
   ],
   "source": [
    "os.path.exists(samples[\"s3_path\"].iloc[0])"
   ]
  },
  {
   "cell_type": "code",
   "execution_count": 83,
   "id": "ed8806f8",
   "metadata": {},
   "outputs": [
    {
     "data": {
      "text/plain": [
       "'frijoles enteros negros ducal 823gr. frijoles enteros cocidos nan'"
      ]
     },
     "execution_count": 83,
     "metadata": {},
     "output_type": "execute_result"
    }
   ],
   "source": [
    "samples[\"caption\"][3]"
   ]
  },
  {
   "cell_type": "markdown",
   "id": "d7466224",
   "metadata": {},
   "source": [
    "## 1) Create sentences"
   ]
  },
  {
   "cell_type": "code",
   "execution_count": 10,
   "id": "57ee9c4e",
   "metadata": {},
   "outputs": [],
   "source": [
    "samples[\"sentence\"] = \\\n",
    "    np.where(samples[\"product_name\"], samples[\"product_name\"].astype(str), \"\") + \" \" + \\\n",
    "    np.where(samples[\"collection_section\"], samples[\"collection_section\"].astype(str), \"\") + \" \" + \\\n",
    "    np.where(samples[\"product_description\"], samples[\"product_description\"].astype(str), \"\")\n",
    "\n",
    "samples[\"sentence\"] = samples[\"sentence\"].str.lower()\n",
    "samples.rename(columns={'Unnamed: 0': 'idx'}, inplace=True)"
   ]
  },
  {
   "cell_type": "markdown",
   "id": "5473f649",
   "metadata": {},
   "source": [
    "### 1.1) Fit tokenizer"
   ]
  },
  {
   "cell_type": "code",
   "execution_count": 53,
   "id": "a8e6afb3",
   "metadata": {},
   "outputs": [],
   "source": [
    "os.chdir(PATH_FOODI)\n",
    "from retrieval.data.tokenizer import Tokenizer"
   ]
  },
  {
   "cell_type": "code",
   "execution_count": 54,
   "id": "0c9a6766",
   "metadata": {},
   "outputs": [
    {
     "name": "stderr",
     "output_type": "stream",
     "text": [
      "[nltk_data] Downloading package punkt to /home/ec2-user/nltk_data...\n",
      "[nltk_data]   Package punkt is already up-to-date!\n"
     ]
    }
   ],
   "source": [
    "# 1) Get all sentences \n",
    "sentences = samples[\"sentence\"].values\n",
    "\n",
    "# 2) Fit Tokenizer with senteces (CAREFUL, takes 6-7 min)\n",
    "tokenizer = Tokenizer(vocab_path=None, download_tokenizer=True)"
   ]
  },
  {
   "cell_type": "code",
   "execution_count": 55,
   "id": "67c886dd",
   "metadata": {},
   "outputs": [
    {
     "name": "stderr",
     "output_type": "stream",
     "text": [
      "100%|██████████| 2887444/2887444 [06:46<00:00, 7094.59it/s]\n"
     ]
    }
   ],
   "source": [
    "# Fit tokenize\n",
    "vocab = tokenizer.fit(sentences)"
   ]
  },
  {
   "cell_type": "code",
   "execution_count": 74,
   "id": "b7de2c3d",
   "metadata": {},
   "outputs": [
    {
     "data": {
      "text/plain": [
       "245967"
      ]
     },
     "execution_count": 74,
     "metadata": {},
     "output_type": "execute_result"
    }
   ],
   "source": [
    "len(vocab.word2idx)"
   ]
  },
  {
   "cell_type": "code",
   "execution_count": 57,
   "id": "a870ba96",
   "metadata": {},
   "outputs": [
    {
     "name": "stdout",
     "output_type": "stream",
     "text": [
      "CPU times: user 334 ms, sys: 0 ns, total: 334 ms\n",
      "Wall time: 341 ms\n"
     ]
    }
   ],
   "source": [
    "%%time\n",
    "# 3) Saving vocabulary\n",
    "tokenizer.save(conf['LOCAL_VOCAB'])"
   ]
  },
  {
   "cell_type": "code",
   "execution_count": 75,
   "id": "0303792f",
   "metadata": {},
   "outputs": [
    {
     "data": {
      "text/plain": [
       "245967"
      ]
     },
     "execution_count": 75,
     "metadata": {},
     "output_type": "execute_result"
    }
   ],
   "source": [
    "# 4) Load if already saved\n",
    "tokenizer = tokenizer.load(conf['LOCAL_VOCAB'])\n",
    "len(tokenizer.vocab)"
   ]
  },
  {
   "cell_type": "code",
   "execution_count": 59,
   "id": "3aae9a9c",
   "metadata": {},
   "outputs": [
    {
     "name": "stderr",
     "output_type": "stream",
     "text": [
      "[nltk_data] Downloading package punkt to /home/ec2-user/nltk_data...\n",
      "[nltk_data]   Package punkt is already up-to-date!\n"
     ]
    }
   ],
   "source": [
    "# LOAD equivalent\n",
    "tokenizer_2 = Tokenizer(vocab_path=conf[\"pth_vocab\"], download_tokenizer=True)"
   ]
  },
  {
   "cell_type": "code",
   "execution_count": 60,
   "id": "6d0f339e",
   "metadata": {},
   "outputs": [
    {
     "data": {
      "text/plain": [
       "245967"
      ]
     },
     "execution_count": 60,
     "metadata": {},
     "output_type": "execute_result"
    }
   ],
   "source": [
    "len(tokenizer_2.vocab)"
   ]
  },
  {
   "cell_type": "markdown",
   "id": "423915e2",
   "metadata": {},
   "source": [
    "### 1.2) Creating dataset parquet"
   ]
  },
  {
   "cell_type": "code",
   "execution_count": 36,
   "id": "b2711daf",
   "metadata": {},
   "outputs": [
    {
     "ename": "KeyError",
     "evalue": "\"['sentence', 'subset'] not in index\"",
     "output_type": "error",
     "traceback": [
      "\u001b[0;31m---------------------------------------------------------------------------\u001b[0m",
      "\u001b[0;31mKeyError\u001b[0m                                  Traceback (most recent call last)",
      "\u001b[0;32m<ipython-input-36-27e2029a548e>\u001b[0m in \u001b[0;36m<module>\u001b[0;34m\u001b[0m\n\u001b[1;32m      1\u001b[0m \u001b[0;31m# Keep only necessary columns for modelling\u001b[0m\u001b[0;34m\u001b[0m\u001b[0;34m\u001b[0m\u001b[0;34m\u001b[0m\u001b[0m\n\u001b[0;32m----> 2\u001b[0;31m \u001b[0mfinal_samples\u001b[0m \u001b[0;34m=\u001b[0m \u001b[0msamples\u001b[0m\u001b[0;34m[\u001b[0m\u001b[0;34m[\u001b[0m\u001b[0;34m\"sentence\"\u001b[0m\u001b[0;34m,\u001b[0m \u001b[0;34m\"s3_path\"\u001b[0m\u001b[0;34m,\u001b[0m \u001b[0;34m\"subset\"\u001b[0m\u001b[0;34m]\u001b[0m\u001b[0;34m]\u001b[0m\u001b[0;34m.\u001b[0m\u001b[0mreset_index\u001b[0m\u001b[0;34m(\u001b[0m\u001b[0;34m)\u001b[0m\u001b[0;34m.\u001b[0m\u001b[0mcopy\u001b[0m\u001b[0;34m(\u001b[0m\u001b[0;34m)\u001b[0m\u001b[0;34m\u001b[0m\u001b[0;34m\u001b[0m\u001b[0m\n\u001b[0m\u001b[1;32m      3\u001b[0m \u001b[0mfinal_samples\u001b[0m\u001b[0;34m.\u001b[0m\u001b[0mrename\u001b[0m\u001b[0;34m(\u001b[0m\u001b[0mcolumns\u001b[0m\u001b[0;34m=\u001b[0m\u001b[0;34m{\u001b[0m\u001b[0;34m\"sentence\"\u001b[0m\u001b[0;34m:\u001b[0m \u001b[0;34m\"caption\"\u001b[0m\u001b[0;34m}\u001b[0m\u001b[0;34m,\u001b[0m \u001b[0minplace\u001b[0m\u001b[0;34m=\u001b[0m\u001b[0;32mTrue\u001b[0m\u001b[0;34m)\u001b[0m\u001b[0;34m\u001b[0m\u001b[0;34m\u001b[0m\u001b[0m\n\u001b[1;32m      4\u001b[0m \u001b[0mfinal_samples\u001b[0m\u001b[0;34m.\u001b[0m\u001b[0mrename\u001b[0m\u001b[0;34m(\u001b[0m\u001b[0mcolumns\u001b[0m\u001b[0;34m=\u001b[0m\u001b[0;34m{\u001b[0m\u001b[0;34m\"subset\"\u001b[0m\u001b[0;34m:\u001b[0m \u001b[0;34m\"split\"\u001b[0m\u001b[0;34m}\u001b[0m\u001b[0;34m,\u001b[0m \u001b[0minplace\u001b[0m\u001b[0;34m=\u001b[0m\u001b[0;32mTrue\u001b[0m\u001b[0;34m)\u001b[0m\u001b[0;34m\u001b[0m\u001b[0;34m\u001b[0m\u001b[0m\n\u001b[1;32m      5\u001b[0m \u001b[0mfinal_samples\u001b[0m\u001b[0;34m.\u001b[0m\u001b[0mrename\u001b[0m\u001b[0;34m(\u001b[0m\u001b[0mcolumns\u001b[0m\u001b[0;34m=\u001b[0m\u001b[0;34m{\u001b[0m\u001b[0;34m\"index\"\u001b[0m\u001b[0;34m:\u001b[0m \u001b[0;34m\"img_id\"\u001b[0m\u001b[0;34m}\u001b[0m\u001b[0;34m,\u001b[0m \u001b[0minplace\u001b[0m\u001b[0;34m=\u001b[0m\u001b[0;32mTrue\u001b[0m\u001b[0;34m)\u001b[0m\u001b[0;34m\u001b[0m\u001b[0;34m\u001b[0m\u001b[0m\n",
      "\u001b[0;32m~/anaconda3/envs/python3/lib/python3.6/site-packages/pandas/core/frame.py\u001b[0m in \u001b[0;36m__getitem__\u001b[0;34m(self, key)\u001b[0m\n\u001b[1;32m   2910\u001b[0m             \u001b[0;32mif\u001b[0m \u001b[0mis_iterator\u001b[0m\u001b[0;34m(\u001b[0m\u001b[0mkey\u001b[0m\u001b[0;34m)\u001b[0m\u001b[0;34m:\u001b[0m\u001b[0;34m\u001b[0m\u001b[0;34m\u001b[0m\u001b[0m\n\u001b[1;32m   2911\u001b[0m                 \u001b[0mkey\u001b[0m \u001b[0;34m=\u001b[0m \u001b[0mlist\u001b[0m\u001b[0;34m(\u001b[0m\u001b[0mkey\u001b[0m\u001b[0;34m)\u001b[0m\u001b[0;34m\u001b[0m\u001b[0;34m\u001b[0m\u001b[0m\n\u001b[0;32m-> 2912\u001b[0;31m             \u001b[0mindexer\u001b[0m \u001b[0;34m=\u001b[0m \u001b[0mself\u001b[0m\u001b[0;34m.\u001b[0m\u001b[0mloc\u001b[0m\u001b[0;34m.\u001b[0m\u001b[0m_get_listlike_indexer\u001b[0m\u001b[0;34m(\u001b[0m\u001b[0mkey\u001b[0m\u001b[0;34m,\u001b[0m \u001b[0maxis\u001b[0m\u001b[0;34m=\u001b[0m\u001b[0;36m1\u001b[0m\u001b[0;34m,\u001b[0m \u001b[0mraise_missing\u001b[0m\u001b[0;34m=\u001b[0m\u001b[0;32mTrue\u001b[0m\u001b[0;34m)\u001b[0m\u001b[0;34m[\u001b[0m\u001b[0;36m1\u001b[0m\u001b[0;34m]\u001b[0m\u001b[0;34m\u001b[0m\u001b[0;34m\u001b[0m\u001b[0m\n\u001b[0m\u001b[1;32m   2913\u001b[0m \u001b[0;34m\u001b[0m\u001b[0m\n\u001b[1;32m   2914\u001b[0m         \u001b[0;31m# take() does not accept boolean indexers\u001b[0m\u001b[0;34m\u001b[0m\u001b[0;34m\u001b[0m\u001b[0;34m\u001b[0m\u001b[0m\n",
      "\u001b[0;32m~/anaconda3/envs/python3/lib/python3.6/site-packages/pandas/core/indexing.py\u001b[0m in \u001b[0;36m_get_listlike_indexer\u001b[0;34m(self, key, axis, raise_missing)\u001b[0m\n\u001b[1;32m   1252\u001b[0m             \u001b[0mkeyarr\u001b[0m\u001b[0;34m,\u001b[0m \u001b[0mindexer\u001b[0m\u001b[0;34m,\u001b[0m \u001b[0mnew_indexer\u001b[0m \u001b[0;34m=\u001b[0m \u001b[0max\u001b[0m\u001b[0;34m.\u001b[0m\u001b[0m_reindex_non_unique\u001b[0m\u001b[0;34m(\u001b[0m\u001b[0mkeyarr\u001b[0m\u001b[0;34m)\u001b[0m\u001b[0;34m\u001b[0m\u001b[0;34m\u001b[0m\u001b[0m\n\u001b[1;32m   1253\u001b[0m \u001b[0;34m\u001b[0m\u001b[0m\n\u001b[0;32m-> 1254\u001b[0;31m         \u001b[0mself\u001b[0m\u001b[0;34m.\u001b[0m\u001b[0m_validate_read_indexer\u001b[0m\u001b[0;34m(\u001b[0m\u001b[0mkeyarr\u001b[0m\u001b[0;34m,\u001b[0m \u001b[0mindexer\u001b[0m\u001b[0;34m,\u001b[0m \u001b[0maxis\u001b[0m\u001b[0;34m,\u001b[0m \u001b[0mraise_missing\u001b[0m\u001b[0;34m=\u001b[0m\u001b[0mraise_missing\u001b[0m\u001b[0;34m)\u001b[0m\u001b[0;34m\u001b[0m\u001b[0;34m\u001b[0m\u001b[0m\n\u001b[0m\u001b[1;32m   1255\u001b[0m         \u001b[0;32mreturn\u001b[0m \u001b[0mkeyarr\u001b[0m\u001b[0;34m,\u001b[0m \u001b[0mindexer\u001b[0m\u001b[0;34m\u001b[0m\u001b[0;34m\u001b[0m\u001b[0m\n\u001b[1;32m   1256\u001b[0m \u001b[0;34m\u001b[0m\u001b[0m\n",
      "\u001b[0;32m~/anaconda3/envs/python3/lib/python3.6/site-packages/pandas/core/indexing.py\u001b[0m in \u001b[0;36m_validate_read_indexer\u001b[0;34m(self, key, indexer, axis, raise_missing)\u001b[0m\n\u001b[1;32m   1302\u001b[0m             \u001b[0;32mif\u001b[0m \u001b[0mraise_missing\u001b[0m\u001b[0;34m:\u001b[0m\u001b[0;34m\u001b[0m\u001b[0;34m\u001b[0m\u001b[0m\n\u001b[1;32m   1303\u001b[0m                 \u001b[0mnot_found\u001b[0m \u001b[0;34m=\u001b[0m \u001b[0mlist\u001b[0m\u001b[0;34m(\u001b[0m\u001b[0mset\u001b[0m\u001b[0;34m(\u001b[0m\u001b[0mkey\u001b[0m\u001b[0;34m)\u001b[0m \u001b[0;34m-\u001b[0m \u001b[0mset\u001b[0m\u001b[0;34m(\u001b[0m\u001b[0max\u001b[0m\u001b[0;34m)\u001b[0m\u001b[0;34m)\u001b[0m\u001b[0;34m\u001b[0m\u001b[0;34m\u001b[0m\u001b[0m\n\u001b[0;32m-> 1304\u001b[0;31m                 \u001b[0;32mraise\u001b[0m \u001b[0mKeyError\u001b[0m\u001b[0;34m(\u001b[0m\u001b[0;34mf\"{not_found} not in index\"\u001b[0m\u001b[0;34m)\u001b[0m\u001b[0;34m\u001b[0m\u001b[0;34m\u001b[0m\u001b[0m\n\u001b[0m\u001b[1;32m   1305\u001b[0m \u001b[0;34m\u001b[0m\u001b[0m\n\u001b[1;32m   1306\u001b[0m             \u001b[0;31m# we skip the warning on Categorical\u001b[0m\u001b[0;34m\u001b[0m\u001b[0;34m\u001b[0m\u001b[0;34m\u001b[0m\u001b[0m\n",
      "\u001b[0;31mKeyError\u001b[0m: \"['sentence', 'subset'] not in index\""
     ]
    }
   ],
   "source": [
    "# Keep only necessary columns for modelling\n",
    "final_samples = samples[[\"sentence\", \"s3_path\", \"subset\"]].reset_index().copy()\n",
    "final_samples.rename(columns={\"sentence\": \"caption\"}, inplace=True)\n",
    "final_samples.rename(columns={\"subset\": \"split\"}, inplace=True)\n",
    "final_samples.rename(columns={\"index\": \"img_id\"}, inplace=True)"
   ]
  },
  {
   "cell_type": "code",
   "execution_count": 115,
   "id": "4ff6b500",
   "metadata": {},
   "outputs": [],
   "source": [
    "# Remove previous version\n",
    "if os.path.exists(conf[\"LOCAL_DATASET\"]):\n",
    "    shutil.rmtree(conf[\"LOCAL_DATASET\"])"
   ]
  },
  {
   "cell_type": "code",
   "execution_count": null,
   "id": "60526d3b",
   "metadata": {},
   "outputs": [],
   "source": []
  },
  {
   "cell_type": "code",
   "execution_count": 67,
   "id": "6440f7c1",
   "metadata": {},
   "outputs": [],
   "source": [
    "# Save as partitioned parquet\n",
    "samples.to_parquet(\n",
    "    path=conf[\"LOCAL_DATASET\"],\n",
    "    engine=\"pyarrow\",\n",
    "    index=False,\n",
    "    partition_cols=[\"split\"],\n",
    ")"
   ]
  },
  {
   "cell_type": "markdown",
   "id": "900277f5",
   "metadata": {},
   "source": [
    "## Creating dataset json"
   ]
  },
  {
   "cell_type": "code",
   "execution_count": 95,
   "id": "4ce2b7e2",
   "metadata": {},
   "outputs": [],
   "source": [
    "samples = pd.read_parquet(os.path.join(conf['pth_dwn_samples'], \"samples\"), engine = \"pyarrow\")"
   ]
  },
  {
   "cell_type": "code",
   "execution_count": 112,
   "id": "d7e928b5",
   "metadata": {},
   "outputs": [],
   "source": [
    "samples_2=samples.copy()\n",
    "samples_2['caption']=(samples.caption+\" \").str.replace(\" nan \",\"\")"
   ]
  },
  {
   "cell_type": "code",
   "execution_count": 116,
   "id": "eb7ee122",
   "metadata": {},
   "outputs": [],
   "source": [
    "samples_2.to_parquet(\n",
    "    path=conf[\"LOCAL_DATASET\"],\n",
    "    engine=\"pyarrow\",\n",
    "    index=False,\n",
    "    partition_cols=[\"split\"],\n",
    ")"
   ]
  },
  {
   "cell_type": "code",
   "execution_count": 89,
   "id": "0ae05e9c",
   "metadata": {},
   "outputs": [
    {
     "data": {
      "text/html": [
       "<div>\n",
       "<style scoped>\n",
       "    .dataframe tbody tr th:only-of-type {\n",
       "        vertical-align: middle;\n",
       "    }\n",
       "\n",
       "    .dataframe tbody tr th {\n",
       "        vertical-align: top;\n",
       "    }\n",
       "\n",
       "    .dataframe thead th {\n",
       "        text-align: right;\n",
       "    }\n",
       "</style>\n",
       "<table border=\"1\" class=\"dataframe\">\n",
       "  <thead>\n",
       "    <tr style=\"text-align: right;\">\n",
       "      <th></th>\n",
       "      <th>Unnamed: 0</th>\n",
       "      <th>img_id</th>\n",
       "      <th>caption</th>\n",
       "      <th>s3_path</th>\n",
       "      <th>split</th>\n",
       "    </tr>\n",
       "  </thead>\n",
       "  <tbody>\n",
       "    <tr>\n",
       "      <th>0</th>\n",
       "      <td>8500</td>\n",
       "      <td>2640141</td>\n",
       "      <td>te verde carr eco 20 uni espec. te nan</td>\n",
       "      <td>/home/ec2-user/SageMaker/dataset/dataset/PPKWS...</td>\n",
       "      <td>test</td>\n",
       "    </tr>\n",
       "    <tr>\n",
       "      <th>1</th>\n",
       "      <td>8501</td>\n",
       "      <td>2670340</td>\n",
       "      <td>mascarilla color bonte 300ml suavizantes nan</td>\n",
       "      <td>/home/ec2-user/SageMaker/dataset/dataset/VJTTJ...</td>\n",
       "      <td>test</td>\n",
       "    </tr>\n",
       "    <tr>\n",
       "      <th>2</th>\n",
       "      <td>8502</td>\n",
       "      <td>2616896</td>\n",
       "      <td>lemon pie no te quedes sin dulce el ultra famo...</td>\n",
       "      <td>/home/ec2-user/SageMaker/dataset/dataset/YJWRK...</td>\n",
       "      <td>test</td>\n",
       "    </tr>\n",
       "    <tr>\n",
       "      <th>3</th>\n",
       "      <td>8503</td>\n",
       "      <td>2525863</td>\n",
       "      <td>masa de empanadillas la cocinera (160g) masas nan</td>\n",
       "      <td>/home/ec2-user/SageMaker/dataset/dataset/BFDKZ...</td>\n",
       "      <td>test</td>\n",
       "    </tr>\n",
       "    <tr>\n",
       "      <th>4</th>\n",
       "      <td>8504</td>\n",
       "      <td>2673780</td>\n",
       "      <td>botella de vino tinto - altos ibericos d.o. ri...</td>\n",
       "      <td>/home/ec2-user/SageMaker/dataset/dataset/BFDKZ...</td>\n",
       "      <td>test</td>\n",
       "    </tr>\n",
       "    <tr>\n",
       "      <th>...</th>\n",
       "      <td>...</td>\n",
       "      <td>...</td>\n",
       "      <td>...</td>\n",
       "      <td>...</td>\n",
       "      <td>...</td>\n",
       "    </tr>\n",
       "    <tr>\n",
       "      <th>1495</th>\n",
       "      <td>9995</td>\n",
       "      <td>2817796</td>\n",
       "      <td>buñuelos de bacalao solric tapeo frituras nan</td>\n",
       "      <td>/home/ec2-user/SageMaker/dataset/dataset/XLCJM...</td>\n",
       "      <td>test</td>\n",
       "    </tr>\n",
       "    <tr>\n",
       "      <th>1496</th>\n",
       "      <td>9996</td>\n",
       "      <td>2520038</td>\n",
       "      <td>swiss mushroom burg burgers queso, champiñones...</td>\n",
       "      <td>/home/ec2-user/SageMaker/dataset/dataset/SCMSM...</td>\n",
       "      <td>test</td>\n",
       "    </tr>\n",
       "    <tr>\n",
       "      <th>1497</th>\n",
       "      <td>9997</td>\n",
       "      <td>2668881</td>\n",
       "      <td>taquitos brie crujientes cazuelas con coulis d...</td>\n",
       "      <td>/home/ec2-user/SageMaker/dataset/dataset/BHSVG...</td>\n",
       "      <td>test</td>\n",
       "    </tr>\n",
       "    <tr>\n",
       "      <th>1498</th>\n",
       "      <td>9998</td>\n",
       "      <td>2756793</td>\n",
       "      <td>pickapeppa pig wrap wrap chulo y los pokes más...</td>\n",
       "      <td>/home/ec2-user/SageMaker/dataset/dataset/YJWRK...</td>\n",
       "      <td>test</td>\n",
       "    </tr>\n",
       "    <tr>\n",
       "      <th>1499</th>\n",
       "      <td>9999</td>\n",
       "      <td>2716843</td>\n",
       "      <td>rocoto de cebichería 90 gr extras nan</td>\n",
       "      <td>/home/ec2-user/SageMaker/dataset/dataset/BFDKZ...</td>\n",
       "      <td>test</td>\n",
       "    </tr>\n",
       "  </tbody>\n",
       "</table>\n",
       "<p>1500 rows × 5 columns</p>\n",
       "</div>"
      ],
      "text/plain": [
       "      Unnamed: 0   img_id                                            caption  \\\n",
       "0           8500  2640141             te verde carr eco 20 uni espec. te nan   \n",
       "1           8501  2670340       mascarilla color bonte 300ml suavizantes nan   \n",
       "2           8502  2616896  lemon pie no te quedes sin dulce el ultra famo...   \n",
       "3           8503  2525863  masa de empanadillas la cocinera (160g) masas nan   \n",
       "4           8504  2673780  botella de vino tinto - altos ibericos d.o. ri...   \n",
       "...          ...      ...                                                ...   \n",
       "1495        9995  2817796      buñuelos de bacalao solric tapeo frituras nan   \n",
       "1496        9996  2520038  swiss mushroom burg burgers queso, champiñones...   \n",
       "1497        9997  2668881  taquitos brie crujientes cazuelas con coulis d...   \n",
       "1498        9998  2756793  pickapeppa pig wrap wrap chulo y los pokes más...   \n",
       "1499        9999  2716843              rocoto de cebichería 90 gr extras nan   \n",
       "\n",
       "                                                s3_path split  \n",
       "0     /home/ec2-user/SageMaker/dataset/dataset/PPKWS...  test  \n",
       "1     /home/ec2-user/SageMaker/dataset/dataset/VJTTJ...  test  \n",
       "2     /home/ec2-user/SageMaker/dataset/dataset/YJWRK...  test  \n",
       "3     /home/ec2-user/SageMaker/dataset/dataset/BFDKZ...  test  \n",
       "4     /home/ec2-user/SageMaker/dataset/dataset/BFDKZ...  test  \n",
       "...                                                 ...   ...  \n",
       "1495  /home/ec2-user/SageMaker/dataset/dataset/XLCJM...  test  \n",
       "1496  /home/ec2-user/SageMaker/dataset/dataset/SCMSM...  test  \n",
       "1497  /home/ec2-user/SageMaker/dataset/dataset/BHSVG...  test  \n",
       "1498  /home/ec2-user/SageMaker/dataset/dataset/YJWRK...  test  \n",
       "1499  /home/ec2-user/SageMaker/dataset/dataset/BFDKZ...  test  \n",
       "\n",
       "[1500 rows x 5 columns]"
      ]
     },
     "execution_count": 89,
     "metadata": {},
     "output_type": "execute_result"
    }
   ],
   "source": [
    "samples[samples.split=='test']"
   ]
  },
  {
   "cell_type": "code",
   "execution_count": 109,
   "id": "f735f68f",
   "metadata": {},
   "outputs": [
    {
     "data": {
      "text/html": [
       "<div>\n",
       "<style scoped>\n",
       "    .dataframe tbody tr th:only-of-type {\n",
       "        vertical-align: middle;\n",
       "    }\n",
       "\n",
       "    .dataframe tbody tr th {\n",
       "        vertical-align: top;\n",
       "    }\n",
       "\n",
       "    .dataframe thead th {\n",
       "        text-align: right;\n",
       "    }\n",
       "</style>\n",
       "<table border=\"1\" class=\"dataframe\">\n",
       "  <thead>\n",
       "    <tr style=\"text-align: right;\">\n",
       "      <th></th>\n",
       "      <th>Unnamed: 0</th>\n",
       "      <th>img_id</th>\n",
       "      <th>caption</th>\n",
       "      <th>s3_path</th>\n",
       "      <th>split</th>\n",
       "    </tr>\n",
       "  </thead>\n",
       "  <tbody>\n",
       "    <tr>\n",
       "      <th>8610</th>\n",
       "      <td>8610</td>\n",
       "      <td>2840106</td>\n",
       "      <td>prep inf hero nanos naranja galleta (100g) beb...</td>\n",
       "      <td>/home/ec2-user/SageMaker/dataset/dataset/BFDKZ...</td>\n",
       "      <td>test</td>\n",
       "    </tr>\n",
       "  </tbody>\n",
       "</table>\n",
       "</div>"
      ],
      "text/plain": [
       "      Unnamed: 0   img_id                                            caption  \\\n",
       "8610        8610  2840106  prep inf hero nanos naranja galleta (100g) beb...   \n",
       "\n",
       "                                                s3_path split  \n",
       "8610  /home/ec2-user/SageMaker/dataset/dataset/BFDKZ...  test  "
      ]
     },
     "execution_count": 109,
     "metadata": {},
     "output_type": "execute_result"
    }
   ],
   "source": [
    "samples[(samples.caption.apply(lambda x: 'nano' in x)) & (samples.split=='test')]"
   ]
  },
  {
   "cell_type": "code",
   "execution_count": 94,
   "id": "752f7bb0",
   "metadata": {},
   "outputs": [
    {
     "data": {
      "text/html": [
       "<div>\n",
       "<style scoped>\n",
       "    .dataframe tbody tr th:only-of-type {\n",
       "        vertical-align: middle;\n",
       "    }\n",
       "\n",
       "    .dataframe tbody tr th {\n",
       "        vertical-align: top;\n",
       "    }\n",
       "\n",
       "    .dataframe thead th {\n",
       "        text-align: right;\n",
       "    }\n",
       "</style>\n",
       "<table border=\"1\" class=\"dataframe\">\n",
       "  <thead>\n",
       "    <tr style=\"text-align: right;\">\n",
       "      <th></th>\n",
       "      <th>Unnamed: 0</th>\n",
       "      <th>img_id</th>\n",
       "      <th>caption</th>\n",
       "      <th>s3_path</th>\n",
       "      <th>split</th>\n",
       "    </tr>\n",
       "  </thead>\n",
       "  <tbody>\n",
       "    <tr>\n",
       "      <th>1504</th>\n",
       "      <td>4</td>\n",
       "      <td>1791027</td>\n",
       "      <td>fanta naranja botella 1l bebidas nan</td>\n",
       "      <td>/home/ec2-user/SageMaker/dataset/dataset/BFDKZ...</td>\n",
       "      <td>train</td>\n",
       "    </tr>\n",
       "    <tr>\n",
       "      <th>1571</th>\n",
       "      <td>71</td>\n",
       "      <td>921302</td>\n",
       "      <td>fanta naranja (33 cl.) refrescos nan</td>\n",
       "      <td>/home/ec2-user/SageMaker/dataset/dataset/BFDKZ...</td>\n",
       "      <td>train</td>\n",
       "    </tr>\n",
       "    <tr>\n",
       "      <th>1613</th>\n",
       "      <td>113</td>\n",
       "      <td>44696</td>\n",
       "      <td>fanta naranja lata 330ml. bebidas nan</td>\n",
       "      <td>/home/ec2-user/SageMaker/dataset/dataset/BFDKZ...</td>\n",
       "      <td>train</td>\n",
       "    </tr>\n",
       "    <tr>\n",
       "      <th>1978</th>\n",
       "      <td>478</td>\n",
       "      <td>501192</td>\n",
       "      <td>fanta naranja botella (1 l.) bebidas (comidas ...</td>\n",
       "      <td>/home/ec2-user/SageMaker/dataset/dataset/QZWYN...</td>\n",
       "      <td>train</td>\n",
       "    </tr>\n",
       "    <tr>\n",
       "      <th>2006</th>\n",
       "      <td>506</td>\n",
       "      <td>1638172</td>\n",
       "      <td>fanta naranja (33cl.) ¿y una bebida? nan</td>\n",
       "      <td>/home/ec2-user/SageMaker/dataset/dataset/BFDKZ...</td>\n",
       "      <td>train</td>\n",
       "    </tr>\n",
       "    <tr>\n",
       "      <th>...</th>\n",
       "      <td>...</td>\n",
       "      <td>...</td>\n",
       "      <td>...</td>\n",
       "      <td>...</td>\n",
       "      <td>...</td>\n",
       "    </tr>\n",
       "    <tr>\n",
       "      <th>7660</th>\n",
       "      <td>6160</td>\n",
       "      <td>1080870</td>\n",
       "      <td>fanta limón botella 500ml. bebidas sin alcohol...</td>\n",
       "      <td>/home/ec2-user/SageMaker/dataset/dataset/YJWRK...</td>\n",
       "      <td>train</td>\n",
       "    </tr>\n",
       "    <tr>\n",
       "      <th>8200</th>\n",
       "      <td>6700</td>\n",
       "      <td>1932321</td>\n",
       "      <td>fanta limón botella 2l bebidas sin alcohol nan</td>\n",
       "      <td>/home/ec2-user/SageMaker/dataset/dataset/PPBHQ...</td>\n",
       "      <td>train</td>\n",
       "    </tr>\n",
       "    <tr>\n",
       "      <th>8205</th>\n",
       "      <td>6705</td>\n",
       "      <td>1662447</td>\n",
       "      <td>fanta limón bebidas nan</td>\n",
       "      <td>/home/ec2-user/SageMaker/dataset/dataset/HRZXK...</td>\n",
       "      <td>train</td>\n",
       "    </tr>\n",
       "    <tr>\n",
       "      <th>8384</th>\n",
       "      <td>6884</td>\n",
       "      <td>1895036</td>\n",
       "      <td>fanta naranja botella 2l. refrescos nan</td>\n",
       "      <td>/home/ec2-user/SageMaker/dataset/dataset/XSMJM...</td>\n",
       "      <td>train</td>\n",
       "    </tr>\n",
       "    <tr>\n",
       "      <th>8389</th>\n",
       "      <td>6889</td>\n",
       "      <td>1111373</td>\n",
       "      <td>fanta limón botella (2l) refrescos limón nan</td>\n",
       "      <td>/home/ec2-user/SageMaker/dataset/dataset/BFDKZ...</td>\n",
       "      <td>train</td>\n",
       "    </tr>\n",
       "  </tbody>\n",
       "</table>\n",
       "<p>79 rows × 5 columns</p>\n",
       "</div>"
      ],
      "text/plain": [
       "      Unnamed: 0   img_id                                            caption  \\\n",
       "1504           4  1791027               fanta naranja botella 1l bebidas nan   \n",
       "1571          71   921302               fanta naranja (33 cl.) refrescos nan   \n",
       "1613         113    44696              fanta naranja lata 330ml. bebidas nan   \n",
       "1978         478   501192  fanta naranja botella (1 l.) bebidas (comidas ...   \n",
       "2006         506  1638172           fanta naranja (33cl.) ¿y una bebida? nan   \n",
       "...          ...      ...                                                ...   \n",
       "7660        6160  1080870  fanta limón botella 500ml. bebidas sin alcohol...   \n",
       "8200        6700  1932321     fanta limón botella 2l bebidas sin alcohol nan   \n",
       "8205        6705  1662447                            fanta limón bebidas nan   \n",
       "8384        6884  1895036            fanta naranja botella 2l. refrescos nan   \n",
       "8389        6889  1111373       fanta limón botella (2l) refrescos limón nan   \n",
       "\n",
       "                                                s3_path  split  \n",
       "1504  /home/ec2-user/SageMaker/dataset/dataset/BFDKZ...  train  \n",
       "1571  /home/ec2-user/SageMaker/dataset/dataset/BFDKZ...  train  \n",
       "1613  /home/ec2-user/SageMaker/dataset/dataset/BFDKZ...  train  \n",
       "1978  /home/ec2-user/SageMaker/dataset/dataset/QZWYN...  train  \n",
       "2006  /home/ec2-user/SageMaker/dataset/dataset/BFDKZ...  train  \n",
       "...                                                 ...    ...  \n",
       "7660  /home/ec2-user/SageMaker/dataset/dataset/YJWRK...  train  \n",
       "8200  /home/ec2-user/SageMaker/dataset/dataset/PPBHQ...  train  \n",
       "8205  /home/ec2-user/SageMaker/dataset/dataset/HRZXK...  train  \n",
       "8384  /home/ec2-user/SageMaker/dataset/dataset/XSMJM...  train  \n",
       "8389  /home/ec2-user/SageMaker/dataset/dataset/BFDKZ...  train  \n",
       "\n",
       "[79 rows x 5 columns]"
      ]
     },
     "execution_count": 94,
     "metadata": {},
     "output_type": "execute_result"
    }
   ],
   "source": [
    "samples[(samples.caption.apply(lambda x: 'fanta' in x)) & (samples.split=='train')]"
   ]
  },
  {
   "cell_type": "code",
   "execution_count": null,
   "id": "2ab7364a",
   "metadata": {},
   "outputs": [],
   "source": []
  },
  {
   "cell_type": "code",
   "execution_count": 39,
   "id": "650ddb56",
   "metadata": {},
   "outputs": [
    {
     "data": {
      "text/plain": [
       "'/home/ec2-user/SageMaker/dataset/dataset/LSVLHWX_0010245_1571260825.png'"
      ]
     },
     "execution_count": 39,
     "metadata": {},
     "output_type": "execute_result"
    }
   ],
   "source": [
    "samples[\"s3_path\"].iloc[0]"
   ]
  },
  {
   "cell_type": "code",
   "execution_count": 40,
   "id": "f92d8085",
   "metadata": {},
   "outputs": [
    {
     "data": {
      "text/plain": [
       "0        2486724\n",
       "1        2559911\n",
       "2        2504879\n",
       "3        2594561\n",
       "4        2664024\n",
       "          ...   \n",
       "29995    2240203\n",
       "29996    2161931\n",
       "29997    2409413\n",
       "29998    2442251\n",
       "29999    2451420\n",
       "Name: img_id, Length: 30000, dtype: int64"
      ]
     },
     "execution_count": 40,
     "metadata": {},
     "output_type": "execute_result"
    }
   ],
   "source": [
    "samples.img_id"
   ]
  },
  {
   "cell_type": "code",
   "execution_count": 31,
   "id": "08da0cad",
   "metadata": {},
   "outputs": [
    {
     "data": {
      "text/plain": [
       "(30000, 5)"
      ]
     },
     "execution_count": 31,
     "metadata": {},
     "output_type": "execute_result"
    }
   ],
   "source": [
    "samples.shape"
   ]
  },
  {
   "cell_type": "code",
   "execution_count": 8,
   "id": "fd38394d",
   "metadata": {},
   "outputs": [
    {
     "data": {
      "text/plain": [
       "Index(['img_id', 'caption', 's3_path', 'split'], dtype='object')"
      ]
     },
     "execution_count": 8,
     "metadata": {},
     "output_type": "execute_result"
    }
   ],
   "source": [
    "samples.columns"
   ]
  },
  {
   "cell_type": "markdown",
   "id": "103c4704",
   "metadata": {},
   "source": [
    "## Samples for reproducibility"
   ]
  },
  {
   "cell_type": "code",
   "execution_count": 13,
   "id": "795e7aa6",
   "metadata": {},
   "outputs": [
    {
     "data": {
      "text/plain": [
       "['test', 'train', 'val']\n",
       "Categories (3, object): ['test', 'train', 'val']"
      ]
     },
     "execution_count": 13,
     "metadata": {},
     "output_type": "execute_result"
    }
   ],
   "source": [
    "samples.split.unique()"
   ]
  },
  {
   "cell_type": "code",
   "execution_count": 14,
   "id": "8814ed4e",
   "metadata": {},
   "outputs": [],
   "source": [
    "samples_train = samples[samples[\"split\"]==\"train\" and samples[\"\"]].sample(7000)\n",
    "samples_eval = samples[samples[\"split\"]==\"val\"].sample(1500)\n",
    "samples_test = samples[samples[\"split\"]==\"test\"].sample(1500)"
   ]
  },
  {
   "cell_type": "code",
   "execution_count": 15,
   "id": "d0c9833c",
   "metadata": {},
   "outputs": [],
   "source": [
    "mock_dataset = pd.concat([samples_train, samples_eval, samples_test])"
   ]
  },
  {
   "cell_type": "code",
   "execution_count": 16,
   "id": "777fe26d",
   "metadata": {},
   "outputs": [
    {
     "data": {
      "text/plain": [
       "Index(['img_id', 'caption', 's3_path', 'split'], dtype='object')"
      ]
     },
     "execution_count": 16,
     "metadata": {},
     "output_type": "execute_result"
    }
   ],
   "source": [
    "mock_dataset.columns"
   ]
  },
  {
   "cell_type": "code",
   "execution_count": 20,
   "id": "8ab9fdd5",
   "metadata": {},
   "outputs": [],
   "source": [
    "image_paths = mock_dataset.s3_path.to_list()\n",
    "# shutil.copy(image_paths[0], \"/home/ec2-user/SageMaker/dataset/mock_dataset\") # test OK\n",
    "\n",
    "for item in image_paths:\n",
    "    shutil.copy(item, \"/home/ec2-user/SageMaker/dataset/mock_dataset\")"
   ]
  },
  {
   "cell_type": "code",
   "execution_count": 21,
   "id": "3ce25dab",
   "metadata": {},
   "outputs": [],
   "source": [
    "mock_dataset.to_csv(\"/home/ec2-user/SageMaker/dataset/mock_dataset.csv\")"
   ]
  },
  {
   "cell_type": "code",
   "execution_count": 9,
   "id": "99cc2daf",
   "metadata": {},
   "outputs": [],
   "source": [
    "##################################"
   ]
  },
  {
   "cell_type": "code",
   "execution_count": 120,
   "id": "6b063c75",
   "metadata": {},
   "outputs": [],
   "source": [
    "samples_dataset = {\n",
    "    \"images\": [],\n",
    "    \"dataset\": \"foodiml\"\n",
    "}"
   ]
  },
  {
   "cell_type": "code",
   "execution_count": 123,
   "id": "169f7554",
   "metadata": {},
   "outputs": [
    {
     "name": "stderr",
     "output_type": "stream",
     "text": [
      "2501it [00:01, 2189.07it/s]\n"
     ]
    }
   ],
   "source": [
    "for i, row in tqdm(samples.iterrows()):\n",
    "    raw_sentence = row[\"caption\"]\n",
    "    filename = row[\"s3_path\"].split(\"/\")[-1]\n",
    "    sentence_tokens = tokenizer.split_sentence(raw_sentence)\n",
    "    sentence_json = {}\n",
    "    sentence_json[\"imgid\"] = i\n",
    "    sentence_json[\"sentences\"] = [\n",
    "        {\n",
    "            \"tokens\": sentence_tokens,\n",
    "            \"raw\": raw_sentence,\n",
    "            \"imgid\": i\n",
    "        }\n",
    "    ]\n",
    "    sentence_json[\"split\"] = row[\"split\"]\n",
    "    sentence_json[\"filename\"] = filename\n",
    "    samples_dataset[\"images\"].append(sentence_json)\n",
    "    #print(\"raw sentence: \", raw_sentence)\n",
    "    #print(\"filename: \", filename)\n",
    "    #print(\"sentence_tokens :\", sentence_tokens)\n",
    "    #print(\"sentence_json: \", sentence_json)\n",
    "    #print(\"samples_dataset:\", samples_dataset)\n",
    "    "
   ]
  },
  {
   "cell_type": "code",
   "execution_count": 124,
   "id": "c79185ee",
   "metadata": {},
   "outputs": [],
   "source": [
    "# Save dataset_foodiml.json \n",
    "with open(\"/home/ec2-user/SageMaker/dataset/foodiml_json.json\", \"w\") as f:\n",
    "    json.dump(samples_dataset, f)"
   ]
  },
  {
   "cell_type": "markdown",
   "id": "947c6fb6",
   "metadata": {},
   "source": [
    "# GloVE (in case we want to retrain a new GloVE)"
   ]
  },
  {
   "cell_type": "code",
   "execution_count": 87,
   "id": "94822b85",
   "metadata": {},
   "outputs": [
    {
     "name": "stdout",
     "output_type": "stream",
     "text": [
      "Requirement already satisfied: glove_python in /home/ec2-user/anaconda3/envs/python3/lib/python3.6/site-packages (0.1.0)\n",
      "Requirement already satisfied: scipy in /home/ec2-user/anaconda3/envs/python3/lib/python3.6/site-packages (from glove_python) (1.5.3)\n",
      "Requirement already satisfied: numpy in /home/ec2-user/anaconda3/envs/python3/lib/python3.6/site-packages (from glove_python) (1.16.2)\n"
     ]
    }
   ],
   "source": [
    "!pip install glove_python"
   ]
  },
  {
   "cell_type": "code",
   "execution_count": 88,
   "id": "07f1e827",
   "metadata": {},
   "outputs": [],
   "source": [
    "from glove import Corpus, Glove"
   ]
  },
  {
   "cell_type": "code",
   "execution_count": 89,
   "id": "aaad43be",
   "metadata": {},
   "outputs": [],
   "source": [
    "#Creating a corpus object\n",
    "corpus = Corpus() "
   ]
  },
  {
   "cell_type": "code",
   "execution_count": 92,
   "id": "68f9d2c5",
   "metadata": {},
   "outputs": [
    {
     "data": {
      "text/plain": [
       "Index(['img_id', 'caption', 's3_path', 'split'], dtype='object')"
      ]
     },
     "execution_count": 92,
     "metadata": {},
     "output_type": "execute_result"
    }
   ],
   "source": [
    "samples.columns"
   ]
  },
  {
   "cell_type": "code",
   "execution_count": 93,
   "id": "33e0eb69",
   "metadata": {},
   "outputs": [],
   "source": [
    "sentences = list(samples[\"caption\"].values)"
   ]
  },
  {
   "cell_type": "code",
   "execution_count": 94,
   "id": "d41f4719",
   "metadata": {},
   "outputs": [
    {
     "name": "stderr",
     "output_type": "stream",
     "text": [
      "100%|██████████| 2887444/2887444 [06:27<00:00, 7449.51it/s]\n"
     ]
    }
   ],
   "source": [
    "lines = []\n",
    "for sentence in tqdm(sentences):\n",
    "    lines.append(tokenizer.split_sentence(sentence))"
   ]
  },
  {
   "cell_type": "code",
   "execution_count": 95,
   "id": "827e821d",
   "metadata": {},
   "outputs": [
    {
     "name": "stdout",
     "output_type": "stream",
     "text": [
      "CPU times: user 1min 24s, sys: 317 ms, total: 1min 24s\n",
      "Wall time: 1min 24s\n"
     ]
    }
   ],
   "source": [
    "%%time\n",
    "#Training the corpus to generate the co occurence matrix which is used in GloVe\n",
    "corpus.fit(lines, window=5)"
   ]
  },
  {
   "cell_type": "code",
   "execution_count": 96,
   "id": "4c6fec76",
   "metadata": {
    "scrolled": true
   },
   "outputs": [
    {
     "name": "stdout",
     "output_type": "stream",
     "text": [
      "Performing 30 training epochs with 4 threads\n",
      "Epoch 0\n",
      "Epoch 1\n",
      "Epoch 2\n",
      "Epoch 3\n",
      "Epoch 4\n",
      "Epoch 5\n",
      "Epoch 6\n",
      "Epoch 7\n",
      "Epoch 8\n",
      "Epoch 9\n",
      "Epoch 10\n",
      "Epoch 11\n",
      "Epoch 12\n",
      "Epoch 13\n",
      "Epoch 14\n",
      "Epoch 15\n",
      "Epoch 16\n",
      "Epoch 17\n",
      "Epoch 18\n",
      "Epoch 19\n",
      "Epoch 20\n",
      "Epoch 21\n",
      "Epoch 22\n",
      "Epoch 23\n",
      "Epoch 24\n",
      "Epoch 25\n",
      "Epoch 26\n",
      "Epoch 27\n",
      "Epoch 28\n",
      "Epoch 29\n"
     ]
    }
   ],
   "source": [
    "glove = Glove(no_components=300, learning_rate=0.05) # no_components=300 as in abstract.yaml\n",
    "glove.fit(corpus.matrix, epochs=30, no_threads=4, verbose=True)\n",
    "glove.add_dictionary(corpus.dictionary)\n",
    "glove.save('/home/ec2-user/SageMaker/dataset/glove-foodiml.pkl')"
   ]
  },
  {
   "cell_type": "code",
   "execution_count": null,
   "id": "adc721af",
   "metadata": {},
   "outputs": [],
   "source": []
  }
 ],
 "metadata": {
  "kernelspec": {
   "display_name": "conda_python3",
   "language": "python",
   "name": "conda_python3"
  },
  "language_info": {
   "codemirror_mode": {
    "name": "ipython",
    "version": 3
   },
   "file_extension": ".py",
   "mimetype": "text/x-python",
   "name": "python",
   "nbconvert_exporter": "python",
   "pygments_lexer": "ipython3",
   "version": "3.6.13"
  }
 },
 "nbformat": 4,
 "nbformat_minor": 5
}
