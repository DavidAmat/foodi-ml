{
 "cells": [
  {
   "cell_type": "code",
   "execution_count": 51,
   "id": "1efb15b7",
   "metadata": {},
   "outputs": [],
   "source": [
    "import os\n",
    "import numpy as np\n",
    "import pandas as pd\n",
    "import multiprocessing\n",
    "import sys\n",
    "import json\n",
    "from tqdm import tqdm\n",
    "import shutil\n",
    "\n",
    "#os.chdir(\"/home/ec2-user/SageMaker/foodi-ml/notebooks/\")"
   ]
  },
  {
   "cell_type": "code",
   "execution_count": 52,
   "id": "1c591d8a",
   "metadata": {},
   "outputs": [
    {
     "data": {
      "text/plain": [
       "'1.1.0'"
      ]
     },
     "execution_count": 52,
     "metadata": {},
     "output_type": "execute_result"
    }
   ],
   "source": [
    "import torch\n",
    "torch.__version__"
   ]
  },
  {
   "cell_type": "code",
   "execution_count": 53,
   "id": "16a10ed9",
   "metadata": {},
   "outputs": [],
   "source": [
    "os.chdir(\"/home/ec2-user/SageMaker/foodi-ml/\")\n",
    "from retrieval.data.tokenizer import Tokenizer"
   ]
  },
  {
   "cell_type": "markdown",
   "id": "8c4573e9",
   "metadata": {},
   "source": [
    "# Exploration of execution\n",
    "\n",
    "Execution \n",
    "\n",
    "```{bash}\n",
    "cd /home/ec2-user/SageMaker/foodi-ml\n",
    "source activate python3\n",
    "export DATA_PATH=/home/ec2-user/SageMaker/dataset/\n",
    "python run.py options/adapt/foodi-ml/i2t.yaml\n",
    "\n",
    "#watch -n 1 \"nvidia-smi\"\n",
    "```"
   ]
  },
  {
   "cell_type": "markdown",
   "id": "42714b46",
   "metadata": {},
   "source": [
    "# Configurations"
   ]
  },
  {
   "cell_type": "code",
   "execution_count": 54,
   "id": "173087a5",
   "metadata": {},
   "outputs": [],
   "source": [
    "PATH_DATA = '/home/ec2-user/SageMaker/dataset/'\n",
    "PATH_FOODI = '/home/ec2-user/SageMaker/foodi-ml'\n",
    "DATASET_CSV = 'glovo-foodi-ml-dataset.csv'\n",
    "\n",
    "conf = {\n",
    "    \"S3_BUCKET\": 'glovo-products-dataset-d1c9720d',\n",
    "    \"S3_KEY_DATASET\": DATASET_CSV,\n",
    "    \"LOCAL_RAW_DATASET\": os.path.join(PATH_DATA, DATASET_CSV),\n",
    "    \"LOCAL_DATASET\": os.path.join(PATH_DATA, 'samples'),\n",
    "    \"LOCAL_IMAGES\": os.path.join(PATH_DATA, 'dataset'),\n",
    "    \"LOCAL_VOCAB\": os.path.join(PATH_FOODI, '.vocab_cache/foodiml_vocab.json'),\n",
    "    \"pth_dwn_samples\": '/home/ec2-user/SageMaker/dataset/',\n",
    "    \"pth_dwn_images\": '/home/ec2-user/SageMaker/dataset/dataset/',\n",
    "    \"pth_vocab\": '/home/ec2-user/SageMaker/foodi-ml/.vocab_cache/foodiml_vocab.json',\n",
    "    \"pth_dataset_json\": '/home/ec2-user/SageMaker/dataset/dataset_foodiml.json',\n",
    "}"
   ]
  },
  {
   "cell_type": "markdown",
   "id": "44d42595",
   "metadata": {},
   "source": [
    "# Read all samples"
   ]
  },
  {
   "cell_type": "code",
   "execution_count": 55,
   "id": "0e5b0183",
   "metadata": {},
   "outputs": [],
   "source": [
    "samples = pd.read_csv(os.path.join(conf['LOCAL_RAW_DATASET']))"
   ]
  },
  {
   "cell_type": "code",
   "execution_count": 56,
   "id": "a06e794f",
   "metadata": {},
   "outputs": [
    {
     "data": {
      "text/plain": [
       "(2887444, 13)"
      ]
     },
     "execution_count": 56,
     "metadata": {},
     "output_type": "execute_result"
    }
   ],
   "source": [
    "samples.shape"
   ]
  },
  {
   "cell_type": "code",
   "execution_count": 57,
   "id": "4bae57a5",
   "metadata": {},
   "outputs": [
    {
     "data": {
      "text/html": [
       "<div>\n",
       "<style scoped>\n",
       "    .dataframe tbody tr th:only-of-type {\n",
       "        vertical-align: middle;\n",
       "    }\n",
       "\n",
       "    .dataframe tbody tr th {\n",
       "        vertical-align: top;\n",
       "    }\n",
       "\n",
       "    .dataframe thead th {\n",
       "        text-align: right;\n",
       "    }\n",
       "</style>\n",
       "<table border=\"1\" class=\"dataframe\">\n",
       "  <thead>\n",
       "    <tr style=\"text-align: right;\">\n",
       "      <th></th>\n",
       "      <th>Unnamed: 0</th>\n",
       "      <th>Unnamed: 0.1</th>\n",
       "      <th>country_code</th>\n",
       "      <th>city_code</th>\n",
       "      <th>store_name</th>\n",
       "      <th>product_name</th>\n",
       "      <th>collection_section</th>\n",
       "      <th>product_description</th>\n",
       "      <th>subset</th>\n",
       "      <th>hash</th>\n",
       "      <th>aux_store</th>\n",
       "      <th>HIER</th>\n",
       "      <th>s3_path</th>\n",
       "    </tr>\n",
       "  </thead>\n",
       "  <tbody>\n",
       "    <tr>\n",
       "      <th>0</th>\n",
       "      <td>0</td>\n",
       "      <td>0</td>\n",
       "      <td>CL</td>\n",
       "      <td>STG</td>\n",
       "      <td>AS_000</td>\n",
       "      <td>Savital Shampoo Keratina Y Sabila 550Ml (00001...</td>\n",
       "      <td>Shampoo</td>\n",
       "      <td>NaN</td>\n",
       "      <td>train</td>\n",
       "      <td>3509449892161349181</td>\n",
       "      <td>True</td>\n",
       "      <td>False</td>\n",
       "      <td>/home/ec2-user/SageMaker/dataset/dataset/NZTCK...</td>\n",
       "    </tr>\n",
       "    <tr>\n",
       "      <th>1</th>\n",
       "      <td>1</td>\n",
       "      <td>1</td>\n",
       "      <td>KE</td>\n",
       "      <td>NRK</td>\n",
       "      <td>Cold Stone Creamery Cart</td>\n",
       "      <td>Chocolate Layer Cake™</td>\n",
       "      <td>Promotions - Free waffles on every ice cream p...</td>\n",
       "      <td>Sweet Cream Ice Cream with Crumbles of Chocola...</td>\n",
       "      <td>train</td>\n",
       "      <td>1077526765743747663</td>\n",
       "      <td>False</td>\n",
       "      <td>True</td>\n",
       "      <td>/home/ec2-user/SageMaker/dataset/dataset/YKKVT...</td>\n",
       "    </tr>\n",
       "    <tr>\n",
       "      <th>2</th>\n",
       "      <td>2</td>\n",
       "      <td>2</td>\n",
       "      <td>UA</td>\n",
       "      <td>DNP</td>\n",
       "      <td>Khinkali &amp; Khachapuri / Хинкали &amp; Хачапури</td>\n",
       "      <td>Асорті на компанію</td>\n",
       "      <td>ЗАКУСКИ</td>\n",
       "      <td>балик домашній,грудинка копчена,паштет з печін...</td>\n",
       "      <td>train</td>\n",
       "      <td>-4606644841517710049</td>\n",
       "      <td>False</td>\n",
       "      <td>True</td>\n",
       "      <td>/home/ec2-user/SageMaker/dataset/dataset/ZFSHH...</td>\n",
       "    </tr>\n",
       "    <tr>\n",
       "      <th>3</th>\n",
       "      <td>3</td>\n",
       "      <td>3</td>\n",
       "      <td>CL</td>\n",
       "      <td>STG</td>\n",
       "      <td>AS_001</td>\n",
       "      <td>Suav Vivere Hierbas F Jazmin Pouch 900Cc</td>\n",
       "      <td>Suavizantes</td>\n",
       "      <td>NaN</td>\n",
       "      <td>train</td>\n",
       "      <td>-3420249778599023770</td>\n",
       "      <td>True</td>\n",
       "      <td>False</td>\n",
       "      <td>/home/ec2-user/SageMaker/dataset/dataset/NZTCK...</td>\n",
       "    </tr>\n",
       "    <tr>\n",
       "      <th>4</th>\n",
       "      <td>4</td>\n",
       "      <td>4</td>\n",
       "      <td>CL</td>\n",
       "      <td>STG</td>\n",
       "      <td>AS_000</td>\n",
       "      <td>Leoncio Y El Doctor Veterinario</td>\n",
       "      <td>Infantil</td>\n",
       "      <td>NaN</td>\n",
       "      <td>train</td>\n",
       "      <td>2295647601757404193</td>\n",
       "      <td>True</td>\n",
       "      <td>False</td>\n",
       "      <td>/home/ec2-user/SageMaker/dataset/dataset/NZTCK...</td>\n",
       "    </tr>\n",
       "  </tbody>\n",
       "</table>\n",
       "</div>"
      ],
      "text/plain": [
       "   Unnamed: 0  Unnamed: 0.1 country_code city_code  \\\n",
       "0           0             0           CL       STG   \n",
       "1           1             1           KE       NRK   \n",
       "2           2             2           UA       DNP   \n",
       "3           3             3           CL       STG   \n",
       "4           4             4           CL       STG   \n",
       "\n",
       "                                   store_name  \\\n",
       "0                                      AS_000   \n",
       "1                    Cold Stone Creamery Cart   \n",
       "2  Khinkali & Khachapuri / Хинкали & Хачапури   \n",
       "3                                      AS_001   \n",
       "4                                      AS_000   \n",
       "\n",
       "                                        product_name  \\\n",
       "0  Savital Shampoo Keratina Y Sabila 550Ml (00001...   \n",
       "1                              Chocolate Layer Cake™   \n",
       "2                                 Асорті на компанію   \n",
       "3           Suav Vivere Hierbas F Jazmin Pouch 900Cc   \n",
       "4                    Leoncio Y El Doctor Veterinario   \n",
       "\n",
       "                                  collection_section  \\\n",
       "0                                            Shampoo   \n",
       "1  Promotions - Free waffles on every ice cream p...   \n",
       "2                                            ЗАКУСКИ   \n",
       "3                                        Suavizantes   \n",
       "4                                           Infantil   \n",
       "\n",
       "                                 product_description subset  \\\n",
       "0                                                NaN  train   \n",
       "1  Sweet Cream Ice Cream with Crumbles of Chocola...  train   \n",
       "2  балик домашній,грудинка копчена,паштет з печін...  train   \n",
       "3                                                NaN  train   \n",
       "4                                                NaN  train   \n",
       "\n",
       "                  hash  aux_store   HIER  \\\n",
       "0  3509449892161349181       True  False   \n",
       "1  1077526765743747663      False   True   \n",
       "2 -4606644841517710049      False   True   \n",
       "3 -3420249778599023770       True  False   \n",
       "4  2295647601757404193       True  False   \n",
       "\n",
       "                                             s3_path  \n",
       "0  /home/ec2-user/SageMaker/dataset/dataset/NZTCK...  \n",
       "1  /home/ec2-user/SageMaker/dataset/dataset/YKKVT...  \n",
       "2  /home/ec2-user/SageMaker/dataset/dataset/ZFSHH...  \n",
       "3  /home/ec2-user/SageMaker/dataset/dataset/NZTCK...  \n",
       "4  /home/ec2-user/SageMaker/dataset/dataset/NZTCK...  "
      ]
     },
     "execution_count": 57,
     "metadata": {},
     "output_type": "execute_result"
    }
   ],
   "source": [
    "samples.head()"
   ]
  },
  {
   "cell_type": "code",
   "execution_count": 58,
   "id": "34b595b7",
   "metadata": {},
   "outputs": [
    {
     "data": {
      "text/plain": [
       "(2887444, 13)"
      ]
     },
     "execution_count": 58,
     "metadata": {},
     "output_type": "execute_result"
    }
   ],
   "source": [
    "samples.shape"
   ]
  },
  {
   "cell_type": "code",
   "execution_count": 59,
   "id": "33b9d75f",
   "metadata": {},
   "outputs": [
    {
     "data": {
      "text/plain": [
       "'/home/ec2-user/SageMaker/dataset/dataset/NZTCKFL_0017467_1193055503.png'"
      ]
     },
     "execution_count": 59,
     "metadata": {},
     "output_type": "execute_result"
    }
   ],
   "source": [
    "samples[\"s3_path\"].iloc[0]"
   ]
  },
  {
   "cell_type": "code",
   "execution_count": 60,
   "id": "1d012219",
   "metadata": {},
   "outputs": [],
   "source": [
    "samples = samples.drop_duplicates(['product_name','product_description','collection_section','hash'])"
   ]
  },
  {
   "cell_type": "code",
   "execution_count": 61,
   "id": "72268233",
   "metadata": {},
   "outputs": [
    {
     "name": "stdout",
     "output_type": "stream",
     "text": [
      "/home/ec2-user/SageMaker/dataset/dataset/LNQBTMC_0092690_1654903940.png\n",
      "/home/ec2-user/SageMaker/dataset/dataset/VJTTJQD_0040488_1098020161.png\n",
      "/home/ec2-user/SageMaker/dataset/dataset/PPKWSJR_0004646_60587075.png\n",
      "/home/ec2-user/SageMaker/dataset/dataset/BSCRBMV_0011116_1220714661.png\n",
      "/home/ec2-user/SageMaker/dataset/dataset/VJTTJQD_0214351_1380823197.png\n",
      "/home/ec2-user/SageMaker/dataset/dataset/BFDKZRG_0032872_617098369.png\n",
      "/home/ec2-user/SageMaker/dataset/dataset/BFDKZRG_0036209_809223163.png\n",
      "/home/ec2-user/SageMaker/dataset/dataset/VJTTJQD_0211327_1380809266.png\n",
      "/home/ec2-user/SageMaker/dataset/dataset/VJTTJQD_0213966_1380821411.png\n",
      "/home/ec2-user/SageMaker/dataset/dataset/PPKWSJR_0002867_60584254.png\n",
      "/home/ec2-user/SageMaker/dataset/dataset/VJTTJQD_0206886_1380791874.png\n",
      "/home/ec2-user/SageMaker/dataset/dataset/QPCYVVZ_0009860_1097897031.png\n",
      "/home/ec2-user/SageMaker/dataset/dataset/FZKQYZG_0004222_1586626572.png\n",
      "/home/ec2-user/SageMaker/dataset/dataset/VJTTJQD_0211294_1380809134.png\n",
      "/home/ec2-user/SageMaker/dataset/dataset/GYTGYCG_0016434_1702351010.png\n",
      "/home/ec2-user/SageMaker/dataset/dataset/BFDKZRG_0032867_617097242.png\n",
      "/home/ec2-user/SageMaker/dataset/dataset/GYTGYCG_0017030_1702351898.png\n",
      "/home/ec2-user/SageMaker/dataset/dataset/VJTTJQD_0212459_1380812814.png\n",
      "/home/ec2-user/SageMaker/dataset/dataset/QSMFWRR_0343290_1954774924.png\n",
      "/home/ec2-user/SageMaker/dataset/dataset/QSMFWRR_0431055_2126020785.png\n",
      "/home/ec2-user/SageMaker/dataset/dataset/VJTTJQD_0206597_1380790598.png\n",
      "/home/ec2-user/SageMaker/dataset/dataset/GYTGYCG_0016440_1702351017.png\n",
      "/home/ec2-user/SageMaker/dataset/dataset/VJTTJQD_0214344_1380823105.png\n"
     ]
    }
   ],
   "source": [
    "missing_images = []\n",
    "for p in samples[\"s3_path\"].unique():\n",
    "    if not os.path.exists(p):\n",
    "        print(p)\n",
    "        missing_images.append(p)\n"
   ]
  },
  {
   "cell_type": "code",
   "execution_count": 62,
   "id": "00a7b420",
   "metadata": {},
   "outputs": [
    {
     "data": {
      "text/plain": [
       "(2120964, 13)"
      ]
     },
     "execution_count": 62,
     "metadata": {},
     "output_type": "execute_result"
    }
   ],
   "source": [
    "samples = samples[~samples[\"s3_path\"].isin(missing_images)]\n",
    "samples.shape"
   ]
  },
  {
   "cell_type": "code",
   "execution_count": 63,
   "id": "a134a434",
   "metadata": {},
   "outputs": [
    {
     "data": {
      "text/plain": [
       "Index(['Unnamed: 0', 'Unnamed: 0.1', 'country_code', 'city_code', 'store_name',\n",
       "       'product_name', 'collection_section', 'product_description', 'subset',\n",
       "       'hash', 'aux_store', 'HIER', 's3_path'],\n",
       "      dtype='object')"
      ]
     },
     "execution_count": 63,
     "metadata": {},
     "output_type": "execute_result"
    }
   ],
   "source": [
    "samples.columns"
   ]
  },
  {
   "cell_type": "markdown",
   "id": "c052bab1",
   "metadata": {},
   "source": [
    "## 1) Create sentences"
   ]
  },
  {
   "cell_type": "code",
   "execution_count": 64,
   "id": "cf558568",
   "metadata": {},
   "outputs": [],
   "source": [
    "samples[\"product_description\"].fillna(\"\", inplace=True)\n",
    "samples[\"sentence\"] = \\\n",
    "    np.where(samples[\"product_name\"], samples[\"product_name\"].astype(str), \"\") + \" \" + \\\n",
    "    np.where(samples[\"collection_section\"], samples[\"collection_section\"].astype(str), \"\") + \" \" + \\\n",
    "    np.where(samples[\"product_description\"], samples[\"product_description\"].astype(str), \"\")\n",
    "\n",
    "samples[\"sentence\"] = samples[\"sentence\"].str.lower()\n",
    "samples.rename(columns={'Unnamed: 0': 'idx'}, inplace=True)"
   ]
  },
  {
   "cell_type": "code",
   "execution_count": 65,
   "id": "da51b2bb",
   "metadata": {},
   "outputs": [
    {
     "ename": "SyntaxError",
     "evalue": "invalid syntax (<ipython-input-65-725e7ba462d0>, line 1)",
     "output_type": "error",
     "traceback": [
      "\u001b[0;36m  File \u001b[0;32m\"<ipython-input-65-725e7ba462d0>\"\u001b[0;36m, line \u001b[0;32m1\u001b[0m\n\u001b[0;31m    samples =\u001b[0m\n\u001b[0m              ^\u001b[0m\n\u001b[0;31mSyntaxError\u001b[0m\u001b[0;31m:\u001b[0m invalid syntax\n"
     ]
    }
   ],
   "source": [
    "samples = "
   ]
  },
  {
   "cell_type": "markdown",
   "id": "9415ccd2",
   "metadata": {},
   "source": [
    "### 1.1) Fit tokenizer"
   ]
  },
  {
   "cell_type": "code",
   "execution_count": 66,
   "id": "fff160a9",
   "metadata": {},
   "outputs": [],
   "source": [
    "os.chdir(PATH_FOODI)\n",
    "from retrieval.data.tokenizer import Tokenizer"
   ]
  },
  {
   "cell_type": "code",
   "execution_count": 67,
   "id": "bb380be9",
   "metadata": {},
   "outputs": [
    {
     "name": "stderr",
     "output_type": "stream",
     "text": [
      "[nltk_data] Downloading package punkt to /home/ec2-user/nltk_data...\n",
      "[nltk_data]   Package punkt is already up-to-date!\n"
     ]
    }
   ],
   "source": [
    "# 1) Get all sentences \n",
    "sentences = samples[\"sentence\"].values\n",
    "\n",
    "# 2) Fit Tokenizer with senteces (CAREFUL, takes 6-7 min)\n",
    "tokenizer = Tokenizer(vocab_path=None, download_tokenizer=True)"
   ]
  },
  {
   "cell_type": "code",
   "execution_count": 68,
   "id": "5a0c4917",
   "metadata": {},
   "outputs": [
    {
     "name": "stderr",
     "output_type": "stream",
     "text": [
      " 37%|███▋      | 780731/2120964 [01:55<03:18, 6738.50it/s]\n"
     ]
    },
    {
     "ename": "KeyboardInterrupt",
     "evalue": "",
     "output_type": "error",
     "traceback": [
      "\u001b[0;31m---------------------------------------------------------------------------\u001b[0m",
      "\u001b[0;31mKeyboardInterrupt\u001b[0m                         Traceback (most recent call last)",
      "\u001b[0;32m<ipython-input-68-06cb3d665e07>\u001b[0m in \u001b[0;36m<module>\u001b[0;34m\u001b[0m\n\u001b[1;32m      1\u001b[0m \u001b[0;31m# Fit tokenize\u001b[0m\u001b[0;34m\u001b[0m\u001b[0;34m\u001b[0m\u001b[0;34m\u001b[0m\u001b[0m\n\u001b[0;32m----> 2\u001b[0;31m \u001b[0mvocab\u001b[0m \u001b[0;34m=\u001b[0m \u001b[0mtokenizer\u001b[0m\u001b[0;34m.\u001b[0m\u001b[0mfit\u001b[0m\u001b[0;34m(\u001b[0m\u001b[0msentences\u001b[0m\u001b[0;34m)\u001b[0m\u001b[0;34m\u001b[0m\u001b[0;34m\u001b[0m\u001b[0m\n\u001b[0m",
      "\u001b[0;32m~/SageMaker/foodi-ml/retrieval/data/tokenizer.py\u001b[0m in \u001b[0;36mfit\u001b[0;34m(self, sentences, threshold)\u001b[0m\n\u001b[1;32m     91\u001b[0m         \u001b[0;32mfor\u001b[0m \u001b[0mtokens\u001b[0m \u001b[0;32min\u001b[0m \u001b[0mtqdm\u001b[0m\u001b[0;34m(\u001b[0m\u001b[0msentences\u001b[0m\u001b[0;34m,\u001b[0m \u001b[0mtotal\u001b[0m\u001b[0;34m=\u001b[0m\u001b[0mlen\u001b[0m\u001b[0;34m(\u001b[0m\u001b[0msentences\u001b[0m\u001b[0;34m)\u001b[0m\u001b[0;34m)\u001b[0m\u001b[0;34m:\u001b[0m\u001b[0;34m\u001b[0m\u001b[0;34m\u001b[0m\u001b[0m\n\u001b[1;32m     92\u001b[0m             \u001b[0;32mif\u001b[0m \u001b[0;32mnot\u001b[0m \u001b[0mself\u001b[0m\u001b[0;34m.\u001b[0m\u001b[0mchar_level\u001b[0m\u001b[0;34m:\u001b[0m\u001b[0;34m\u001b[0m\u001b[0;34m\u001b[0m\u001b[0m\n\u001b[0;32m---> 93\u001b[0;31m                 \u001b[0mtokens\u001b[0m \u001b[0;34m=\u001b[0m \u001b[0mself\u001b[0m\u001b[0;34m.\u001b[0m\u001b[0msplit_sentence\u001b[0m\u001b[0;34m(\u001b[0m\u001b[0mtokens\u001b[0m\u001b[0;34m)\u001b[0m\u001b[0;34m\u001b[0m\u001b[0;34m\u001b[0m\u001b[0m\n\u001b[0m\u001b[1;32m     94\u001b[0m             \u001b[0mcounter\u001b[0m\u001b[0;34m.\u001b[0m\u001b[0mupdate\u001b[0m\u001b[0;34m(\u001b[0m\u001b[0mtokens\u001b[0m\u001b[0;34m)\u001b[0m\u001b[0;34m\u001b[0m\u001b[0;34m\u001b[0m\u001b[0m\n\u001b[1;32m     95\u001b[0m \u001b[0;34m\u001b[0m\u001b[0m\n",
      "\u001b[0;32m~/SageMaker/foodi-ml/retrieval/data/tokenizer.py\u001b[0m in \u001b[0;36msplit_sentence\u001b[0;34m(self, sentence)\u001b[0m\n\u001b[1;32m    140\u001b[0m     \u001b[0;32mdef\u001b[0m \u001b[0msplit_sentence\u001b[0m\u001b[0;34m(\u001b[0m\u001b[0mself\u001b[0m\u001b[0;34m,\u001b[0m \u001b[0msentence\u001b[0m\u001b[0;34m)\u001b[0m\u001b[0;34m:\u001b[0m\u001b[0;34m\u001b[0m\u001b[0;34m\u001b[0m\u001b[0m\n\u001b[1;32m    141\u001b[0m         tokens = nltk.tokenize.word_tokenize(\n\u001b[0;32m--> 142\u001b[0;31m             \u001b[0msentence\u001b[0m\u001b[0;34m.\u001b[0m\u001b[0mlower\u001b[0m\u001b[0;34m(\u001b[0m\u001b[0;34m)\u001b[0m\u001b[0;34m\u001b[0m\u001b[0;34m\u001b[0m\u001b[0m\n\u001b[0m\u001b[1;32m    143\u001b[0m         )\n\u001b[1;32m    144\u001b[0m         \u001b[0;32mreturn\u001b[0m \u001b[0mtokens\u001b[0m\u001b[0;34m\u001b[0m\u001b[0;34m\u001b[0m\u001b[0m\n",
      "\u001b[0;32m~/anaconda3/envs/python3/lib/python3.6/site-packages/nltk/tokenize/__init__.py\u001b[0m in \u001b[0;36mword_tokenize\u001b[0;34m(text, language, preserve_line)\u001b[0m\n\u001b[1;32m    142\u001b[0m     \u001b[0;34m:\u001b[0m\u001b[0mtype\u001b[0m \u001b[0mpreserve_line\u001b[0m\u001b[0;34m:\u001b[0m \u001b[0mbool\u001b[0m\u001b[0;34m\u001b[0m\u001b[0;34m\u001b[0m\u001b[0m\n\u001b[1;32m    143\u001b[0m     \"\"\"\n\u001b[0;32m--> 144\u001b[0;31m     \u001b[0msentences\u001b[0m \u001b[0;34m=\u001b[0m \u001b[0;34m[\u001b[0m\u001b[0mtext\u001b[0m\u001b[0;34m]\u001b[0m \u001b[0;32mif\u001b[0m \u001b[0mpreserve_line\u001b[0m \u001b[0;32melse\u001b[0m \u001b[0msent_tokenize\u001b[0m\u001b[0;34m(\u001b[0m\u001b[0mtext\u001b[0m\u001b[0;34m,\u001b[0m \u001b[0mlanguage\u001b[0m\u001b[0;34m)\u001b[0m\u001b[0;34m\u001b[0m\u001b[0;34m\u001b[0m\u001b[0m\n\u001b[0m\u001b[1;32m    145\u001b[0m     return [\n\u001b[1;32m    146\u001b[0m         \u001b[0mtoken\u001b[0m \u001b[0;32mfor\u001b[0m \u001b[0msent\u001b[0m \u001b[0;32min\u001b[0m \u001b[0msentences\u001b[0m \u001b[0;32mfor\u001b[0m \u001b[0mtoken\u001b[0m \u001b[0;32min\u001b[0m \u001b[0m_treebank_word_tokenizer\u001b[0m\u001b[0;34m.\u001b[0m\u001b[0mtokenize\u001b[0m\u001b[0;34m(\u001b[0m\u001b[0msent\u001b[0m\u001b[0;34m)\u001b[0m\u001b[0;34m\u001b[0m\u001b[0;34m\u001b[0m\u001b[0m\n",
      "\u001b[0;32m~/anaconda3/envs/python3/lib/python3.6/site-packages/nltk/tokenize/__init__.py\u001b[0m in \u001b[0;36msent_tokenize\u001b[0;34m(text, language)\u001b[0m\n\u001b[1;32m    104\u001b[0m     \"\"\"\n\u001b[1;32m    105\u001b[0m     \u001b[0mtokenizer\u001b[0m \u001b[0;34m=\u001b[0m \u001b[0mload\u001b[0m\u001b[0;34m(\u001b[0m\u001b[0;34m'tokenizers/punkt/{0}.pickle'\u001b[0m\u001b[0;34m.\u001b[0m\u001b[0mformat\u001b[0m\u001b[0;34m(\u001b[0m\u001b[0mlanguage\u001b[0m\u001b[0;34m)\u001b[0m\u001b[0;34m)\u001b[0m\u001b[0;34m\u001b[0m\u001b[0;34m\u001b[0m\u001b[0m\n\u001b[0;32m--> 106\u001b[0;31m     \u001b[0;32mreturn\u001b[0m \u001b[0mtokenizer\u001b[0m\u001b[0;34m.\u001b[0m\u001b[0mtokenize\u001b[0m\u001b[0;34m(\u001b[0m\u001b[0mtext\u001b[0m\u001b[0;34m)\u001b[0m\u001b[0;34m\u001b[0m\u001b[0;34m\u001b[0m\u001b[0m\n\u001b[0m\u001b[1;32m    107\u001b[0m \u001b[0;34m\u001b[0m\u001b[0m\n\u001b[1;32m    108\u001b[0m \u001b[0;34m\u001b[0m\u001b[0m\n",
      "\u001b[0;32m~/anaconda3/envs/python3/lib/python3.6/site-packages/nltk/tokenize/punkt.py\u001b[0m in \u001b[0;36mtokenize\u001b[0;34m(self, text, realign_boundaries)\u001b[0m\n\u001b[1;32m   1275\u001b[0m         \u001b[0mGiven\u001b[0m \u001b[0ma\u001b[0m \u001b[0mtext\u001b[0m\u001b[0;34m,\u001b[0m \u001b[0mreturns\u001b[0m \u001b[0ma\u001b[0m \u001b[0mlist\u001b[0m \u001b[0mof\u001b[0m \u001b[0mthe\u001b[0m \u001b[0msentences\u001b[0m \u001b[0;32min\u001b[0m \u001b[0mthat\u001b[0m \u001b[0mtext\u001b[0m\u001b[0;34m.\u001b[0m\u001b[0;34m\u001b[0m\u001b[0;34m\u001b[0m\u001b[0m\n\u001b[1;32m   1276\u001b[0m         \"\"\"\n\u001b[0;32m-> 1277\u001b[0;31m         \u001b[0;32mreturn\u001b[0m \u001b[0mlist\u001b[0m\u001b[0;34m(\u001b[0m\u001b[0mself\u001b[0m\u001b[0;34m.\u001b[0m\u001b[0msentences_from_text\u001b[0m\u001b[0;34m(\u001b[0m\u001b[0mtext\u001b[0m\u001b[0;34m,\u001b[0m \u001b[0mrealign_boundaries\u001b[0m\u001b[0;34m)\u001b[0m\u001b[0;34m)\u001b[0m\u001b[0;34m\u001b[0m\u001b[0;34m\u001b[0m\u001b[0m\n\u001b[0m\u001b[1;32m   1278\u001b[0m \u001b[0;34m\u001b[0m\u001b[0m\n\u001b[1;32m   1279\u001b[0m     \u001b[0;32mdef\u001b[0m \u001b[0mdebug_decisions\u001b[0m\u001b[0;34m(\u001b[0m\u001b[0mself\u001b[0m\u001b[0;34m,\u001b[0m \u001b[0mtext\u001b[0m\u001b[0;34m)\u001b[0m\u001b[0;34m:\u001b[0m\u001b[0;34m\u001b[0m\u001b[0;34m\u001b[0m\u001b[0m\n",
      "\u001b[0;32m~/anaconda3/envs/python3/lib/python3.6/site-packages/nltk/tokenize/punkt.py\u001b[0m in \u001b[0;36msentences_from_text\u001b[0;34m(self, text, realign_boundaries)\u001b[0m\n\u001b[1;32m   1329\u001b[0m         \u001b[0mfollows\u001b[0m \u001b[0mthe\u001b[0m \u001b[0mperiod\u001b[0m\u001b[0;34m.\u001b[0m\u001b[0;34m\u001b[0m\u001b[0;34m\u001b[0m\u001b[0m\n\u001b[1;32m   1330\u001b[0m         \"\"\"\n\u001b[0;32m-> 1331\u001b[0;31m         \u001b[0;32mreturn\u001b[0m \u001b[0;34m[\u001b[0m\u001b[0mtext\u001b[0m\u001b[0;34m[\u001b[0m\u001b[0ms\u001b[0m\u001b[0;34m:\u001b[0m\u001b[0me\u001b[0m\u001b[0;34m]\u001b[0m \u001b[0;32mfor\u001b[0m \u001b[0ms\u001b[0m\u001b[0;34m,\u001b[0m \u001b[0me\u001b[0m \u001b[0;32min\u001b[0m \u001b[0mself\u001b[0m\u001b[0;34m.\u001b[0m\u001b[0mspan_tokenize\u001b[0m\u001b[0;34m(\u001b[0m\u001b[0mtext\u001b[0m\u001b[0;34m,\u001b[0m \u001b[0mrealign_boundaries\u001b[0m\u001b[0;34m)\u001b[0m\u001b[0;34m]\u001b[0m\u001b[0;34m\u001b[0m\u001b[0;34m\u001b[0m\u001b[0m\n\u001b[0m\u001b[1;32m   1332\u001b[0m \u001b[0;34m\u001b[0m\u001b[0m\n\u001b[1;32m   1333\u001b[0m     \u001b[0;32mdef\u001b[0m \u001b[0m_slices_from_text\u001b[0m\u001b[0;34m(\u001b[0m\u001b[0mself\u001b[0m\u001b[0;34m,\u001b[0m \u001b[0mtext\u001b[0m\u001b[0;34m)\u001b[0m\u001b[0;34m:\u001b[0m\u001b[0;34m\u001b[0m\u001b[0;34m\u001b[0m\u001b[0m\n",
      "\u001b[0;32m~/anaconda3/envs/python3/lib/python3.6/site-packages/nltk/tokenize/punkt.py\u001b[0m in \u001b[0;36m<listcomp>\u001b[0;34m(.0)\u001b[0m\n\u001b[1;32m   1329\u001b[0m         \u001b[0mfollows\u001b[0m \u001b[0mthe\u001b[0m \u001b[0mperiod\u001b[0m\u001b[0;34m.\u001b[0m\u001b[0;34m\u001b[0m\u001b[0;34m\u001b[0m\u001b[0m\n\u001b[1;32m   1330\u001b[0m         \"\"\"\n\u001b[0;32m-> 1331\u001b[0;31m         \u001b[0;32mreturn\u001b[0m \u001b[0;34m[\u001b[0m\u001b[0mtext\u001b[0m\u001b[0;34m[\u001b[0m\u001b[0ms\u001b[0m\u001b[0;34m:\u001b[0m\u001b[0me\u001b[0m\u001b[0;34m]\u001b[0m \u001b[0;32mfor\u001b[0m \u001b[0ms\u001b[0m\u001b[0;34m,\u001b[0m \u001b[0me\u001b[0m \u001b[0;32min\u001b[0m \u001b[0mself\u001b[0m\u001b[0;34m.\u001b[0m\u001b[0mspan_tokenize\u001b[0m\u001b[0;34m(\u001b[0m\u001b[0mtext\u001b[0m\u001b[0;34m,\u001b[0m \u001b[0mrealign_boundaries\u001b[0m\u001b[0;34m)\u001b[0m\u001b[0;34m]\u001b[0m\u001b[0;34m\u001b[0m\u001b[0;34m\u001b[0m\u001b[0m\n\u001b[0m\u001b[1;32m   1332\u001b[0m \u001b[0;34m\u001b[0m\u001b[0m\n\u001b[1;32m   1333\u001b[0m     \u001b[0;32mdef\u001b[0m \u001b[0m_slices_from_text\u001b[0m\u001b[0;34m(\u001b[0m\u001b[0mself\u001b[0m\u001b[0;34m,\u001b[0m \u001b[0mtext\u001b[0m\u001b[0;34m)\u001b[0m\u001b[0;34m:\u001b[0m\u001b[0;34m\u001b[0m\u001b[0;34m\u001b[0m\u001b[0m\n",
      "\u001b[0;32m~/anaconda3/envs/python3/lib/python3.6/site-packages/nltk/tokenize/punkt.py\u001b[0m in \u001b[0;36mspan_tokenize\u001b[0;34m(self, text, realign_boundaries)\u001b[0m\n\u001b[1;32m   1319\u001b[0m         \u001b[0;32mif\u001b[0m \u001b[0mrealign_boundaries\u001b[0m\u001b[0;34m:\u001b[0m\u001b[0;34m\u001b[0m\u001b[0;34m\u001b[0m\u001b[0m\n\u001b[1;32m   1320\u001b[0m             \u001b[0mslices\u001b[0m \u001b[0;34m=\u001b[0m \u001b[0mself\u001b[0m\u001b[0;34m.\u001b[0m\u001b[0m_realign_boundaries\u001b[0m\u001b[0;34m(\u001b[0m\u001b[0mtext\u001b[0m\u001b[0;34m,\u001b[0m \u001b[0mslices\u001b[0m\u001b[0;34m)\u001b[0m\u001b[0;34m\u001b[0m\u001b[0;34m\u001b[0m\u001b[0m\n\u001b[0;32m-> 1321\u001b[0;31m         \u001b[0;32mfor\u001b[0m \u001b[0msl\u001b[0m \u001b[0;32min\u001b[0m \u001b[0mslices\u001b[0m\u001b[0;34m:\u001b[0m\u001b[0;34m\u001b[0m\u001b[0;34m\u001b[0m\u001b[0m\n\u001b[0m\u001b[1;32m   1322\u001b[0m             \u001b[0;32myield\u001b[0m \u001b[0;34m(\u001b[0m\u001b[0msl\u001b[0m\u001b[0;34m.\u001b[0m\u001b[0mstart\u001b[0m\u001b[0;34m,\u001b[0m \u001b[0msl\u001b[0m\u001b[0;34m.\u001b[0m\u001b[0mstop\u001b[0m\u001b[0;34m)\u001b[0m\u001b[0;34m\u001b[0m\u001b[0;34m\u001b[0m\u001b[0m\n\u001b[1;32m   1323\u001b[0m \u001b[0;34m\u001b[0m\u001b[0m\n",
      "\u001b[0;32m~/anaconda3/envs/python3/lib/python3.6/site-packages/nltk/tokenize/punkt.py\u001b[0m in \u001b[0;36m_realign_boundaries\u001b[0;34m(self, text, slices)\u001b[0m\n\u001b[1;32m   1363\u001b[0m             \u001b[0msl1\u001b[0m \u001b[0;34m=\u001b[0m \u001b[0mslice\u001b[0m\u001b[0;34m(\u001b[0m\u001b[0msl1\u001b[0m\u001b[0;34m.\u001b[0m\u001b[0mstart\u001b[0m \u001b[0;34m+\u001b[0m \u001b[0mrealign\u001b[0m\u001b[0;34m,\u001b[0m \u001b[0msl1\u001b[0m\u001b[0;34m.\u001b[0m\u001b[0mstop\u001b[0m\u001b[0;34m)\u001b[0m\u001b[0;34m\u001b[0m\u001b[0;34m\u001b[0m\u001b[0m\n\u001b[1;32m   1364\u001b[0m             \u001b[0;32mif\u001b[0m \u001b[0;32mnot\u001b[0m \u001b[0msl2\u001b[0m\u001b[0;34m:\u001b[0m\u001b[0;34m\u001b[0m\u001b[0;34m\u001b[0m\u001b[0m\n\u001b[0;32m-> 1365\u001b[0;31m                 \u001b[0;32mif\u001b[0m \u001b[0mtext\u001b[0m\u001b[0;34m[\u001b[0m\u001b[0msl1\u001b[0m\u001b[0;34m]\u001b[0m\u001b[0;34m:\u001b[0m\u001b[0;34m\u001b[0m\u001b[0;34m\u001b[0m\u001b[0m\n\u001b[0m\u001b[1;32m   1366\u001b[0m                     \u001b[0;32myield\u001b[0m \u001b[0msl1\u001b[0m\u001b[0;34m\u001b[0m\u001b[0;34m\u001b[0m\u001b[0m\n\u001b[1;32m   1367\u001b[0m                 \u001b[0;32mcontinue\u001b[0m\u001b[0;34m\u001b[0m\u001b[0;34m\u001b[0m\u001b[0m\n",
      "\u001b[0;31mKeyboardInterrupt\u001b[0m: "
     ]
    }
   ],
   "source": [
    "# Fit tokenize\n",
    "vocab = tokenizer.fit(sentences)"
   ]
  },
  {
   "cell_type": "code",
   "execution_count": null,
   "id": "369a015a",
   "metadata": {},
   "outputs": [],
   "source": [
    "len(vocab.word2idx)"
   ]
  },
  {
   "cell_type": "code",
   "execution_count": null,
   "id": "228df185",
   "metadata": {},
   "outputs": [],
   "source": [
    "%%time\n",
    "# 3) Saving vocabulary\n",
    "tokenizer.save(conf['LOCAL_VOCAB'])"
   ]
  },
  {
   "cell_type": "code",
   "execution_count": null,
   "id": "8054b24c",
   "metadata": {},
   "outputs": [],
   "source": [
    "# 4) Load if already saved\n",
    "tokenizer = tokenizer.load(conf['LOCAL_VOCAB'])\n",
    "len(tokenizer.vocab)"
   ]
  },
  {
   "cell_type": "code",
   "execution_count": null,
   "id": "c3e65e5e",
   "metadata": {},
   "outputs": [],
   "source": [
    "# LOAD equivalent\n",
    "tokenizer_2 = Tokenizer(vocab_path=conf[\"pth_vocab\"], download_tokenizer=True)"
   ]
  },
  {
   "cell_type": "code",
   "execution_count": null,
   "id": "670b4420",
   "metadata": {},
   "outputs": [],
   "source": [
    "len(tokenizer_2.vocab)"
   ]
  },
  {
   "cell_type": "markdown",
   "id": "5982eb83",
   "metadata": {},
   "source": [
    "### 1.2) Creating dataset parquet"
   ]
  },
  {
   "cell_type": "code",
   "execution_count": 29,
   "id": "1509f1f6",
   "metadata": {},
   "outputs": [],
   "source": [
    "# Keep only necessary columns for modelling\n",
    "final_samples = samples[[\"sentence\", \"s3_path\", \"subset\"]].reset_index().copy()\n",
    "final_samples.rename(columns={\"sentence\": \"caption\"}, inplace=True)\n",
    "final_samples.rename(columns={\"subset\": \"split\"}, inplace=True)\n",
    "final_samples.rename(columns={\"index\": \"img_id\"}, inplace=True)"
   ]
  },
  {
   "cell_type": "code",
   "execution_count": 43,
   "id": "f2498b70",
   "metadata": {},
   "outputs": [
    {
     "data": {
      "text/plain": [
       "array(['train', 'val', 'test'], dtype=object)"
      ]
     },
     "execution_count": 43,
     "metadata": {},
     "output_type": "execute_result"
    }
   ],
   "source": [
    "final_samples.split.unique()"
   ]
  },
  {
   "cell_type": "code",
   "execution_count": 32,
   "id": "03adaf49",
   "metadata": {},
   "outputs": [],
   "source": [
    "num_samples_train = (final_samples[\"split\"] == \"train\").sum()"
   ]
  },
  {
   "cell_type": "code",
   "execution_count": 35,
   "id": "7d17c942",
   "metadata": {},
   "outputs": [],
   "source": [
    "subsample_size = int(0.1*num_samples_train)"
   ]
  },
  {
   "cell_type": "code",
   "execution_count": 36,
   "id": "95bfc059",
   "metadata": {},
   "outputs": [
    {
     "data": {
      "text/plain": [
       "157155"
      ]
     },
     "execution_count": 36,
     "metadata": {},
     "output_type": "execute_result"
    }
   ],
   "source": [
    "subsample_size"
   ]
  },
  {
   "cell_type": "code",
   "execution_count": 37,
   "id": "e2d514fa",
   "metadata": {},
   "outputs": [],
   "source": [
    "final_samples_train = final_samples[final_samples[\"split\"]==\"train\"]"
   ]
  },
  {
   "cell_type": "code",
   "execution_count": 38,
   "id": "2fe078ed",
   "metadata": {},
   "outputs": [],
   "source": [
    "ten_percent_train = final_samples_train.sample(n=subsample_size)"
   ]
  },
  {
   "cell_type": "code",
   "execution_count": 39,
   "id": "9b83beef",
   "metadata": {},
   "outputs": [
    {
     "data": {
      "text/plain": [
       "(157155, 4)"
      ]
     },
     "execution_count": 39,
     "metadata": {},
     "output_type": "execute_result"
    }
   ],
   "source": [
    "ten_percent_train.shape"
   ]
  },
  {
   "cell_type": "code",
   "execution_count": 44,
   "id": "77fb678d",
   "metadata": {},
   "outputs": [],
   "source": [
    "final_samples_no_train = final_samples[(final_samples[\"split\"]==\"val\")|(final_samples[\"split\"]==\"test\")]"
   ]
  },
  {
   "cell_type": "code",
   "execution_count": 46,
   "id": "e1d304d0",
   "metadata": {},
   "outputs": [
    {
     "data": {
      "text/plain": [
       "(549410, 4)"
      ]
     },
     "execution_count": 46,
     "metadata": {},
     "output_type": "execute_result"
    }
   ],
   "source": [
    "final_samples_no_train.shape"
   ]
  },
  {
   "cell_type": "code",
   "execution_count": 48,
   "id": "33803660",
   "metadata": {},
   "outputs": [],
   "source": [
    "final_samples = pd.concat([ten_percent_train, final_samples_no_train])"
   ]
  },
  {
   "cell_type": "code",
   "execution_count": 49,
   "id": "eb2b9908",
   "metadata": {},
   "outputs": [],
   "source": [
    "# Remove previous version\n",
    "if os.path.exists(conf[\"LOCAL_DATASET\"]):\n",
    "    shutil.rmtree(conf[\"LOCAL_DATASET\"])"
   ]
  },
  {
   "cell_type": "code",
   "execution_count": null,
   "id": "58aef737",
   "metadata": {},
   "outputs": [],
   "source": [
    "# get 10% of trainin"
   ]
  },
  {
   "cell_type": "code",
   "execution_count": 50,
   "id": "54b26aaa",
   "metadata": {},
   "outputs": [],
   "source": [
    "# Save as partitioned parquet\n",
    "final_samples.to_parquet(\n",
    "    path=conf[\"LOCAL_DATASET\"],\n",
    "    engine=\"pyarrow\",\n",
    "    index=False,\n",
    "    partition_cols=[\"split\"],\n",
    ")"
   ]
  },
  {
   "cell_type": "markdown",
   "id": "f4e379ab",
   "metadata": {},
   "source": [
    "## Creating dataset json"
   ]
  },
  {
   "cell_type": "code",
   "execution_count": 95,
   "id": "a435740a",
   "metadata": {},
   "outputs": [],
   "source": [
    "samples = pd.read_parquet(os.path.join(conf['pth_dwn_samples'], \"samples\"), engine = \"pyarrow\")"
   ]
  },
  {
   "cell_type": "code",
   "execution_count": 112,
   "id": "09fab64a",
   "metadata": {},
   "outputs": [],
   "source": [
    "samples_2=samples.copy()\n",
    "samples_2['caption']=(samples.caption+\" \").str.replace(\" nan \",\"\")"
   ]
  },
  {
   "cell_type": "code",
   "execution_count": 116,
   "id": "9d65fc78",
   "metadata": {},
   "outputs": [],
   "source": [
    "samples_2.to_parquet(\n",
    "    path=conf[\"LOCAL_DATASET\"],\n",
    "    engine=\"pyarrow\",\n",
    "    index=False,\n",
    "    partition_cols=[\"split\"],\n",
    ")"
   ]
  },
  {
   "cell_type": "code",
   "execution_count": 89,
   "id": "eda7de8a",
   "metadata": {},
   "outputs": [
    {
     "data": {
      "text/html": [
       "<div>\n",
       "<style scoped>\n",
       "    .dataframe tbody tr th:only-of-type {\n",
       "        vertical-align: middle;\n",
       "    }\n",
       "\n",
       "    .dataframe tbody tr th {\n",
       "        vertical-align: top;\n",
       "    }\n",
       "\n",
       "    .dataframe thead th {\n",
       "        text-align: right;\n",
       "    }\n",
       "</style>\n",
       "<table border=\"1\" class=\"dataframe\">\n",
       "  <thead>\n",
       "    <tr style=\"text-align: right;\">\n",
       "      <th></th>\n",
       "      <th>Unnamed: 0</th>\n",
       "      <th>img_id</th>\n",
       "      <th>caption</th>\n",
       "      <th>s3_path</th>\n",
       "      <th>split</th>\n",
       "    </tr>\n",
       "  </thead>\n",
       "  <tbody>\n",
       "    <tr>\n",
       "      <th>0</th>\n",
       "      <td>8500</td>\n",
       "      <td>2640141</td>\n",
       "      <td>te verde carr eco 20 uni espec. te nan</td>\n",
       "      <td>/home/ec2-user/SageMaker/dataset/dataset/PPKWS...</td>\n",
       "      <td>test</td>\n",
       "    </tr>\n",
       "    <tr>\n",
       "      <th>1</th>\n",
       "      <td>8501</td>\n",
       "      <td>2670340</td>\n",
       "      <td>mascarilla color bonte 300ml suavizantes nan</td>\n",
       "      <td>/home/ec2-user/SageMaker/dataset/dataset/VJTTJ...</td>\n",
       "      <td>test</td>\n",
       "    </tr>\n",
       "    <tr>\n",
       "      <th>2</th>\n",
       "      <td>8502</td>\n",
       "      <td>2616896</td>\n",
       "      <td>lemon pie no te quedes sin dulce el ultra famo...</td>\n",
       "      <td>/home/ec2-user/SageMaker/dataset/dataset/YJWRK...</td>\n",
       "      <td>test</td>\n",
       "    </tr>\n",
       "    <tr>\n",
       "      <th>3</th>\n",
       "      <td>8503</td>\n",
       "      <td>2525863</td>\n",
       "      <td>masa de empanadillas la cocinera (160g) masas nan</td>\n",
       "      <td>/home/ec2-user/SageMaker/dataset/dataset/BFDKZ...</td>\n",
       "      <td>test</td>\n",
       "    </tr>\n",
       "    <tr>\n",
       "      <th>4</th>\n",
       "      <td>8504</td>\n",
       "      <td>2673780</td>\n",
       "      <td>botella de vino tinto - altos ibericos d.o. ri...</td>\n",
       "      <td>/home/ec2-user/SageMaker/dataset/dataset/BFDKZ...</td>\n",
       "      <td>test</td>\n",
       "    </tr>\n",
       "    <tr>\n",
       "      <th>...</th>\n",
       "      <td>...</td>\n",
       "      <td>...</td>\n",
       "      <td>...</td>\n",
       "      <td>...</td>\n",
       "      <td>...</td>\n",
       "    </tr>\n",
       "    <tr>\n",
       "      <th>1495</th>\n",
       "      <td>9995</td>\n",
       "      <td>2817796</td>\n",
       "      <td>buñuelos de bacalao solric tapeo frituras nan</td>\n",
       "      <td>/home/ec2-user/SageMaker/dataset/dataset/XLCJM...</td>\n",
       "      <td>test</td>\n",
       "    </tr>\n",
       "    <tr>\n",
       "      <th>1496</th>\n",
       "      <td>9996</td>\n",
       "      <td>2520038</td>\n",
       "      <td>swiss mushroom burg burgers queso, champiñones...</td>\n",
       "      <td>/home/ec2-user/SageMaker/dataset/dataset/SCMSM...</td>\n",
       "      <td>test</td>\n",
       "    </tr>\n",
       "    <tr>\n",
       "      <th>1497</th>\n",
       "      <td>9997</td>\n",
       "      <td>2668881</td>\n",
       "      <td>taquitos brie crujientes cazuelas con coulis d...</td>\n",
       "      <td>/home/ec2-user/SageMaker/dataset/dataset/BHSVG...</td>\n",
       "      <td>test</td>\n",
       "    </tr>\n",
       "    <tr>\n",
       "      <th>1498</th>\n",
       "      <td>9998</td>\n",
       "      <td>2756793</td>\n",
       "      <td>pickapeppa pig wrap wrap chulo y los pokes más...</td>\n",
       "      <td>/home/ec2-user/SageMaker/dataset/dataset/YJWRK...</td>\n",
       "      <td>test</td>\n",
       "    </tr>\n",
       "    <tr>\n",
       "      <th>1499</th>\n",
       "      <td>9999</td>\n",
       "      <td>2716843</td>\n",
       "      <td>rocoto de cebichería 90 gr extras nan</td>\n",
       "      <td>/home/ec2-user/SageMaker/dataset/dataset/BFDKZ...</td>\n",
       "      <td>test</td>\n",
       "    </tr>\n",
       "  </tbody>\n",
       "</table>\n",
       "<p>1500 rows × 5 columns</p>\n",
       "</div>"
      ],
      "text/plain": [
       "      Unnamed: 0   img_id                                            caption  \\\n",
       "0           8500  2640141             te verde carr eco 20 uni espec. te nan   \n",
       "1           8501  2670340       mascarilla color bonte 300ml suavizantes nan   \n",
       "2           8502  2616896  lemon pie no te quedes sin dulce el ultra famo...   \n",
       "3           8503  2525863  masa de empanadillas la cocinera (160g) masas nan   \n",
       "4           8504  2673780  botella de vino tinto - altos ibericos d.o. ri...   \n",
       "...          ...      ...                                                ...   \n",
       "1495        9995  2817796      buñuelos de bacalao solric tapeo frituras nan   \n",
       "1496        9996  2520038  swiss mushroom burg burgers queso, champiñones...   \n",
       "1497        9997  2668881  taquitos brie crujientes cazuelas con coulis d...   \n",
       "1498        9998  2756793  pickapeppa pig wrap wrap chulo y los pokes más...   \n",
       "1499        9999  2716843              rocoto de cebichería 90 gr extras nan   \n",
       "\n",
       "                                                s3_path split  \n",
       "0     /home/ec2-user/SageMaker/dataset/dataset/PPKWS...  test  \n",
       "1     /home/ec2-user/SageMaker/dataset/dataset/VJTTJ...  test  \n",
       "2     /home/ec2-user/SageMaker/dataset/dataset/YJWRK...  test  \n",
       "3     /home/ec2-user/SageMaker/dataset/dataset/BFDKZ...  test  \n",
       "4     /home/ec2-user/SageMaker/dataset/dataset/BFDKZ...  test  \n",
       "...                                                 ...   ...  \n",
       "1495  /home/ec2-user/SageMaker/dataset/dataset/XLCJM...  test  \n",
       "1496  /home/ec2-user/SageMaker/dataset/dataset/SCMSM...  test  \n",
       "1497  /home/ec2-user/SageMaker/dataset/dataset/BHSVG...  test  \n",
       "1498  /home/ec2-user/SageMaker/dataset/dataset/YJWRK...  test  \n",
       "1499  /home/ec2-user/SageMaker/dataset/dataset/BFDKZ...  test  \n",
       "\n",
       "[1500 rows x 5 columns]"
      ]
     },
     "execution_count": 89,
     "metadata": {},
     "output_type": "execute_result"
    }
   ],
   "source": [
    "samples[samples.split=='test']"
   ]
  },
  {
   "cell_type": "code",
   "execution_count": 109,
   "id": "77a792ad",
   "metadata": {},
   "outputs": [
    {
     "data": {
      "text/html": [
       "<div>\n",
       "<style scoped>\n",
       "    .dataframe tbody tr th:only-of-type {\n",
       "        vertical-align: middle;\n",
       "    }\n",
       "\n",
       "    .dataframe tbody tr th {\n",
       "        vertical-align: top;\n",
       "    }\n",
       "\n",
       "    .dataframe thead th {\n",
       "        text-align: right;\n",
       "    }\n",
       "</style>\n",
       "<table border=\"1\" class=\"dataframe\">\n",
       "  <thead>\n",
       "    <tr style=\"text-align: right;\">\n",
       "      <th></th>\n",
       "      <th>Unnamed: 0</th>\n",
       "      <th>img_id</th>\n",
       "      <th>caption</th>\n",
       "      <th>s3_path</th>\n",
       "      <th>split</th>\n",
       "    </tr>\n",
       "  </thead>\n",
       "  <tbody>\n",
       "    <tr>\n",
       "      <th>8610</th>\n",
       "      <td>8610</td>\n",
       "      <td>2840106</td>\n",
       "      <td>prep inf hero nanos naranja galleta (100g) beb...</td>\n",
       "      <td>/home/ec2-user/SageMaker/dataset/dataset/BFDKZ...</td>\n",
       "      <td>test</td>\n",
       "    </tr>\n",
       "  </tbody>\n",
       "</table>\n",
       "</div>"
      ],
      "text/plain": [
       "      Unnamed: 0   img_id                                            caption  \\\n",
       "8610        8610  2840106  prep inf hero nanos naranja galleta (100g) beb...   \n",
       "\n",
       "                                                s3_path split  \n",
       "8610  /home/ec2-user/SageMaker/dataset/dataset/BFDKZ...  test  "
      ]
     },
     "execution_count": 109,
     "metadata": {},
     "output_type": "execute_result"
    }
   ],
   "source": [
    "samples[(samples.caption.apply(lambda x: 'nano' in x)) & (samples.split=='test')]"
   ]
  },
  {
   "cell_type": "code",
   "execution_count": 94,
   "id": "24ba2ad0",
   "metadata": {},
   "outputs": [
    {
     "data": {
      "text/html": [
       "<div>\n",
       "<style scoped>\n",
       "    .dataframe tbody tr th:only-of-type {\n",
       "        vertical-align: middle;\n",
       "    }\n",
       "\n",
       "    .dataframe tbody tr th {\n",
       "        vertical-align: top;\n",
       "    }\n",
       "\n",
       "    .dataframe thead th {\n",
       "        text-align: right;\n",
       "    }\n",
       "</style>\n",
       "<table border=\"1\" class=\"dataframe\">\n",
       "  <thead>\n",
       "    <tr style=\"text-align: right;\">\n",
       "      <th></th>\n",
       "      <th>Unnamed: 0</th>\n",
       "      <th>img_id</th>\n",
       "      <th>caption</th>\n",
       "      <th>s3_path</th>\n",
       "      <th>split</th>\n",
       "    </tr>\n",
       "  </thead>\n",
       "  <tbody>\n",
       "    <tr>\n",
       "      <th>1504</th>\n",
       "      <td>4</td>\n",
       "      <td>1791027</td>\n",
       "      <td>fanta naranja botella 1l bebidas nan</td>\n",
       "      <td>/home/ec2-user/SageMaker/dataset/dataset/BFDKZ...</td>\n",
       "      <td>train</td>\n",
       "    </tr>\n",
       "    <tr>\n",
       "      <th>1571</th>\n",
       "      <td>71</td>\n",
       "      <td>921302</td>\n",
       "      <td>fanta naranja (33 cl.) refrescos nan</td>\n",
       "      <td>/home/ec2-user/SageMaker/dataset/dataset/BFDKZ...</td>\n",
       "      <td>train</td>\n",
       "    </tr>\n",
       "    <tr>\n",
       "      <th>1613</th>\n",
       "      <td>113</td>\n",
       "      <td>44696</td>\n",
       "      <td>fanta naranja lata 330ml. bebidas nan</td>\n",
       "      <td>/home/ec2-user/SageMaker/dataset/dataset/BFDKZ...</td>\n",
       "      <td>train</td>\n",
       "    </tr>\n",
       "    <tr>\n",
       "      <th>1978</th>\n",
       "      <td>478</td>\n",
       "      <td>501192</td>\n",
       "      <td>fanta naranja botella (1 l.) bebidas (comidas ...</td>\n",
       "      <td>/home/ec2-user/SageMaker/dataset/dataset/QZWYN...</td>\n",
       "      <td>train</td>\n",
       "    </tr>\n",
       "    <tr>\n",
       "      <th>2006</th>\n",
       "      <td>506</td>\n",
       "      <td>1638172</td>\n",
       "      <td>fanta naranja (33cl.) ¿y una bebida? nan</td>\n",
       "      <td>/home/ec2-user/SageMaker/dataset/dataset/BFDKZ...</td>\n",
       "      <td>train</td>\n",
       "    </tr>\n",
       "    <tr>\n",
       "      <th>...</th>\n",
       "      <td>...</td>\n",
       "      <td>...</td>\n",
       "      <td>...</td>\n",
       "      <td>...</td>\n",
       "      <td>...</td>\n",
       "    </tr>\n",
       "    <tr>\n",
       "      <th>7660</th>\n",
       "      <td>6160</td>\n",
       "      <td>1080870</td>\n",
       "      <td>fanta limón botella 500ml. bebidas sin alcohol...</td>\n",
       "      <td>/home/ec2-user/SageMaker/dataset/dataset/YJWRK...</td>\n",
       "      <td>train</td>\n",
       "    </tr>\n",
       "    <tr>\n",
       "      <th>8200</th>\n",
       "      <td>6700</td>\n",
       "      <td>1932321</td>\n",
       "      <td>fanta limón botella 2l bebidas sin alcohol nan</td>\n",
       "      <td>/home/ec2-user/SageMaker/dataset/dataset/PPBHQ...</td>\n",
       "      <td>train</td>\n",
       "    </tr>\n",
       "    <tr>\n",
       "      <th>8205</th>\n",
       "      <td>6705</td>\n",
       "      <td>1662447</td>\n",
       "      <td>fanta limón bebidas nan</td>\n",
       "      <td>/home/ec2-user/SageMaker/dataset/dataset/HRZXK...</td>\n",
       "      <td>train</td>\n",
       "    </tr>\n",
       "    <tr>\n",
       "      <th>8384</th>\n",
       "      <td>6884</td>\n",
       "      <td>1895036</td>\n",
       "      <td>fanta naranja botella 2l. refrescos nan</td>\n",
       "      <td>/home/ec2-user/SageMaker/dataset/dataset/XSMJM...</td>\n",
       "      <td>train</td>\n",
       "    </tr>\n",
       "    <tr>\n",
       "      <th>8389</th>\n",
       "      <td>6889</td>\n",
       "      <td>1111373</td>\n",
       "      <td>fanta limón botella (2l) refrescos limón nan</td>\n",
       "      <td>/home/ec2-user/SageMaker/dataset/dataset/BFDKZ...</td>\n",
       "      <td>train</td>\n",
       "    </tr>\n",
       "  </tbody>\n",
       "</table>\n",
       "<p>79 rows × 5 columns</p>\n",
       "</div>"
      ],
      "text/plain": [
       "      Unnamed: 0   img_id                                            caption  \\\n",
       "1504           4  1791027               fanta naranja botella 1l bebidas nan   \n",
       "1571          71   921302               fanta naranja (33 cl.) refrescos nan   \n",
       "1613         113    44696              fanta naranja lata 330ml. bebidas nan   \n",
       "1978         478   501192  fanta naranja botella (1 l.) bebidas (comidas ...   \n",
       "2006         506  1638172           fanta naranja (33cl.) ¿y una bebida? nan   \n",
       "...          ...      ...                                                ...   \n",
       "7660        6160  1080870  fanta limón botella 500ml. bebidas sin alcohol...   \n",
       "8200        6700  1932321     fanta limón botella 2l bebidas sin alcohol nan   \n",
       "8205        6705  1662447                            fanta limón bebidas nan   \n",
       "8384        6884  1895036            fanta naranja botella 2l. refrescos nan   \n",
       "8389        6889  1111373       fanta limón botella (2l) refrescos limón nan   \n",
       "\n",
       "                                                s3_path  split  \n",
       "1504  /home/ec2-user/SageMaker/dataset/dataset/BFDKZ...  train  \n",
       "1571  /home/ec2-user/SageMaker/dataset/dataset/BFDKZ...  train  \n",
       "1613  /home/ec2-user/SageMaker/dataset/dataset/BFDKZ...  train  \n",
       "1978  /home/ec2-user/SageMaker/dataset/dataset/QZWYN...  train  \n",
       "2006  /home/ec2-user/SageMaker/dataset/dataset/BFDKZ...  train  \n",
       "...                                                 ...    ...  \n",
       "7660  /home/ec2-user/SageMaker/dataset/dataset/YJWRK...  train  \n",
       "8200  /home/ec2-user/SageMaker/dataset/dataset/PPBHQ...  train  \n",
       "8205  /home/ec2-user/SageMaker/dataset/dataset/HRZXK...  train  \n",
       "8384  /home/ec2-user/SageMaker/dataset/dataset/XSMJM...  train  \n",
       "8389  /home/ec2-user/SageMaker/dataset/dataset/BFDKZ...  train  \n",
       "\n",
       "[79 rows x 5 columns]"
      ]
     },
     "execution_count": 94,
     "metadata": {},
     "output_type": "execute_result"
    }
   ],
   "source": [
    "samples[(samples.caption.apply(lambda x: 'fanta' in x)) & (samples.split=='train')]"
   ]
  },
  {
   "cell_type": "code",
   "execution_count": null,
   "id": "de59de5d",
   "metadata": {},
   "outputs": [],
   "source": []
  },
  {
   "cell_type": "code",
   "execution_count": 39,
   "id": "82539e69",
   "metadata": {},
   "outputs": [
    {
     "data": {
      "text/plain": [
       "'/home/ec2-user/SageMaker/dataset/dataset/LSVLHWX_0010245_1571260825.png'"
      ]
     },
     "execution_count": 39,
     "metadata": {},
     "output_type": "execute_result"
    }
   ],
   "source": [
    "samples[\"s3_path\"].iloc[0]"
   ]
  },
  {
   "cell_type": "code",
   "execution_count": 40,
   "id": "76067a7a",
   "metadata": {},
   "outputs": [
    {
     "data": {
      "text/plain": [
       "0        2486724\n",
       "1        2559911\n",
       "2        2504879\n",
       "3        2594561\n",
       "4        2664024\n",
       "          ...   \n",
       "29995    2240203\n",
       "29996    2161931\n",
       "29997    2409413\n",
       "29998    2442251\n",
       "29999    2451420\n",
       "Name: img_id, Length: 30000, dtype: int64"
      ]
     },
     "execution_count": 40,
     "metadata": {},
     "output_type": "execute_result"
    }
   ],
   "source": [
    "samples.img_id"
   ]
  },
  {
   "cell_type": "code",
   "execution_count": 31,
   "id": "d1214c3b",
   "metadata": {},
   "outputs": [
    {
     "data": {
      "text/plain": [
       "(30000, 5)"
      ]
     },
     "execution_count": 31,
     "metadata": {},
     "output_type": "execute_result"
    }
   ],
   "source": [
    "samples.shape"
   ]
  },
  {
   "cell_type": "code",
   "execution_count": 8,
   "id": "a1dc1392",
   "metadata": {},
   "outputs": [
    {
     "data": {
      "text/plain": [
       "Index(['img_id', 'caption', 's3_path', 'split'], dtype='object')"
      ]
     },
     "execution_count": 8,
     "metadata": {},
     "output_type": "execute_result"
    }
   ],
   "source": [
    "samples.columns"
   ]
  },
  {
   "cell_type": "markdown",
   "id": "e8b26bd0",
   "metadata": {},
   "source": [
    "## Samples for reproducibility"
   ]
  },
  {
   "cell_type": "code",
   "execution_count": 13,
   "id": "9ff44726",
   "metadata": {},
   "outputs": [
    {
     "data": {
      "text/plain": [
       "['test', 'train', 'val']\n",
       "Categories (3, object): ['test', 'train', 'val']"
      ]
     },
     "execution_count": 13,
     "metadata": {},
     "output_type": "execute_result"
    }
   ],
   "source": [
    "samples.split.unique()"
   ]
  },
  {
   "cell_type": "code",
   "execution_count": 14,
   "id": "dde43029",
   "metadata": {},
   "outputs": [],
   "source": [
    "samples_train = samples[samples[\"split\"]==\"train\" and samples[\"\"]].sample(7000)\n",
    "samples_eval = samples[samples[\"split\"]==\"val\"].sample(1500)\n",
    "samples_test = samples[samples[\"split\"]==\"test\"].sample(1500)"
   ]
  },
  {
   "cell_type": "code",
   "execution_count": 15,
   "id": "2ba8a87e",
   "metadata": {},
   "outputs": [],
   "source": [
    "mock_dataset = pd.concat([samples_train, samples_eval, samples_test])"
   ]
  },
  {
   "cell_type": "code",
   "execution_count": 16,
   "id": "b741aece",
   "metadata": {},
   "outputs": [
    {
     "data": {
      "text/plain": [
       "Index(['img_id', 'caption', 's3_path', 'split'], dtype='object')"
      ]
     },
     "execution_count": 16,
     "metadata": {},
     "output_type": "execute_result"
    }
   ],
   "source": [
    "mock_dataset.columns"
   ]
  },
  {
   "cell_type": "code",
   "execution_count": 20,
   "id": "c2bcb21b",
   "metadata": {},
   "outputs": [],
   "source": [
    "image_paths = mock_dataset.s3_path.to_list()\n",
    "# shutil.copy(image_paths[0], \"/home/ec2-user/SageMaker/dataset/mock_dataset\") # test OK\n",
    "\n",
    "for item in image_paths:\n",
    "    shutil.copy(item, \"/home/ec2-user/SageMaker/dataset/mock_dataset\")"
   ]
  },
  {
   "cell_type": "code",
   "execution_count": 21,
   "id": "6de7fe21",
   "metadata": {},
   "outputs": [],
   "source": [
    "mock_dataset.to_csv(\"/home/ec2-user/SageMaker/dataset/mock_dataset.csv\")"
   ]
  },
  {
   "cell_type": "code",
   "execution_count": 9,
   "id": "8414b9dd",
   "metadata": {},
   "outputs": [],
   "source": [
    "##################################"
   ]
  },
  {
   "cell_type": "code",
   "execution_count": 120,
   "id": "1ab26cbf",
   "metadata": {},
   "outputs": [],
   "source": [
    "samples_dataset = {\n",
    "    \"images\": [],\n",
    "    \"dataset\": \"foodiml\"\n",
    "}"
   ]
  },
  {
   "cell_type": "code",
   "execution_count": 123,
   "id": "23e6414f",
   "metadata": {},
   "outputs": [
    {
     "name": "stderr",
     "output_type": "stream",
     "text": [
      "2501it [00:01, 2189.07it/s]\n"
     ]
    }
   ],
   "source": [
    "for i, row in tqdm(samples.iterrows()):\n",
    "    raw_sentence = row[\"caption\"]\n",
    "    filename = row[\"s3_path\"].split(\"/\")[-1]\n",
    "    sentence_tokens = tokenizer.split_sentence(raw_sentence)\n",
    "    sentence_json = {}\n",
    "    sentence_json[\"imgid\"] = i\n",
    "    sentence_json[\"sentences\"] = [\n",
    "        {\n",
    "            \"tokens\": sentence_tokens,\n",
    "            \"raw\": raw_sentence,\n",
    "            \"imgid\": i\n",
    "        }\n",
    "    ]\n",
    "    sentence_json[\"split\"] = row[\"split\"]\n",
    "    sentence_json[\"filename\"] = filename\n",
    "    samples_dataset[\"images\"].append(sentence_json)\n",
    "    #print(\"raw sentence: \", raw_sentence)\n",
    "    #print(\"filename: \", filename)\n",
    "    #print(\"sentence_tokens :\", sentence_tokens)\n",
    "    #print(\"sentence_json: \", sentence_json)\n",
    "    #print(\"samples_dataset:\", samples_dataset)\n",
    "    "
   ]
  },
  {
   "cell_type": "code",
   "execution_count": 124,
   "id": "adbe07df",
   "metadata": {},
   "outputs": [],
   "source": [
    "# Save dataset_foodiml.json \n",
    "with open(\"/home/ec2-user/SageMaker/dataset/foodiml_json.json\", \"w\") as f:\n",
    "    json.dump(samples_dataset, f)"
   ]
  },
  {
   "cell_type": "markdown",
   "id": "4a5f56f6",
   "metadata": {},
   "source": [
    "# GloVE (in case we want to retrain a new GloVE)"
   ]
  },
  {
   "cell_type": "code",
   "execution_count": 87,
   "id": "c88b9f36",
   "metadata": {},
   "outputs": [
    {
     "name": "stdout",
     "output_type": "stream",
     "text": [
      "Requirement already satisfied: glove_python in /home/ec2-user/anaconda3/envs/python3/lib/python3.6/site-packages (0.1.0)\n",
      "Requirement already satisfied: scipy in /home/ec2-user/anaconda3/envs/python3/lib/python3.6/site-packages (from glove_python) (1.5.3)\n",
      "Requirement already satisfied: numpy in /home/ec2-user/anaconda3/envs/python3/lib/python3.6/site-packages (from glove_python) (1.16.2)\n"
     ]
    }
   ],
   "source": [
    "!pip install glove_python"
   ]
  },
  {
   "cell_type": "code",
   "execution_count": 88,
   "id": "5d911d9c",
   "metadata": {},
   "outputs": [],
   "source": [
    "from glove import Corpus, Glove"
   ]
  },
  {
   "cell_type": "code",
   "execution_count": 89,
   "id": "432cf339",
   "metadata": {},
   "outputs": [],
   "source": [
    "#Creating a corpus object\n",
    "corpus = Corpus() "
   ]
  },
  {
   "cell_type": "code",
   "execution_count": 92,
   "id": "12f5a422",
   "metadata": {},
   "outputs": [
    {
     "data": {
      "text/plain": [
       "Index(['img_id', 'caption', 's3_path', 'split'], dtype='object')"
      ]
     },
     "execution_count": 92,
     "metadata": {},
     "output_type": "execute_result"
    }
   ],
   "source": [
    "samples.columns"
   ]
  },
  {
   "cell_type": "code",
   "execution_count": 93,
   "id": "9e495b7e",
   "metadata": {},
   "outputs": [],
   "source": [
    "sentences = list(samples[\"caption\"].values)"
   ]
  },
  {
   "cell_type": "code",
   "execution_count": 94,
   "id": "6ed2ff90",
   "metadata": {},
   "outputs": [
    {
     "name": "stderr",
     "output_type": "stream",
     "text": [
      "100%|██████████| 2887444/2887444 [06:27<00:00, 7449.51it/s]\n"
     ]
    }
   ],
   "source": [
    "lines = []\n",
    "for sentence in tqdm(sentences):\n",
    "    lines.append(tokenizer.split_sentence(sentence))"
   ]
  },
  {
   "cell_type": "code",
   "execution_count": 95,
   "id": "dfe332b5",
   "metadata": {},
   "outputs": [
    {
     "name": "stdout",
     "output_type": "stream",
     "text": [
      "CPU times: user 1min 24s, sys: 317 ms, total: 1min 24s\n",
      "Wall time: 1min 24s\n"
     ]
    }
   ],
   "source": [
    "%%time\n",
    "#Training the corpus to generate the co occurence matrix which is used in GloVe\n",
    "corpus.fit(lines, window=5)"
   ]
  },
  {
   "cell_type": "code",
   "execution_count": 96,
   "id": "9961add2",
   "metadata": {
    "scrolled": true
   },
   "outputs": [
    {
     "name": "stdout",
     "output_type": "stream",
     "text": [
      "Performing 30 training epochs with 4 threads\n",
      "Epoch 0\n",
      "Epoch 1\n",
      "Epoch 2\n",
      "Epoch 3\n",
      "Epoch 4\n",
      "Epoch 5\n",
      "Epoch 6\n",
      "Epoch 7\n",
      "Epoch 8\n",
      "Epoch 9\n",
      "Epoch 10\n",
      "Epoch 11\n",
      "Epoch 12\n",
      "Epoch 13\n",
      "Epoch 14\n",
      "Epoch 15\n",
      "Epoch 16\n",
      "Epoch 17\n",
      "Epoch 18\n",
      "Epoch 19\n",
      "Epoch 20\n",
      "Epoch 21\n",
      "Epoch 22\n",
      "Epoch 23\n",
      "Epoch 24\n",
      "Epoch 25\n",
      "Epoch 26\n",
      "Epoch 27\n",
      "Epoch 28\n",
      "Epoch 29\n"
     ]
    }
   ],
   "source": [
    "glove = Glove(no_components=300, learning_rate=0.05) # no_components=300 as in abstract.yaml\n",
    "glove.fit(corpus.matrix, epochs=30, no_threads=4, verbose=True)\n",
    "glove.add_dictionary(corpus.dictionary)\n",
    "glove.save('/home/ec2-user/SageMaker/dataset/glove-foodiml.pkl')"
   ]
  },
  {
   "cell_type": "code",
   "execution_count": null,
   "id": "fd686049",
   "metadata": {},
   "outputs": [],
   "source": []
  }
 ],
 "metadata": {
  "kernelspec": {
   "display_name": "conda_python3",
   "language": "python",
   "name": "conda_python3"
  },
  "language_info": {
   "codemirror_mode": {
    "name": "ipython",
    "version": 3
   },
   "file_extension": ".py",
   "mimetype": "text/x-python",
   "name": "python",
   "nbconvert_exporter": "python",
   "pygments_lexer": "ipython3",
   "version": "3.6.13"
  }
 },
 "nbformat": 4,
 "nbformat_minor": 5
}
