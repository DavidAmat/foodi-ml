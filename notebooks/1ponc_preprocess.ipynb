{
 "cells": [
  {
   "cell_type": "code",
   "execution_count": 115,
   "id": "b7f14079",
   "metadata": {},
   "outputs": [],
   "source": [
    "import os\n",
    "import numpy as np\n",
    "import pandas as pd\n",
    "import multiprocessing\n",
    "import sys\n",
    "import json\n",
    "from tqdm import tqdm\n",
    "import shutil\n",
    "\n",
    "#os.chdir(\"/home/ec2-user/SageMaker/foodi-ml/notebooks/\")"
   ]
  },
  {
   "cell_type": "code",
   "execution_count": 116,
   "id": "33a02ba0",
   "metadata": {},
   "outputs": [],
   "source": [
    "os.chdir(\"/home/ec2-user/SageMaker/foodi-ml/\")\n",
    "from retrieval.data.tokenizer import Tokenizer"
   ]
  },
  {
   "cell_type": "markdown",
   "id": "2af042a9",
   "metadata": {},
   "source": [
    "# Exploration of execution\n",
    "\n",
    "Execution \n",
    "\n",
    "```{bash}\n",
    "cd /home/ec2-user/SageMaker/foodi-ml\n",
    "source activate python3\n",
    "export DATA_PATH=/home/ec2-user/SageMaker/dataset/\n",
    "python run.py options/adapt/foodi-ml/i2t.yaml\n",
    "\n",
    "#watch -n 1 \"nvidia-smi\"\n",
    "```"
   ]
  },
  {
   "cell_type": "markdown",
   "id": "f5c82cda",
   "metadata": {},
   "source": [
    "# Configurations"
   ]
  },
  {
   "cell_type": "code",
   "execution_count": 51,
   "id": "f8452baf",
   "metadata": {},
   "outputs": [],
   "source": [
    "PATH_DATA = '/home/ec2-user/SageMaker/dataset/'\n",
    "PATH_FOODI = '/home/ec2-user/SageMaker/foodi-ml'\n",
    "DATASET_CSV = 'glovo-foodi-ml-dataset.csv'\n",
    "\n",
    "conf = {\n",
    "    \"S3_BUCKET\": 'glovo-products-dataset-d1c9720d',\n",
    "    \"S3_KEY_DATASET\": DATASET_CSV,\n",
    "    \"LOCAL_RAW_DATASET\": os.path.join(PATH_DATA, DATASET_CSV),\n",
    "    \"LOCAL_DATASET\": os.path.join(PATH_DATA, 'samples'),\n",
    "    \"LOCAL_IMAGES\": os.path.join(PATH_DATA, 'dataset'),\n",
    "    \"LOCAL_VOCAB\": os.path.join(PATH_FOODI, '.vocab_cache/foodiml_vocab.json'),\n",
    "    \"pth_dwn_samples\": '/home/ec2-user/SageMaker/dataset/',\n",
    "    \"pth_dwn_images\": '/home/ec2-user/SageMaker/dataset/dataset/',\n",
    "    \"pth_vocab\": '/home/ec2-user/SageMaker/foodi-ml/.vocab_cache/foodiml_vocab.json',\n",
    "    \"pth_dataset_json\": '/home/ec2-user/SageMaker/dataset/dataset_foodiml.json',\n",
    "}"
   ]
  },
  {
   "cell_type": "markdown",
   "id": "3fa1343a",
   "metadata": {},
   "source": [
    "# Read all samples"
   ]
  },
  {
   "cell_type": "code",
   "execution_count": 101,
   "id": "53dd2fa2",
   "metadata": {},
   "outputs": [],
   "source": [
    "samples = pd.read_csv(os.path.join(conf['LOCAL_RAW_DATASET']))"
   ]
  },
  {
   "cell_type": "code",
   "execution_count": 102,
   "id": "b46700f4",
   "metadata": {},
   "outputs": [
    {
     "data": {
      "text/plain": [
       "'/home/ec2-user/SageMaker/dataset/dataset/NZTCKFL_0017467_1193055503.png'"
      ]
     },
     "execution_count": 102,
     "metadata": {},
     "output_type": "execute_result"
    }
   ],
   "source": [
    "samples[\"s3_path\"].iloc[0]"
   ]
  },
  {
   "cell_type": "markdown",
   "id": "07881c12",
   "metadata": {},
   "source": [
    "## 1) Create sentences"
   ]
  },
  {
   "cell_type": "code",
   "execution_count": 103,
   "id": "6f212860",
   "metadata": {},
   "outputs": [],
   "source": [
    "samples[\"sentence\"] = \\\n",
    "    np.where(samples[\"product_name\"], samples[\"product_name\"].astype(str), \"\") + \" \" + \\\n",
    "    np.where(samples[\"collection_section\"], samples[\"collection_section\"].astype(str), \"\") + \" \" + \\\n",
    "    np.where(samples[\"product_description\"], samples[\"product_description\"].astype(str), \"\")\n",
    "\n",
    "samples[\"sentence\"] = samples[\"sentence\"].str.lower()\n",
    "samples.rename(columns={'Unnamed: 0': 'idx'}, inplace=True)"
   ]
  },
  {
   "cell_type": "markdown",
   "id": "5f30e897",
   "metadata": {},
   "source": [
    "### 1.1) Fit tokenizer"
   ]
  },
  {
   "cell_type": "code",
   "execution_count": 53,
   "id": "6aa87785",
   "metadata": {},
   "outputs": [],
   "source": [
    "os.chdir(PATH_FOODI)\n",
    "from retrieval.data.tokenizer import Tokenizer"
   ]
  },
  {
   "cell_type": "code",
   "execution_count": 54,
   "id": "47d793cf",
   "metadata": {},
   "outputs": [
    {
     "name": "stderr",
     "output_type": "stream",
     "text": [
      "[nltk_data] Downloading package punkt to /home/ec2-user/nltk_data...\n",
      "[nltk_data]   Package punkt is already up-to-date!\n"
     ]
    }
   ],
   "source": [
    "# 1) Get all sentences \n",
    "sentences = samples[\"sentence\"].values\n",
    "\n",
    "# 2) Fit Tokenizer with senteces (CAREFUL, takes 6-7 min)\n",
    "tokenizer = Tokenizer(vocab_path=None, download_tokenizer=True)"
   ]
  },
  {
   "cell_type": "code",
   "execution_count": 55,
   "id": "9eae89bb",
   "metadata": {},
   "outputs": [
    {
     "name": "stderr",
     "output_type": "stream",
     "text": [
      "100%|██████████| 2887444/2887444 [06:46<00:00, 7094.59it/s]\n"
     ]
    }
   ],
   "source": [
    "# Fit tokenize\n",
    "vocab = tokenizer.fit(sentences)"
   ]
  },
  {
   "cell_type": "code",
   "execution_count": 74,
   "id": "e4ed9182",
   "metadata": {},
   "outputs": [
    {
     "data": {
      "text/plain": [
       "245967"
      ]
     },
     "execution_count": 74,
     "metadata": {},
     "output_type": "execute_result"
    }
   ],
   "source": [
    "len(vocab.word2idx)"
   ]
  },
  {
   "cell_type": "code",
   "execution_count": 57,
   "id": "1bc26138",
   "metadata": {},
   "outputs": [
    {
     "name": "stdout",
     "output_type": "stream",
     "text": [
      "CPU times: user 334 ms, sys: 0 ns, total: 334 ms\n",
      "Wall time: 341 ms\n"
     ]
    }
   ],
   "source": [
    "%%time\n",
    "# 3) Saving vocabulary\n",
    "tokenizer.save(conf['LOCAL_VOCAB'])"
   ]
  },
  {
   "cell_type": "code",
   "execution_count": 75,
   "id": "458cb237",
   "metadata": {},
   "outputs": [
    {
     "data": {
      "text/plain": [
       "245967"
      ]
     },
     "execution_count": 75,
     "metadata": {},
     "output_type": "execute_result"
    }
   ],
   "source": [
    "# 4) Load if already saved\n",
    "tokenizer = tokenizer.load(conf['LOCAL_VOCAB'])\n",
    "len(tokenizer.vocab)"
   ]
  },
  {
   "cell_type": "code",
   "execution_count": 59,
   "id": "25c6acb3",
   "metadata": {},
   "outputs": [
    {
     "name": "stderr",
     "output_type": "stream",
     "text": [
      "[nltk_data] Downloading package punkt to /home/ec2-user/nltk_data...\n",
      "[nltk_data]   Package punkt is already up-to-date!\n"
     ]
    }
   ],
   "source": [
    "# LOAD equivalent\n",
    "tokenizer_2 = Tokenizer(vocab_path=conf[\"pth_vocab\"], download_tokenizer=True)"
   ]
  },
  {
   "cell_type": "code",
   "execution_count": 60,
   "id": "ff2f3f47",
   "metadata": {},
   "outputs": [
    {
     "data": {
      "text/plain": [
       "245967"
      ]
     },
     "execution_count": 60,
     "metadata": {},
     "output_type": "execute_result"
    }
   ],
   "source": [
    "len(tokenizer_2.vocab)"
   ]
  },
  {
   "cell_type": "markdown",
   "id": "4a562425",
   "metadata": {},
   "source": [
    "### 1.2) Creating dataset parquet"
   ]
  },
  {
   "cell_type": "code",
   "execution_count": 104,
   "id": "447d6a51",
   "metadata": {},
   "outputs": [],
   "source": [
    "# Keep only necessary columns for modelling\n",
    "final_samples = samples[[\"sentence\", \"s3_path\", \"subset\"]].reset_index().copy()\n",
    "final_samples.rename(columns={\"sentence\": \"caption\"}, inplace=True)\n",
    "final_samples.rename(columns={\"subset\": \"split\"}, inplace=True)\n",
    "final_samples.rename(columns={\"index\": \"img_id\"}, inplace=True)"
   ]
  },
  {
   "cell_type": "code",
   "execution_count": 105,
   "id": "9c62c8d0",
   "metadata": {},
   "outputs": [],
   "source": [
    "# Remove previous version\n",
    "if os.path.exists(conf[\"LOCAL_DATASET\"]):\n",
    "    shutil.rmtree(conf[\"LOCAL_DATASET\"])"
   ]
  },
  {
   "cell_type": "code",
   "execution_count": 106,
   "id": "b8f543dc",
   "metadata": {},
   "outputs": [],
   "source": [
    "# Save as partitioned parquet\n",
    "final_samples.to_parquet(\n",
    "    path=conf[\"LOCAL_DATASET\"],\n",
    "    engine=\"pyarrow\",\n",
    "    index=False,\n",
    "    partition_cols=[\"split\"],\n",
    ")"
   ]
  },
  {
   "cell_type": "markdown",
   "id": "a60bf73d",
   "metadata": {},
   "source": [
    "## Creating dataset json"
   ]
  },
  {
   "cell_type": "code",
   "execution_count": 117,
   "id": "2bd3cd73",
   "metadata": {},
   "outputs": [],
   "source": [
    "samples = pd.read_parquet(os.path.join(conf['pth_dwn_samples'], \"samples\"), engine = \"pyarrow\")"
   ]
  },
  {
   "cell_type": "code",
   "execution_count": 118,
   "id": "0a606e0e",
   "metadata": {},
   "outputs": [
    {
     "data": {
      "text/plain": [
       "'/home/ec2-user/SageMaker/dataset/dataset/CBNGZLF_0013607_1049265587.png'"
      ]
     },
     "execution_count": 118,
     "metadata": {},
     "output_type": "execute_result"
    }
   ],
   "source": [
    "samples[\"s3_path\"].iloc[0]"
   ]
  },
  {
   "cell_type": "code",
   "execution_count": 111,
   "id": "2896a75e",
   "metadata": {},
   "outputs": [
    {
     "data": {
      "text/plain": [
       "Index(['img_id', 'caption', 's3_path', 'split'], dtype='object')"
      ]
     },
     "execution_count": 111,
     "metadata": {},
     "output_type": "execute_result"
    }
   ],
   "source": [
    "samples.columns"
   ]
  },
  {
   "cell_type": "code",
   "execution_count": 120,
   "id": "c0d2ae71",
   "metadata": {},
   "outputs": [],
   "source": [
    "samples_dataset = {\n",
    "    \"images\": [],\n",
    "    \"dataset\": \"foodiml\"\n",
    "}"
   ]
  },
  {
   "cell_type": "code",
   "execution_count": 123,
   "id": "f064a07c",
   "metadata": {},
   "outputs": [
    {
     "name": "stderr",
     "output_type": "stream",
     "text": [
      "2501it [00:01, 2189.07it/s]\n"
     ]
    }
   ],
   "source": [
    "for i, row in tqdm(samples.iterrows()):\n",
    "    if i>2500:\n",
    "        break\n",
    "    raw_sentence = row[\"caption\"]\n",
    "    filename = row[\"s3_path\"].split(\"/\")[-1]\n",
    "    sentence_tokens = tokenizer.split_sentence(raw_sentence)\n",
    "    sentence_json = {}\n",
    "    sentence_json[\"imgid\"] = i\n",
    "    sentence_json[\"sentences\"] = [\n",
    "        {\n",
    "            \"tokens\": sentence_tokens,\n",
    "            \"raw\": raw_sentence,\n",
    "            \"imgid\": i\n",
    "        }\n",
    "    ]\n",
    "    sentence_json[\"split\"] = row[\"split\"]\n",
    "    sentence_json[\"filename\"] = filename\n",
    "    samples_dataset[\"images\"].append(sentence_json)\n",
    "    #print(\"raw sentence: \", raw_sentence)\n",
    "    #print(\"filename: \", filename)\n",
    "    #print(\"sentence_tokens :\", sentence_tokens)\n",
    "    #print(\"sentence_json: \", sentence_json)\n",
    "    #print(\"samples_dataset:\", samples_dataset)\n",
    "    "
   ]
  },
  {
   "cell_type": "code",
   "execution_count": 124,
   "id": "5871dae1",
   "metadata": {},
   "outputs": [],
   "source": [
    "# Save dataset_foodiml.json \n",
    "with open(\"/home/ec2-user/SageMaker/dataset/foodiml_json.json\", \"w\") as f:\n",
    "    json.dump(samples_dataset, f)"
   ]
  },
  {
   "cell_type": "markdown",
   "id": "762fda01",
   "metadata": {},
   "source": [
    "# GloVE (in case we want to retrain a new GloVE)"
   ]
  },
  {
   "cell_type": "code",
   "execution_count": 87,
   "id": "ecacbfb2",
   "metadata": {},
   "outputs": [
    {
     "name": "stdout",
     "output_type": "stream",
     "text": [
      "Requirement already satisfied: glove_python in /home/ec2-user/anaconda3/envs/python3/lib/python3.6/site-packages (0.1.0)\n",
      "Requirement already satisfied: scipy in /home/ec2-user/anaconda3/envs/python3/lib/python3.6/site-packages (from glove_python) (1.5.3)\n",
      "Requirement already satisfied: numpy in /home/ec2-user/anaconda3/envs/python3/lib/python3.6/site-packages (from glove_python) (1.16.2)\n"
     ]
    }
   ],
   "source": [
    "!pip install glove_python"
   ]
  },
  {
   "cell_type": "code",
   "execution_count": 88,
   "id": "e55eafaa",
   "metadata": {},
   "outputs": [],
   "source": [
    "from glove import Corpus, Glove"
   ]
  },
  {
   "cell_type": "code",
   "execution_count": 89,
   "id": "77cedd0b",
   "metadata": {},
   "outputs": [],
   "source": [
    "#Creating a corpus object\n",
    "corpus = Corpus() "
   ]
  },
  {
   "cell_type": "code",
   "execution_count": 92,
   "id": "df92c94d",
   "metadata": {},
   "outputs": [
    {
     "data": {
      "text/plain": [
       "Index(['img_id', 'caption', 's3_path', 'split'], dtype='object')"
      ]
     },
     "execution_count": 92,
     "metadata": {},
     "output_type": "execute_result"
    }
   ],
   "source": [
    "samples.columns"
   ]
  },
  {
   "cell_type": "code",
   "execution_count": 93,
   "id": "6854eb4b",
   "metadata": {},
   "outputs": [],
   "source": [
    "sentences = list(samples[\"caption\"].values)"
   ]
  },
  {
   "cell_type": "code",
   "execution_count": 94,
   "id": "ab69713a",
   "metadata": {},
   "outputs": [
    {
     "name": "stderr",
     "output_type": "stream",
     "text": [
      "100%|██████████| 2887444/2887444 [06:27<00:00, 7449.51it/s]\n"
     ]
    }
   ],
   "source": [
    "lines = []\n",
    "for sentence in tqdm(sentences):\n",
    "    lines.append(tokenizer.split_sentence(sentence))"
   ]
  },
  {
   "cell_type": "code",
   "execution_count": 95,
   "id": "91ebe7fa",
   "metadata": {},
   "outputs": [
    {
     "name": "stdout",
     "output_type": "stream",
     "text": [
      "CPU times: user 1min 24s, sys: 317 ms, total: 1min 24s\n",
      "Wall time: 1min 24s\n"
     ]
    }
   ],
   "source": [
    "%%time\n",
    "#Training the corpus to generate the co occurence matrix which is used in GloVe\n",
    "corpus.fit(lines, window=5)"
   ]
  },
  {
   "cell_type": "code",
   "execution_count": 96,
   "id": "2d79e2ad",
   "metadata": {
    "scrolled": true
   },
   "outputs": [
    {
     "name": "stdout",
     "output_type": "stream",
     "text": [
      "Performing 30 training epochs with 4 threads\n",
      "Epoch 0\n",
      "Epoch 1\n",
      "Epoch 2\n",
      "Epoch 3\n",
      "Epoch 4\n",
      "Epoch 5\n",
      "Epoch 6\n",
      "Epoch 7\n",
      "Epoch 8\n",
      "Epoch 9\n",
      "Epoch 10\n",
      "Epoch 11\n",
      "Epoch 12\n",
      "Epoch 13\n",
      "Epoch 14\n",
      "Epoch 15\n",
      "Epoch 16\n",
      "Epoch 17\n",
      "Epoch 18\n",
      "Epoch 19\n",
      "Epoch 20\n",
      "Epoch 21\n",
      "Epoch 22\n",
      "Epoch 23\n",
      "Epoch 24\n",
      "Epoch 25\n",
      "Epoch 26\n",
      "Epoch 27\n",
      "Epoch 28\n",
      "Epoch 29\n"
     ]
    }
   ],
   "source": [
    "glove = Glove(no_components=300, learning_rate=0.05) # no_components=300 as in abstract.yaml\n",
    "glove.fit(corpus.matrix, epochs=30, no_threads=4, verbose=True)\n",
    "glove.add_dictionary(corpus.dictionary)\n",
    "glove.save('/home/ec2-user/SageMaker/dataset/glove-foodiml.pkl')"
   ]
  },
  {
   "cell_type": "code",
   "execution_count": null,
   "id": "40751faa",
   "metadata": {},
   "outputs": [],
   "source": []
  }
 ],
 "metadata": {
  "kernelspec": {
   "display_name": "conda_python3",
   "language": "python",
   "name": "conda_python3"
  },
  "language_info": {
   "codemirror_mode": {
    "name": "ipython",
    "version": 3
   },
   "file_extension": ".py",
   "mimetype": "text/x-python",
   "name": "python",
   "nbconvert_exporter": "python",
   "pygments_lexer": "ipython3",
   "version": "3.6.13"
  }
 },
 "nbformat": 4,
 "nbformat_minor": 5
}
