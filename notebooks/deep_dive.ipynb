{
 "cells": [
  {
   "cell_type": "code",
   "execution_count": 1,
   "id": "97312046",
   "metadata": {},
   "outputs": [],
   "source": [
    "import os\n",
    "os.chdir(\"/home/ec2-user/SageMaker/foodi-ml/\")"
   ]
  },
  {
   "cell_type": "code",
   "execution_count": 2,
   "id": "0ede2b7b",
   "metadata": {},
   "outputs": [],
   "source": [
    "from importlib import reload\n",
    "import numpy as np"
   ]
  },
  {
   "cell_type": "code",
   "execution_count": 3,
   "id": "c37df65c",
   "metadata": {},
   "outputs": [],
   "source": [
    "from addict import Dict"
   ]
  },
  {
   "cell_type": "code",
   "execution_count": 4,
   "id": "e0006df1",
   "metadata": {},
   "outputs": [],
   "source": [
    "import os\n",
    "import torch\n",
    "from tqdm import tqdm\n",
    "\n",
    "import params\n",
    "from retrieval.train import train\n",
    "from retrieval.utils import helper\n",
    "from retrieval.model import loss\n",
    "from retrieval.model.model import Retrieval\n",
    "from retrieval.data.loaders import get_loaders\n",
    "from retrieval.utils.logger import create_logger\n",
    "from retrieval.utils.helper import load_model\n",
    "from retrieval.utils.file_utils import load_yaml_opts, parse_loader_name"
   ]
  },
  {
   "cell_type": "markdown",
   "id": "c316ed51",
   "metadata": {},
   "source": [
    "# Run"
   ]
  },
  {
   "cell_type": "code",
   "execution_count": 5,
   "id": "d847bb62",
   "metadata": {},
   "outputs": [],
   "source": [
    "def get_data_path(opt):\n",
    "    if 'DATA_PATH' not in os.environ:\n",
    "        if not opt.dataset.data_path:\n",
    "            raise Exception('''\n",
    "                DATA_PATH not specified.\n",
    "                Please, run \"$ export DATA_PATH=/path/to/dataset\"\n",
    "                or add path to yaml file\n",
    "            ''')\n",
    "        return opt.dataset.data_path\n",
    "    else:\n",
    "        return os.environ['DATA_PATH']"
   ]
  },
  {
   "cell_type": "markdown",
   "id": "0399d37d",
   "metadata": {},
   "source": [
    "## 1. Loaders"
   ]
  },
  {
   "cell_type": "code",
   "execution_count": 6,
   "id": "8cb5e55f",
   "metadata": {},
   "outputs": [],
   "source": [
    "from retrieval.data.loaders import get_loaders, get_loader"
   ]
  },
  {
   "cell_type": "code",
   "execution_count": 7,
   "id": "d0eca2b9",
   "metadata": {},
   "outputs": [],
   "source": [
    "os.environ[\"DATA_PATH\"] = \"/home/ec2-user/SageMaker/data/\"\n",
    "\n",
    "options = \"options/adapt/foodi-ml/i2t.yaml\"\n",
    "\n",
    "args = {\n",
    "    \"options\": options,\n",
    "}\n",
    "args = Dict(args)\n",
    "opt = load_yaml_opts(args.options)\n",
    "\n",
    "# Get path of the data\n",
    "data_path = get_data_path(opt)"
   ]
  },
  {
   "cell_type": "code",
   "execution_count": 8,
   "id": "f50ee880",
   "metadata": {},
   "outputs": [],
   "source": [
    "loader_name=opt.dataset.loader_name\n",
    "data_path=data_path\n",
    "data_info=opt.dataset.train.data\n",
    "data_split='train'\n",
    "vocab_paths=opt.dataset.vocab_paths\n",
    "ngpu=torch.cuda.device_count()\n",
    "text_repr=opt.dataset.text_repr\n",
    "workers=4\n",
    "local_rank=0"
   ]
  },
  {
   "cell_type": "code",
   "execution_count": 9,
   "id": "8707346d",
   "metadata": {},
   "outputs": [
    {
     "name": "stdout",
     "output_type": "stream",
     "text": [
      "image\n",
      "/home/ec2-user/SageMaker/data/\n",
      "foodiml.es\n",
      "train\n",
      "['.vocab_cache/foodiml_vocab.json']\n",
      "1\n",
      "word\n",
      "4\n",
      "0\n"
     ]
    }
   ],
   "source": [
    "print(loader_name)\n",
    "print(data_path)\n",
    "print(data_info)\n",
    "print(data_split)\n",
    "print(vocab_paths)\n",
    "print(ngpu)\n",
    "print(text_repr)\n",
    "print(workers)\n",
    "print(local_rank)"
   ]
  },
  {
   "cell_type": "code",
   "execution_count": 10,
   "id": "fe8238e9",
   "metadata": {},
   "outputs": [],
   "source": [
    "batch_size = opt.dataset[\"train\"][\"batch_size\"]"
   ]
  },
  {
   "cell_type": "code",
   "execution_count": 11,
   "id": "ca5e5542",
   "metadata": {},
   "outputs": [
    {
     "data": {
      "text/plain": [
       "{'batch_size': 128, 'workers': 1, 'data': 'foodiml.es'}"
      ]
     },
     "execution_count": 11,
     "metadata": {},
     "output_type": "execute_result"
    }
   ],
   "source": [
    "opt.dataset[\"train\"]"
   ]
  },
  {
   "cell_type": "markdown",
   "id": "b5dfe653",
   "metadata": {},
   "source": [
    "### 1.1 Inspecting get_loader"
   ]
  },
  {
   "cell_type": "code",
   "execution_count": 12,
   "id": "dfe249ef",
   "metadata": {},
   "outputs": [],
   "source": [
    "def parse_loader_name(data_name):\n",
    "    if '.' in data_name:\n",
    "        name, lang = data_name.split('.')\n",
    "        return name, lang\n",
    "    else:\n",
    "        return data_name, None"
   ]
  },
  {
   "cell_type": "code",
   "execution_count": 13,
   "id": "b3f80c4f",
   "metadata": {},
   "outputs": [
    {
     "data": {
      "text/plain": [
       "'foodiml.es'"
      ]
     },
     "execution_count": 13,
     "metadata": {},
     "output_type": "execute_result"
    }
   ],
   "source": [
    "data_info"
   ]
  },
  {
   "cell_type": "code",
   "execution_count": 14,
   "id": "641d5861",
   "metadata": {},
   "outputs": [],
   "source": [
    "data_name, lang = parse_loader_name(data_info)"
   ]
  },
  {
   "cell_type": "code",
   "execution_count": 15,
   "id": "df170ca2",
   "metadata": {},
   "outputs": [
    {
     "name": "stdout",
     "output_type": "stream",
     "text": [
      "('foodiml', 'es')\n"
     ]
    }
   ],
   "source": [
    "print((data_name, lang))"
   ]
  },
  {
   "cell_type": "code",
   "execution_count": 16,
   "id": "a690161a",
   "metadata": {},
   "outputs": [],
   "source": [
    "from retrieval.data import datasets\n",
    "from retrieval.data import adapters\n",
    "datasets = reload(datasets)\n",
    "adapters = reload(adapters)"
   ]
  },
  {
   "cell_type": "code",
   "execution_count": 17,
   "id": "f32ae0e4",
   "metadata": {},
   "outputs": [],
   "source": [
    "__loaders__ = {\n",
    "    'dummy': {\n",
    "        'class': datasets.DummyDataset,\n",
    "    },\n",
    "    'precomp': {\n",
    "        'class': datasets.PrecompDataset,\n",
    "    },\n",
    "    'tensor': {\n",
    "        'class': datasets.PrecompDataset,\n",
    "    },\n",
    "    'lang': {\n",
    "        'class': datasets.CrossLanguageLoader,\n",
    "    },\n",
    "    'image': {\n",
    "        'class': datasets.ImageDataset,\n",
    "    },\n",
    "    'birds': {\n",
    "        'class': datasets.Birds,\n",
    "    },\n",
    "}"
   ]
  },
  {
   "cell_type": "code",
   "execution_count": 18,
   "id": "7596a9b1",
   "metadata": {},
   "outputs": [],
   "source": [
    "def get_dataset_class(loader_name):\n",
    "    loader = __loaders__[loader_name]\n",
    "    return loader['class']"
   ]
  },
  {
   "cell_type": "code",
   "execution_count": 19,
   "id": "b0e359b9",
   "metadata": {},
   "outputs": [],
   "source": [
    "#loader_name = \"image\"\n",
    "dataset_class = get_dataset_class(\"image\")"
   ]
  },
  {
   "cell_type": "markdown",
   "id": "e5cca6be",
   "metadata": {},
   "source": [
    "#### 1.1.1 Loading vocabulary from using Tokenizer"
   ]
  },
  {
   "cell_type": "code",
   "execution_count": 20,
   "id": "ce13711a",
   "metadata": {},
   "outputs": [
    {
     "data": {
      "text/plain": [
       "['.vocab_cache/foodiml_vocab.json']"
      ]
     },
     "execution_count": 20,
     "metadata": {},
     "output_type": "execute_result"
    }
   ],
   "source": [
    "vocab_paths"
   ]
  },
  {
   "cell_type": "code",
   "execution_count": 21,
   "id": "9bc4cac6",
   "metadata": {},
   "outputs": [],
   "source": [
    "from retrieval.data.tokenizer import Tokenizer"
   ]
  },
  {
   "cell_type": "code",
   "execution_count": 22,
   "id": "b303ac31",
   "metadata": {},
   "outputs": [],
   "source": [
    "tokenizers = []\n",
    "for vocab_path in vocab_paths:\n",
    "    tokenizers.append(Tokenizer(vocab_path))"
   ]
  },
  {
   "cell_type": "markdown",
   "id": "5506fe0c",
   "metadata": {},
   "source": [
    "#### 1.1.2 Loading dataset class (ImageDataset class)"
   ]
  },
  {
   "cell_type": "code",
   "execution_count": 23,
   "id": "f85e5961",
   "metadata": {},
   "outputs": [],
   "source": [
    "# TODO: inspect why here we needed tokenizers[0]"
   ]
  },
  {
   "cell_type": "code",
   "execution_count": 24,
   "id": "9a58063a",
   "metadata": {},
   "outputs": [],
   "source": [
    "dataset = dataset_class(\n",
    "        data_path=data_path,\n",
    "        data_name=data_name,\n",
    "        data_split=data_split,\n",
    "        tokenizer=tokenizers[0],\n",
    "        lang=lang,\n",
    "    )"
   ]
  },
  {
   "cell_type": "markdown",
   "id": "6ab6b83b",
   "metadata": {},
   "source": [
    "#### Image Dataset deep dive ----------------------------------------(1)"
   ]
  },
  {
   "cell_type": "code",
   "execution_count": 25,
   "id": "387245c0",
   "metadata": {},
   "outputs": [],
   "source": [
    "data_path=data_path\n",
    "data_name=data_name\n",
    "data_split=data_split\n",
    "tokenizer=tokenizers[0]\n",
    "lang=lang"
   ]
  },
  {
   "cell_type": "code",
   "execution_count": 26,
   "id": "aa64fefe",
   "metadata": {},
   "outputs": [],
   "source": [
    "from retrieval.data.datasets import ImageDataset"
   ]
  },
  {
   "cell_type": "code",
   "execution_count": 27,
   "id": "865aef54",
   "metadata": {},
   "outputs": [],
   "source": [
    "imagedataset = ImageDataset(\n",
    "    data_path=data_path,\n",
    "    data_name=data_name,\n",
    "    data_split=data_split,\n",
    "    tokenizer=tokenizers[0],\n",
    "    lang=lang,\n",
    ")"
   ]
  },
  {
   "cell_type": "code",
   "execution_count": 205,
   "id": "d3ac6c55",
   "metadata": {},
   "outputs": [],
   "source": [
    "imagedataset._fetch_captions()"
   ]
  },
  {
   "cell_type": "code",
   "execution_count": 207,
   "id": "58edb20f",
   "metadata": {},
   "outputs": [
    {
     "data": {
      "text/plain": [
       "8011"
      ]
     },
     "execution_count": 207,
     "metadata": {},
     "output_type": "execute_result"
    }
   ],
   "source": [
    "imagedataset.length"
   ]
  },
  {
   "cell_type": "markdown",
   "id": "d1654cb3",
   "metadata": {},
   "source": [
    "##### FoodiML deep dive ------------------------------------(2)"
   ]
  },
  {
   "cell_type": "code",
   "execution_count": 104,
   "id": "7e155e07",
   "metadata": {},
   "outputs": [],
   "source": [
    "from retrieval.data.adapters import FoodiML"
   ]
  },
  {
   "cell_type": "code",
   "execution_count": 105,
   "id": "dfdff167",
   "metadata": {},
   "outputs": [
    {
     "name": "stdout",
     "output_type": "stream",
     "text": [
      "('/home/ec2-user/SageMaker/data/', 'train')\n"
     ]
    }
   ],
   "source": [
    "print((data_path, data_split))"
   ]
  },
  {
   "cell_type": "code",
   "execution_count": 106,
   "id": "aa781754",
   "metadata": {},
   "outputs": [
    {
     "data": {
      "text/plain": [
       "'/home/ec2-user/SageMaker/data/'"
      ]
     },
     "execution_count": 106,
     "metadata": {},
     "output_type": "execute_result"
    }
   ],
   "source": [
    "data_path"
   ]
  },
  {
   "cell_type": "code",
   "execution_count": 108,
   "id": "f6d9bcd0",
   "metadata": {},
   "outputs": [],
   "source": [
    "foodiml_wrapper = FoodiML(\n",
    "    data_path = imagedataset.full_path,\n",
    "    data_split = data_split\n",
    ")"
   ]
  },
  {
   "cell_type": "code",
   "execution_count": 109,
   "id": "215b158e",
   "metadata": {},
   "outputs": [],
   "source": [
    "fd = foodiml_wrapper.data"
   ]
  },
  {
   "cell_type": "code",
   "execution_count": 110,
   "id": "5d46dd3a",
   "metadata": {},
   "outputs": [
    {
     "data": {
      "text/plain": [
       "dict_keys(['images', 'dataset'])"
      ]
     },
     "execution_count": 110,
     "metadata": {},
     "output_type": "execute_result"
    }
   ],
   "source": [
    "fd.keys()"
   ]
  },
  {
   "cell_type": "code",
   "execution_count": 111,
   "id": "d8724e3c",
   "metadata": {},
   "outputs": [
    {
     "data": {
      "text/plain": [
       "8011"
      ]
     },
     "execution_count": 111,
     "metadata": {},
     "output_type": "execute_result"
    }
   ],
   "source": [
    "len(fd[\"images\"])"
   ]
  },
  {
   "cell_type": "code",
   "execution_count": 112,
   "id": "2e927428",
   "metadata": {
    "scrolled": true
   },
   "outputs": [
    {
     "data": {
      "text/plain": [
       "{'imgid': 0,\n",
       " 'sentences': [{'tokens': ['coca-cola',\n",
       "    'zero',\n",
       "    'azúcar',\n",
       "    'lata',\n",
       "    '330ml',\n",
       "    '.',\n",
       "    'refrescos'],\n",
       "   'raw': 'coca-cola zero azúcar lata 330ml. refrescos ',\n",
       "   'imgid': 0}],\n",
       " 'split': 'train',\n",
       " 'filename': '0000000_0000000_1422139257.png'}"
      ]
     },
     "execution_count": 112,
     "metadata": {},
     "output_type": "execute_result"
    }
   ],
   "source": [
    "fd[\"images\"][0]"
   ]
  },
  {
   "cell_type": "code",
   "execution_count": 114,
   "id": "936607b6",
   "metadata": {},
   "outputs": [
    {
     "data": {
      "text/plain": [
       "array([   0,    1,    2, ..., 8008, 8009, 8010])"
      ]
     },
     "execution_count": 114,
     "metadata": {},
     "output_type": "execute_result"
    }
   ],
   "source": [
    "import numpy as np\n",
    "np.array(foodiml_wrapper.image_ids)"
   ]
  },
  {
   "cell_type": "code",
   "execution_count": 115,
   "id": "3e44a35c",
   "metadata": {},
   "outputs": [
    {
     "data": {
      "text/plain": [
       "['coca-cola zero azúcar lata 330ml. refrescos ']"
      ]
     },
     "execution_count": 115,
     "metadata": {},
     "output_type": "execute_result"
    }
   ],
   "source": [
    "foodiml_wrapper.img_captions[0]"
   ]
  },
  {
   "cell_type": "code",
   "execution_count": 116,
   "id": "280bcf65",
   "metadata": {
    "scrolled": true
   },
   "outputs": [
    {
     "data": {
      "text/plain": [
       "{'imgid': 0,\n",
       " 'sentences': [{'tokens': ['coca-cola',\n",
       "    'zero',\n",
       "    'azúcar',\n",
       "    'lata',\n",
       "    '330ml',\n",
       "    '.',\n",
       "    'refrescos'],\n",
       "   'raw': 'coca-cola zero azúcar lata 330ml. refrescos ',\n",
       "   'imgid': 0}],\n",
       " 'split': 'train',\n",
       " 'filename': '0000000_0000000_1422139257.png'}"
      ]
     },
     "execution_count": 116,
     "metadata": {},
     "output_type": "execute_result"
    }
   ],
   "source": [
    "foodiml_wrapper.img_dict[0]"
   ]
  },
  {
   "cell_type": "markdown",
   "id": "296c2298",
   "metadata": {},
   "source": [
    "##### FINISH: FoodiML deep dive ------------------------------------(2)"
   ]
  },
  {
   "cell_type": "code",
   "execution_count": 117,
   "id": "c5a47651",
   "metadata": {},
   "outputs": [],
   "source": [
    "# access to the data_wrapper (flickr) image_ids dictionary\n",
    "imagedataset._fetch_captions()"
   ]
  },
  {
   "cell_type": "code",
   "execution_count": 118,
   "id": "d1203432",
   "metadata": {},
   "outputs": [
    {
     "data": {
      "text/plain": [
       "8011"
      ]
     },
     "execution_count": 118,
     "metadata": {},
     "output_type": "execute_result"
    }
   ],
   "source": [
    "len(imagedataset.captions)"
   ]
  },
  {
   "cell_type": "code",
   "execution_count": 119,
   "id": "004aea69",
   "metadata": {},
   "outputs": [
    {
     "data": {
      "text/plain": [
       "'coca-cola zero azúcar lata 330ml. refrescos '"
      ]
     },
     "execution_count": 119,
     "metadata": {},
     "output_type": "execute_result"
    }
   ],
   "source": [
    "imagedataset.captions[0]"
   ]
  },
  {
   "cell_type": "code",
   "execution_count": 120,
   "id": "150835af",
   "metadata": {},
   "outputs": [
    {
     "data": {
      "text/plain": [
       "8011"
      ]
     },
     "execution_count": 120,
     "metadata": {},
     "output_type": "execute_result"
    }
   ],
   "source": [
    "imagedataset.length"
   ]
  },
  {
   "cell_type": "code",
   "execution_count": 121,
   "id": "cf541f20",
   "metadata": {},
   "outputs": [
    {
     "data": {
      "text/plain": [
       "Compose(\n",
       "    RandomHorizontalFlip(p=0.5)\n",
       "    RandomResizedCrop(size=(224, 224), scale=(0.08, 1.0), ratio=(0.75, 1.3333), interpolation=PIL.Image.BILINEAR)\n",
       "    ToTensor()\n",
       "    Normalize(mean=[0.485, 0.456, 0.406], std=[0.229, 0.224, 0.225])\n",
       ")"
      ]
     },
     "execution_count": 121,
     "metadata": {},
     "output_type": "execute_result"
    }
   ],
   "source": [
    "# CREATES THE TRANSFORMS for normalizing and scaling/resizing image\n",
    "imagedataset.transform"
   ]
  },
  {
   "cell_type": "code",
   "execution_count": 123,
   "id": "0feb04c7",
   "metadata": {},
   "outputs": [
    {
     "data": {
      "text/plain": [
       "5"
      ]
     },
     "execution_count": 123,
     "metadata": {},
     "output_type": "execute_result"
    }
   ],
   "source": [
    "imagedataset.captions_per_image"
   ]
  },
  {
   "cell_type": "code",
   "execution_count": 198,
   "id": "ea2a3ceb",
   "metadata": {},
   "outputs": [],
   "source": [
    "dataset._fetch_captions()"
   ]
  },
  {
   "cell_type": "code",
   "execution_count": 199,
   "id": "5b314662",
   "metadata": {},
   "outputs": [
    {
     "data": {
      "text/plain": [
       "range(0, 8011)"
      ]
     },
     "execution_count": 199,
     "metadata": {},
     "output_type": "execute_result"
    }
   ],
   "source": [
    "dataset.ids"
   ]
  },
  {
   "cell_type": "code",
   "execution_count": 200,
   "id": "639ae374",
   "metadata": {},
   "outputs": [],
   "source": [
    "dataset.length = len(dataset.ids)"
   ]
  },
  {
   "cell_type": "code",
   "execution_count": 201,
   "id": "759cbf9a",
   "metadata": {},
   "outputs": [
    {
     "data": {
      "text/plain": [
       "8011"
      ]
     },
     "execution_count": 201,
     "metadata": {},
     "output_type": "execute_result"
    }
   ],
   "source": [
    "dataset.length"
   ]
  },
  {
   "cell_type": "markdown",
   "id": "4ca0f6a1",
   "metadata": {},
   "source": [
    "#### FINISH: Image Dataset deep dive ----------------------------------------(1)"
   ]
  },
  {
   "cell_type": "code",
   "execution_count": 28,
   "id": "d4ca206a",
   "metadata": {},
   "outputs": [
    {
     "data": {
      "text/plain": [
       "ImageDataset.foodiml.train.es"
      ]
     },
     "execution_count": 28,
     "metadata": {},
     "output_type": "execute_result"
    }
   ],
   "source": [
    "dataset"
   ]
  },
  {
   "cell_type": "code",
   "execution_count": 29,
   "id": "8b99c79c",
   "metadata": {},
   "outputs": [
    {
     "data": {
      "text/plain": [
       "PosixPath('images/0000766_0000996_1148236877.png')"
      ]
     },
     "execution_count": 29,
     "metadata": {},
     "output_type": "execute_result"
    }
   ],
   "source": [
    "filename = dataset.data_wrapper.get_filename_by_image_id(766)\n",
    "filename"
   ]
  },
  {
   "cell_type": "code",
   "execution_count": 30,
   "id": "59b50e1c",
   "metadata": {},
   "outputs": [],
   "source": [
    "img_path = dataset.data_path / filename"
   ]
  },
  {
   "cell_type": "code",
   "execution_count": 31,
   "id": "c1733323",
   "metadata": {},
   "outputs": [],
   "source": [
    "# Deafault loading of the original image\n",
    "from torchvision.datasets.folder import default_loader\n",
    "image = default_loader(img_path)"
   ]
  },
  {
   "cell_type": "code",
   "execution_count": 32,
   "id": "ac9f4adf",
   "metadata": {},
   "outputs": [
    {
     "data": {
      "image/png": "[encoded data removed]",
      "text/plain": [
       "<PIL.Image.Image image mode=RGB size=224x224 at 0x7FAC1FE666D8>"
      ]
     },
     "execution_count": 32,
     "metadata": {},
     "output_type": "execute_result"
    }
   ],
   "source": [
    "image"
   ]
  },
  {
   "cell_type": "code",
   "execution_count": 33,
   "id": "22411fea",
   "metadata": {},
   "outputs": [
    {
     "data": {
      "text/plain": [
       "(224, 224)"
      ]
     },
     "execution_count": 33,
     "metadata": {},
     "output_type": "execute_result"
    }
   ],
   "source": [
    "image.size"
   ]
  },
  {
   "cell_type": "code",
   "execution_count": 34,
   "id": "0de3f6cd",
   "metadata": {},
   "outputs": [],
   "source": [
    "image_transformed = dataset.transform(image)"
   ]
  },
  {
   "cell_type": "code",
   "execution_count": 35,
   "id": "7c118548",
   "metadata": {},
   "outputs": [
    {
     "data": {
      "text/plain": [
       "torch.Size([3, 224, 224])"
      ]
     },
     "execution_count": 35,
     "metadata": {},
     "output_type": "execute_result"
    }
   ],
   "source": [
    "image_transformed.shape"
   ]
  },
  {
   "cell_type": "code",
   "execution_count": 36,
   "id": "b411e74d",
   "metadata": {},
   "outputs": [
    {
     "data": {
      "text/plain": [
       "torch.Size([3, 224, 224])"
      ]
     },
     "execution_count": 36,
     "metadata": {},
     "output_type": "execute_result"
    }
   ],
   "source": [
    "# Applyied transformer of the loaded image index 0\n",
    "dataset.load_img(0).shape"
   ]
  },
  {
   "cell_type": "code",
   "execution_count": 44,
   "id": "6e697f64",
   "metadata": {},
   "outputs": [
    {
     "data": {
      "text/plain": [
       "torch.Size([3, 224, 224])"
      ]
     },
     "execution_count": 44,
     "metadata": {},
     "output_type": "execute_result"
    }
   ],
   "source": [
    "dataset[0]['image'].shape"
   ]
  },
  {
   "cell_type": "code",
   "execution_count": 45,
   "id": "d099ee63",
   "metadata": {},
   "outputs": [
    {
     "data": {
      "text/plain": [
       "'caption'"
      ]
     },
     "execution_count": 45,
     "metadata": {},
     "output_type": "execute_result"
    }
   ],
   "source": [
    "cap_tokens"
   ]
  },
  {
   "cell_type": "code",
   "execution_count": 46,
   "id": "201f1a14",
   "metadata": {},
   "outputs": [
    {
     "data": {
      "text/plain": [
       "'index'"
      ]
     },
     "execution_count": 46,
     "metadata": {},
     "output_type": "execute_result"
    }
   ],
   "source": [
    "index"
   ]
  },
  {
   "cell_type": "code",
   "execution_count": 47,
   "id": "3ea2eb74",
   "metadata": {},
   "outputs": [
    {
     "data": {
      "text/plain": [
       "'img_id'"
      ]
     },
     "execution_count": 47,
     "metadata": {},
     "output_type": "execute_result"
    }
   ],
   "source": [
    "image_id"
   ]
  },
  {
   "cell_type": "code",
   "execution_count": 48,
   "id": "68d74a15",
   "metadata": {},
   "outputs": [
    {
     "data": {
      "text/plain": [
       "'coca-cola zero azúcar lata 330ml. refrescos '"
      ]
     },
     "execution_count": 48,
     "metadata": {},
     "output_type": "execute_result"
    }
   ],
   "source": [
    "dataset.captions[0]"
   ]
  },
  {
   "cell_type": "code",
   "execution_count": 49,
   "id": "92288209",
   "metadata": {},
   "outputs": [
    {
     "data": {
      "text/plain": [
       "'<start>'"
      ]
     },
     "execution_count": 49,
     "metadata": {},
     "output_type": "execute_result"
    }
   ],
   "source": [
    "tokenizer.vocab.get_word(2)"
   ]
  },
  {
   "cell_type": "code",
   "execution_count": 50,
   "id": "85bead5e",
   "metadata": {},
   "outputs": [
    {
     "data": {
      "text/plain": [
       "'coca-cola'"
      ]
     },
     "execution_count": 50,
     "metadata": {},
     "output_type": "execute_result"
    }
   ],
   "source": [
    "tokenizer.vocab.get_word(4)"
   ]
  },
  {
   "cell_type": "code",
   "execution_count": 51,
   "id": "b02f54c2",
   "metadata": {},
   "outputs": [
    {
     "data": {
      "text/plain": [
       "'zero'"
      ]
     },
     "execution_count": 51,
     "metadata": {},
     "output_type": "execute_result"
    }
   ],
   "source": [
    "tokenizer.vocab.get_word(5)"
   ]
  },
  {
   "cell_type": "code",
   "execution_count": 52,
   "id": "ad78c1fa",
   "metadata": {},
   "outputs": [
    {
     "name": "stdout",
     "output_type": "stream",
     "text": [
      "foodiml.train.es\n"
     ]
    }
   ],
   "source": [
    "print(dataset)"
   ]
  },
  {
   "cell_type": "code",
   "execution_count": 53,
   "id": "cb4e457b",
   "metadata": {},
   "outputs": [],
   "source": [
    "sampler = None\n",
    "shuffle = (data_split == 'train')"
   ]
  },
  {
   "cell_type": "markdown",
   "id": "a24f861a",
   "metadata": {},
   "source": [
    "#### 1.1.3 Collate"
   ]
  },
  {
   "cell_type": "code",
   "execution_count": 54,
   "id": "5093a558",
   "metadata": {},
   "outputs": [
    {
     "data": {
      "text/plain": [
       "'word'"
      ]
     },
     "execution_count": 54,
     "metadata": {},
     "output_type": "execute_result"
    }
   ],
   "source": [
    "text_repr"
   ]
  },
  {
   "cell_type": "code",
   "execution_count": 55,
   "id": "997ab96c",
   "metadata": {},
   "outputs": [],
   "source": [
    "from retrieval.data import collate_fns"
   ]
  },
  {
   "cell_type": "code",
   "execution_count": 98,
   "id": "d32a6a21",
   "metadata": {},
   "outputs": [],
   "source": [
    "class Collate:\n",
    "\n",
    "    def __init__(self, text_repr='words'):\n",
    "        if text_repr == 'liwe':\n",
    "            self.padding = liwe_padding\n",
    "        else:\n",
    "            self.padding = default_padding\n",
    "        pass\n",
    "\n",
    "    def __call__(self, data):\n",
    "        attributes = data[0].keys()\n",
    "\n",
    "        batch = Dict()\n",
    "        for att in attributes:\n",
    "            batch[att] = _preprocessing_fn[att]([x[att] for x in data])\n",
    "\n",
    "        return batch"
   ]
  },
  {
   "cell_type": "code",
   "execution_count": 101,
   "id": "017dfcc8",
   "metadata": {},
   "outputs": [],
   "source": [
    "collate = Collate(text_repr)"
   ]
  },
  {
   "cell_type": "code",
   "execution_count": 57,
   "id": "63152377",
   "metadata": {},
   "outputs": [],
   "source": [
    "from torch.utils.data import DataLoader"
   ]
  },
  {
   "cell_type": "code",
   "execution_count": 58,
   "id": "98c046c9",
   "metadata": {},
   "outputs": [
    {
     "data": {
      "text/plain": [
       "True"
      ]
     },
     "execution_count": 58,
     "metadata": {},
     "output_type": "execute_result"
    }
   ],
   "source": [
    "shuffle = (data_split == 'train')\n",
    "shuffle"
   ]
  },
  {
   "cell_type": "code",
   "execution_count": 59,
   "id": "1de4284b",
   "metadata": {},
   "outputs": [],
   "source": [
    "# Change when implementing cuda and ngpu > 0\n",
    "sampler = None"
   ]
  },
  {
   "cell_type": "code",
   "execution_count": 60,
   "id": "ad49dde5",
   "metadata": {},
   "outputs": [],
   "source": [
    "# Dataloader\n",
    "loader = DataLoader(\n",
    "        dataset=dataset,\n",
    "        batch_size=batch_size,\n",
    "        shuffle=shuffle,\n",
    "        pin_memory=True,\n",
    "        collate_fn=collate,\n",
    "        num_workers=workers,\n",
    "        sampler=sampler,\n",
    "    )"
   ]
  },
  {
   "cell_type": "code",
   "execution_count": 61,
   "id": "d6f053a5",
   "metadata": {},
   "outputs": [],
   "source": [
    "#next(iter(loader))"
   ]
  },
  {
   "cell_type": "code",
   "execution_count": 102,
   "id": "b1c9d043",
   "metadata": {},
   "outputs": [],
   "source": [
    "input_collate_data = [dataset[i] for i in range(5)]"
   ]
  },
  {
   "cell_type": "code",
   "execution_count": 103,
   "id": "bbdeff2c",
   "metadata": {},
   "outputs": [
    {
     "data": {
      "text/plain": [
       "5"
      ]
     },
     "execution_count": 103,
     "metadata": {},
     "output_type": "execute_result"
    }
   ],
   "source": [
    "len(input_collate_data)"
   ]
  },
  {
   "cell_type": "code",
   "execution_count": 104,
   "id": "63c4a165",
   "metadata": {},
   "outputs": [],
   "source": [
    "sample = input_collate_data[0]"
   ]
  },
  {
   "cell_type": "code",
   "execution_count": 105,
   "id": "0690bd75",
   "metadata": {},
   "outputs": [
    {
     "data": {
      "text/plain": [
       "tensor([ 2,  4,  5,  6,  7,  8,  9, 10,  3])"
      ]
     },
     "execution_count": 105,
     "metadata": {},
     "output_type": "execute_result"
    }
   ],
   "source": [
    "sample[\"caption\"]"
   ]
  },
  {
   "cell_type": "code",
   "execution_count": 106,
   "id": "55914acf",
   "metadata": {},
   "outputs": [],
   "source": [
    "attributes = input_collate_data[0].keys()"
   ]
  },
  {
   "cell_type": "code",
   "execution_count": 107,
   "id": "55fc5931",
   "metadata": {},
   "outputs": [
    {
     "data": {
      "text/plain": [
       "dict_keys(['image', 'caption', 'index', 'img_id'])"
      ]
     },
     "execution_count": 107,
     "metadata": {},
     "output_type": "execute_result"
    }
   ],
   "source": [
    "attributes"
   ]
  },
  {
   "cell_type": "code",
   "execution_count": 88,
   "id": "1f0eb642",
   "metadata": {},
   "outputs": [],
   "source": [
    "# Padding\n",
    "input_padding = [x['caption'] for x in input_collate_data]"
   ]
  },
  {
   "cell_type": "code",
   "execution_count": 89,
   "id": "da250ae2",
   "metadata": {},
   "outputs": [
    {
     "data": {
      "text/plain": [
       "tensor([ 2,  4,  5,  6,  7,  8,  9, 10,  3])"
      ]
     },
     "execution_count": 89,
     "metadata": {},
     "output_type": "execute_result"
    }
   ],
   "source": [
    "input_padding[0]"
   ]
  },
  {
   "cell_type": "code",
   "execution_count": 90,
   "id": "8a17cfd3",
   "metadata": {},
   "outputs": [],
   "source": [
    "batch = Dict()\n",
    "batch['caption'] = collate.padding([x['caption'] for x in input_collate_data])"
   ]
  },
  {
   "cell_type": "code",
   "execution_count": 94,
   "id": "2280a36c",
   "metadata": {},
   "outputs": [],
   "source": [
    "batch_tensor, batch_lengths = batch['caption']"
   ]
  },
  {
   "cell_type": "code",
   "execution_count": 96,
   "id": "9c94ca9e",
   "metadata": {},
   "outputs": [
    {
     "data": {
      "text/plain": [
       "torch.Size([5, 11])"
      ]
     },
     "execution_count": 96,
     "metadata": {},
     "output_type": "execute_result"
    }
   ],
   "source": [
    "batch_tensor.shape"
   ]
  },
  {
   "cell_type": "code",
   "execution_count": 110,
   "id": "28714dce",
   "metadata": {},
   "outputs": [],
   "source": [
    "# Try collate\n",
    "input_collate_data = [dataset[i] for i in range(5)]\n",
    "collate = Collate()\n",
    "batch = collate(input_collate_data)"
   ]
  },
  {
   "cell_type": "code",
   "execution_count": 115,
   "id": "82acd44f",
   "metadata": {},
   "outputs": [
    {
     "data": {
      "text/plain": [
       "torch.Size([5, 3, 224, 224])"
      ]
     },
     "execution_count": 115,
     "metadata": {},
     "output_type": "execute_result"
    }
   ],
   "source": [
    "batch['image'].shape"
   ]
  },
  {
   "cell_type": "markdown",
   "id": "ba67a5bc",
   "metadata": {},
   "source": [
    "### 1.2 Inspecting get_loaders (gives error)"
   ]
  },
  {
   "cell_type": "code",
   "execution_count": null,
   "id": "650953bd",
   "metadata": {},
   "outputs": [],
   "source": [
    "data_path = data_path\n",
    "local_rank = args.local_rank\n",
    "opt = opt\n",
    "opt[\"dataset\"][\"loader_name\"] = \"image\"\n",
    "\n",
    "opt.dataset.vocab_paths\n",
    "\n",
    "train_loader = get_loader(\n",
    "        data_split='train',\n",
    "        data_path=data_path,\n",
    "        data_info=opt.dataset.train.data,\n",
    "        loader_name=opt.dataset.loader_name,\n",
    "        local_rank=local_rank,\n",
    "        text_repr=opt.dataset.text_repr,\n",
    "        vocab_paths=opt.dataset.vocab_paths,\n",
    "        ngpu=torch.cuda.device_count(),\n",
    "        **opt.dataset.train\n",
    "    )"
   ]
  },
  {
   "cell_type": "markdown",
   "id": "8c0c9fe0",
   "metadata": {},
   "source": [
    "## 1.3 Get tokenizers\n",
    "\n",
    "The previous step we loaded all the loaders, in our case, the \"loader\" we returned in 1.1, is returned in the run.py as train_loader:"
   ]
  },
  {
   "cell_type": "code",
   "execution_count": 84,
   "id": "84dba93a",
   "metadata": {},
   "outputs": [],
   "source": [
    "train_loader = loader "
   ]
  },
  {
   "cell_type": "code",
   "execution_count": 85,
   "id": "dd29256a",
   "metadata": {},
   "outputs": [],
   "source": [
    "def get_tokenizers(train_loader):\n",
    "    tokenizers = train_loader.dataset.tokenizers\n",
    "    if type(tokenizers) != list:\n",
    "        tokenizers = [tokenizers]\n",
    "    return tokenizers"
   ]
  },
  {
   "cell_type": "code",
   "execution_count": 86,
   "id": "196ed448",
   "metadata": {},
   "outputs": [
    {
     "data": {
      "text/plain": [
       "<retrieval.data.tokenizer.Tokenizer at 0x7f65615d50f0>"
      ]
     },
     "execution_count": 86,
     "metadata": {},
     "output_type": "execute_result"
    }
   ],
   "source": [
    "train_loader.dataset.tokenizer"
   ]
  },
  {
   "cell_type": "code",
   "execution_count": 87,
   "id": "7164688d",
   "metadata": {},
   "outputs": [],
   "source": [
    "# Get tokenizer gets error because the attribute train_loader.dataset.tokenizers does not exist\n",
    "# it only exists train_loader.dataset.tokenizer\n",
    "tokenizers = [train_loader.dataset.tokenizer]"
   ]
  },
  {
   "cell_type": "markdown",
   "id": "ff1339d0",
   "metadata": {},
   "source": [
    "### 1.3.1 Deep dive tokenizer"
   ]
  },
  {
   "cell_type": "code",
   "execution_count": 88,
   "id": "b6d69855",
   "metadata": {},
   "outputs": [],
   "source": [
    "tokenizer = train_loader.dataset.tokenizer"
   ]
  },
  {
   "cell_type": "code",
   "execution_count": 89,
   "id": "afbba053",
   "metadata": {},
   "outputs": [],
   "source": [
    "# How is this tokenizer created? \n",
    "# Inside get_loader (loaders.py) in the tokenizers.append(Tokenizer)"
   ]
  },
  {
   "cell_type": "code",
   "execution_count": 90,
   "id": "6a9d0b08",
   "metadata": {},
   "outputs": [
    {
     "data": {
      "text/plain": [
       "'.vocab_cache/f30k_precomp.json'"
      ]
     },
     "execution_count": 90,
     "metadata": {},
     "output_type": "execute_result"
    }
   ],
   "source": [
    "vocab_path"
   ]
  },
  {
   "cell_type": "code",
   "execution_count": 91,
   "id": "007d70e7",
   "metadata": {},
   "outputs": [
    {
     "name": "stderr",
     "output_type": "stream",
     "text": [
      "2021-08-09 16:35:04,118 - [INFO    ] - Loaded vocab containing 8347 tokens\n",
      "2021-08-09 16:35:04,119 - [INFO    ] - Loaded from .vocab_cache/f30k_precomp.json.\n",
      "2021-08-09 16:35:04,119 - [INFO    ] - Created tokenizer with init 8347 tokens.\n"
     ]
    }
   ],
   "source": [
    "tkk = Tokenizer(vocab_path)"
   ]
  },
  {
   "cell_type": "markdown",
   "id": "fea5d50f",
   "metadata": {},
   "source": [
    "#### Deep dive on Tokenizer --------------------- (1)"
   ]
  },
  {
   "cell_type": "code",
   "execution_count": 107,
   "id": "00527b09",
   "metadata": {},
   "outputs": [],
   "source": [
    "# created in retrieval > data > loaders.py line 60"
   ]
  },
  {
   "cell_type": "code",
   "execution_count": 92,
   "id": "1d2a0888",
   "metadata": {},
   "outputs": [],
   "source": [
    "from retrieval.data.tokenizer import Vocabulary"
   ]
  },
  {
   "cell_type": "code",
   "execution_count": 93,
   "id": "6d4df5d1",
   "metadata": {},
   "outputs": [],
   "source": [
    "# Vocabulary class"
   ]
  },
  {
   "cell_type": "code",
   "execution_count": 94,
   "id": "86d55430",
   "metadata": {},
   "outputs": [],
   "source": [
    "vocab = Vocabulary()"
   ]
  },
  {
   "cell_type": "code",
   "execution_count": 95,
   "id": "76d91c46",
   "metadata": {},
   "outputs": [],
   "source": [
    "vocab.add_word(\"hey\")\n",
    "vocab.add_word(\"how\")"
   ]
  },
  {
   "cell_type": "code",
   "execution_count": 96,
   "id": "211d0063",
   "metadata": {},
   "outputs": [
    {
     "data": {
      "text/plain": [
       "{'hey': 0, 'how': 1}"
      ]
     },
     "execution_count": 96,
     "metadata": {},
     "output_type": "execute_result"
    }
   ],
   "source": [
    "vocab.word2idx"
   ]
  },
  {
   "cell_type": "code",
   "execution_count": 97,
   "id": "21766e15",
   "metadata": {},
   "outputs": [
    {
     "data": {
      "text/plain": [
       "{0: 'hey', 1: 'how'}"
      ]
     },
     "execution_count": 97,
     "metadata": {},
     "output_type": "execute_result"
    }
   ],
   "source": [
    "vocab.idx2word"
   ]
  },
  {
   "cell_type": "code",
   "execution_count": 98,
   "id": "7dd0843f",
   "metadata": {},
   "outputs": [
    {
     "data": {
      "text/plain": [
       "2"
      ]
     },
     "execution_count": 98,
     "metadata": {},
     "output_type": "execute_result"
    }
   ],
   "source": [
    "vocab.idx"
   ]
  },
  {
   "cell_type": "code",
   "execution_count": 99,
   "id": "fc2edfac",
   "metadata": {},
   "outputs": [],
   "source": [
    "# Tokenizer class"
   ]
  },
  {
   "cell_type": "code",
   "execution_count": 100,
   "id": "05326280",
   "metadata": {},
   "outputs": [],
   "source": [
    "vocab = Vocabulary()\n",
    "vocab.add_word('<pad>')\n",
    "vocab.add_word('<unk>')\n",
    "vocab.add_word('<start>')\n",
    "vocab.add_word('<end>')\n",
    "\n",
    "char_level = True\n",
    "if char_level:\n",
    "    vocab.add_word(' ') # Space is allways #2\n"
   ]
  },
  {
   "cell_type": "code",
   "execution_count": 101,
   "id": "e0da3635",
   "metadata": {},
   "outputs": [],
   "source": [
    "# Inspect Tokenizer.load"
   ]
  },
  {
   "cell_type": "code",
   "execution_count": 102,
   "id": "51805d6a",
   "metadata": {},
   "outputs": [],
   "source": [
    "import json \n",
    "\n",
    "path = vocab_path\n",
    "with open(path) as f:\n",
    "    state = json.load(f)"
   ]
  },
  {
   "cell_type": "code",
   "execution_count": 103,
   "id": "18b7400c",
   "metadata": {},
   "outputs": [
    {
     "data": {
      "text/plain": [
       "8347"
      ]
     },
     "execution_count": 103,
     "metadata": {},
     "output_type": "execute_result"
    }
   ],
   "source": [
    "len(state[\"word2idx\"])"
   ]
  },
  {
   "cell_type": "code",
   "execution_count": 104,
   "id": "be9396dd",
   "metadata": {},
   "outputs": [],
   "source": [
    "# Overwrites previous definition of the vocabulary\n",
    "vocab = Vocabulary()\n",
    "vocab.word2idx = state['word2idx']\n",
    "vocab.idx2word = {v: k for k, v in vocab.word2idx.items()}\n",
    "vocab.idx = max(vocab.idx2word)"
   ]
  },
  {
   "cell_type": "code",
   "execution_count": 105,
   "id": "53e47b18",
   "metadata": {},
   "outputs": [
    {
     "data": {
      "text/plain": [
       "False"
      ]
     },
     "execution_count": 105,
     "metadata": {},
     "output_type": "execute_result"
    }
   ],
   "source": [
    "state['char_level']"
   ]
  },
  {
   "cell_type": "code",
   "execution_count": 106,
   "id": "3af0894e",
   "metadata": {},
   "outputs": [],
   "source": [
    "state['max_len']"
   ]
  },
  {
   "cell_type": "markdown",
   "id": "72b1081c",
   "metadata": {},
   "source": [
    "#### FINISH: Deep dive on Tokenizer --------------------- (1)"
   ]
  },
  {
   "cell_type": "markdown",
   "id": "f4428e41",
   "metadata": {},
   "source": [
    "## 1.4 Retrieval"
   ]
  },
  {
   "cell_type": "code",
   "execution_count": 117,
   "id": "a22fe619",
   "metadata": {},
   "outputs": [],
   "source": [
    "# see this issue\n",
    "# https://github.com/pytorch/pytorch/issues/17543"
   ]
  },
  {
   "cell_type": "code",
   "execution_count": 119,
   "id": "35ef4fae",
   "metadata": {},
   "outputs": [],
   "source": [
    "model = Retrieval(**opt.model, tokenizers=tokenizers)"
   ]
  },
  {
   "cell_type": "markdown",
   "id": "5ec7ce59",
   "metadata": {},
   "source": [
    "### 1.4.1 Deep dive Retrieval --------------------------------- (1)"
   ]
  },
  {
   "cell_type": "markdown",
   "id": "4125d2e2",
   "metadata": {},
   "source": [
    "# 1.5 Set Criterion"
   ]
  },
  {
   "cell_type": "code",
   "execution_count": 122,
   "id": "e140f1ff",
   "metadata": {},
   "outputs": [],
   "source": [
    "from retrieval.model import loss"
   ]
  },
  {
   "cell_type": "code",
   "execution_count": 130,
   "id": "9850c3f4",
   "metadata": {},
   "outputs": [],
   "source": [
    "def set_criterion(opt, model):\n",
    "    if 'name' in opt.criterion:\n",
    "        logger.info(opt.criterion)\n",
    "        multimodal_criterion = loss.get_loss(**opt.criterion)\n",
    "        multilanguage_criterion = loss.get_loss(**opt.criterion)\n",
    "    else:\n",
    "        multimodal_criterion = loss.ContrastiveLoss(**opt.criterion)\n",
    "        multilanguage_criterion = loss.ContrastiveLoss(**opt.ml_criterion)\n",
    "    set_model_criterion(opt, model, multilanguage_criterion, multimodal_criterion)\n",
    "    # return multimodal_criterion, multilanguage_criterion\n",
    "\n",
    "\n",
    "def set_model_criterion(opt, model, multilanguage_criterion, multimodal_criterion):\n",
    "    model.mm_criterion = multimodal_criterion\n",
    "    model.ml_criterion = None\n",
    "    if len(opt.dataset.adapt.data) > 0:\n",
    "        model.ml_criterion = multilanguage_criterion"
   ]
  },
  {
   "cell_type": "code",
   "execution_count": 131,
   "id": "3706c97f",
   "metadata": {},
   "outputs": [],
   "source": [
    "multimodal_criterion = loss.ContrastiveLoss(**opt.criterion)\n",
    "multilanguage_criterion = loss.ContrastiveLoss(**opt.ml_criterion)"
   ]
  },
  {
   "cell_type": "code",
   "execution_count": 138,
   "id": "5198dac9",
   "metadata": {},
   "outputs": [],
   "source": [
    "model.ml_criterion"
   ]
  },
  {
   "cell_type": "code",
   "execution_count": null,
   "id": "bedaae0e",
   "metadata": {},
   "outputs": [],
   "source": [
    "set_criterion(opt, model)"
   ]
  }
 ],
 "metadata": {
  "kernelspec": {
   "display_name": "conda_python3",
   "language": "python",
   "name": "conda_python3"
  },
  "language_info": {
   "codemirror_mode": {
    "name": "ipython",
    "version": 3
   },
   "file_extension": ".py",
   "mimetype": "text/x-python",
   "name": "python",
   "nbconvert_exporter": "python",
   "pygments_lexer": "ipython3",
   "version": "3.6.13"
  }
 },
 "nbformat": 4,
 "nbformat_minor": 5
}
