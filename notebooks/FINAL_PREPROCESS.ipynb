{
 "cells": [
  {
   "cell_type": "markdown",
   "id": "f64229d6",
   "metadata": {},
   "source": [
    "# FINAL PREPROCESS\n",
    "1. Read CSV\n",
    "2. Fit Tokenizer (if it is already fitted read it from disk)\n",
    "3. Create a parquet file called samples\n",
    "4. Save the parquet"
   ]
  },
  {
   "cell_type": "code",
   "execution_count": 1,
   "id": "e4f29c25",
   "metadata": {},
   "outputs": [],
   "source": [
    "import os\n",
    "import numpy as np\n",
    "import pandas as pd\n",
    "import multiprocessing\n",
    "import sys\n",
    "import json\n",
    "from tqdm import tqdm\n",
    "import shutil\n",
    "from sklearn.model_selection import train_test_split\n",
    "\n",
    "#os.chdir(\"/home/ec2-user/SageMaker/foodi-ml/notebooks/\")"
   ]
  },
  {
   "cell_type": "code",
   "execution_count": 2,
   "id": "b2d4448a",
   "metadata": {},
   "outputs": [
    {
     "ename": "ModuleNotFoundError",
     "evalue": "No module named 'torch'",
     "output_type": "error",
     "traceback": [
      "\u001b[0;31m---------------------------------------------------------------------------\u001b[0m",
      "\u001b[0;31mModuleNotFoundError\u001b[0m                       Traceback (most recent call last)",
      "\u001b[0;32m<ipython-input-2-414144362cc5>\u001b[0m in \u001b[0;36m<module>\u001b[0;34m\u001b[0m\n\u001b[0;32m----> 1\u001b[0;31m \u001b[0;32mimport\u001b[0m \u001b[0mtorch\u001b[0m\u001b[0;34m\u001b[0m\u001b[0;34m\u001b[0m\u001b[0m\n\u001b[0m\u001b[1;32m      2\u001b[0m \u001b[0mtorch\u001b[0m\u001b[0;34m.\u001b[0m\u001b[0m__version__\u001b[0m\u001b[0;34m\u001b[0m\u001b[0;34m\u001b[0m\u001b[0m\n",
      "\u001b[0;31mModuleNotFoundError\u001b[0m: No module named 'torch'"
     ]
    }
   ],
   "source": [
    "import torch\n",
    "torch.__version__"
   ]
  },
  {
   "cell_type": "code",
   "execution_count": 3,
   "id": "fce126e0",
   "metadata": {},
   "outputs": [
    {
     "ename": "ValueError",
     "evalue": "module functions cannot set METH_CLASS or METH_STATIC",
     "output_type": "error",
     "traceback": [
      "\u001b[0;31m---------------------------------------------------------------------------\u001b[0m",
      "\u001b[0;31mValueError\u001b[0m                                Traceback (most recent call last)",
      "\u001b[0;32m<ipython-input-3-321fb062cc9f>\u001b[0m in \u001b[0;36m<module>\u001b[0;34m\u001b[0m\n\u001b[1;32m      1\u001b[0m \u001b[0mos\u001b[0m\u001b[0;34m.\u001b[0m\u001b[0mchdir\u001b[0m\u001b[0;34m(\u001b[0m\u001b[0;34m\"/home/ec2-user/SageMaker/foodi-ml/\"\u001b[0m\u001b[0;34m)\u001b[0m\u001b[0;34m\u001b[0m\u001b[0;34m\u001b[0m\u001b[0m\n\u001b[0;32m----> 2\u001b[0;31m \u001b[0;32mfrom\u001b[0m \u001b[0mretrieval\u001b[0m\u001b[0;34m.\u001b[0m\u001b[0mdata\u001b[0m\u001b[0;34m.\u001b[0m\u001b[0mtokenizer\u001b[0m \u001b[0;32mimport\u001b[0m \u001b[0mTokenizer\u001b[0m\u001b[0;34m\u001b[0m\u001b[0;34m\u001b[0m\u001b[0m\n\u001b[0m",
      "\u001b[0;32m~/SageMaker/foodi-ml/retrieval/__init__.py\u001b[0m in \u001b[0;36m<module>\u001b[0;34m\u001b[0m\n\u001b[0;32m----> 1\u001b[0;31m \u001b[0;32mfrom\u001b[0m \u001b[0;34m.\u001b[0m \u001b[0;32mimport\u001b[0m \u001b[0mmodel\u001b[0m\u001b[0;34m\u001b[0m\u001b[0;34m\u001b[0m\u001b[0m\n\u001b[0m\u001b[1;32m      2\u001b[0m \u001b[0;32mfrom\u001b[0m \u001b[0;34m.\u001b[0m \u001b[0;32mimport\u001b[0m \u001b[0mutils\u001b[0m\u001b[0;34m\u001b[0m\u001b[0;34m\u001b[0m\u001b[0m\n\u001b[1;32m      3\u001b[0m \u001b[0;32mfrom\u001b[0m \u001b[0;34m.\u001b[0m \u001b[0;32mimport\u001b[0m \u001b[0mdata\u001b[0m\u001b[0;34m\u001b[0m\u001b[0;34m\u001b[0m\u001b[0m\n\u001b[1;32m      4\u001b[0m \u001b[0;32mfrom\u001b[0m \u001b[0;34m.\u001b[0m \u001b[0;32mimport\u001b[0m \u001b[0mtrain\u001b[0m\u001b[0;34m\u001b[0m\u001b[0;34m\u001b[0m\u001b[0m\n",
      "\u001b[0;32m~/SageMaker/foodi-ml/retrieval/model/__init__.py\u001b[0m in \u001b[0;36m<module>\u001b[0;34m\u001b[0m\n\u001b[0;32m----> 1\u001b[0;31m \u001b[0;32mfrom\u001b[0m \u001b[0;34m.\u001b[0m\u001b[0mmodel\u001b[0m \u001b[0;32mimport\u001b[0m \u001b[0mRetrieval\u001b[0m\u001b[0;34m\u001b[0m\u001b[0;34m\u001b[0m\u001b[0m\n\u001b[0m\u001b[1;32m      2\u001b[0m \u001b[0;32mfrom\u001b[0m \u001b[0;34m.\u001b[0m \u001b[0;32mimport\u001b[0m \u001b[0mmodel\u001b[0m\u001b[0;34m\u001b[0m\u001b[0;34m\u001b[0m\u001b[0m\n\u001b[1;32m      3\u001b[0m \u001b[0;32mfrom\u001b[0m \u001b[0;34m.\u001b[0m \u001b[0;32mimport\u001b[0m \u001b[0mloss\u001b[0m\u001b[0;34m\u001b[0m\u001b[0;34m\u001b[0m\u001b[0m\n\u001b[1;32m      4\u001b[0m \u001b[0;32mfrom\u001b[0m \u001b[0;34m.\u001b[0m \u001b[0;32mimport\u001b[0m \u001b[0msimilarity\u001b[0m\u001b[0;34m\u001b[0m\u001b[0;34m\u001b[0m\u001b[0m\n\u001b[1;32m      5\u001b[0m \u001b[0;32mfrom\u001b[0m \u001b[0;34m.\u001b[0m \u001b[0;32mimport\u001b[0m \u001b[0mimgenc\u001b[0m\u001b[0;34m\u001b[0m\u001b[0;34m\u001b[0m\u001b[0m\n",
      "\u001b[0;32m~/SageMaker/foodi-ml/retrieval/model/model.py\u001b[0m in \u001b[0;36m<module>\u001b[0;34m\u001b[0m\n\u001b[0;32m----> 1\u001b[0;31m \u001b[0;32mimport\u001b[0m \u001b[0mtorch\u001b[0m\u001b[0;34m\u001b[0m\u001b[0;34m\u001b[0m\u001b[0m\n\u001b[0m\u001b[1;32m      2\u001b[0m \u001b[0;32mimport\u001b[0m \u001b[0mtorch\u001b[0m\u001b[0;34m.\u001b[0m\u001b[0mnn\u001b[0m \u001b[0;32mas\u001b[0m \u001b[0mnn\u001b[0m\u001b[0;34m\u001b[0m\u001b[0;34m\u001b[0m\u001b[0m\n\u001b[1;32m      3\u001b[0m \u001b[0;34m\u001b[0m\u001b[0m\n\u001b[1;32m      4\u001b[0m \u001b[0;32mfrom\u001b[0m \u001b[0;34m.\u001b[0m \u001b[0;32mimport\u001b[0m \u001b[0mdata_parallel\u001b[0m\u001b[0;34m\u001b[0m\u001b[0;34m\u001b[0m\u001b[0m\n\u001b[1;32m      5\u001b[0m \u001b[0;32mfrom\u001b[0m \u001b[0;34m.\u001b[0m\u001b[0;34m.\u001b[0m\u001b[0mutils\u001b[0m\u001b[0;34m.\u001b[0m\u001b[0mlogger\u001b[0m \u001b[0;32mimport\u001b[0m \u001b[0mget_logger\u001b[0m\u001b[0;34m\u001b[0m\u001b[0;34m\u001b[0m\u001b[0m\n",
      "\u001b[0;32m~/anaconda3/envs/python3/lib/python3.6/site-packages/torch/__init__.py\u001b[0m in \u001b[0;36m<module>\u001b[0;34m\u001b[0m\n\u001b[1;32m     77\u001b[0m \u001b[0;32mdel\u001b[0m \u001b[0m_dl_flags\u001b[0m\u001b[0;34m\u001b[0m\u001b[0;34m\u001b[0m\u001b[0m\n\u001b[1;32m     78\u001b[0m \u001b[0;34m\u001b[0m\u001b[0m\n\u001b[0;32m---> 79\u001b[0;31m \u001b[0;32mfrom\u001b[0m \u001b[0mtorch\u001b[0m\u001b[0;34m.\u001b[0m\u001b[0m_C\u001b[0m \u001b[0;32mimport\u001b[0m \u001b[0;34m*\u001b[0m\u001b[0;34m\u001b[0m\u001b[0;34m\u001b[0m\u001b[0m\n\u001b[0m\u001b[1;32m     80\u001b[0m \u001b[0;34m\u001b[0m\u001b[0m\n\u001b[1;32m     81\u001b[0m __all__ += [name for name in dir(_C)\n",
      "\u001b[0;31mValueError\u001b[0m: module functions cannot set METH_CLASS or METH_STATIC"
     ]
    }
   ],
   "source": [
    "os.chdir(\"/home/ec2-user/SageMaker/foodi-ml/\")\n",
    "from retrieval.data.tokenizer import Tokenizer"
   ]
  },
  {
   "cell_type": "markdown",
   "id": "659a9999",
   "metadata": {},
   "source": [
    "# Exploration of execution\n",
    "\n",
    "Execution \n",
    "\n",
    "```{bash}\n",
    "cd /home/ec2-user/SageMaker/foodi-ml\n",
    "source activate python3\n",
    "export DATA_PATH=/home/ec2-user/SageMaker/dataset/\n",
    "python run.py options/adapt/foodi-ml/i2t.yaml\n",
    "python test.py options/adapt/foodi-ml/i2t.yaml\n",
    "\n",
    "#watch -n 1 \"nvidia-smi\"\n",
    "```"
   ]
  },
  {
   "cell_type": "markdown",
   "id": "8e81d319",
   "metadata": {},
   "source": [
    "# Configurations"
   ]
  },
  {
   "cell_type": "code",
   "execution_count": 2,
   "id": "bcafdd6b",
   "metadata": {},
   "outputs": [],
   "source": [
    "PATH_DATA = '/home/ec2-user/SageMaker/dataset/'\n",
    "PATH_FOODI = '/home/ec2-user/SageMaker/foodi-ml'\n",
    "DATASET_CSV = 'glovo-foodi-ml-dataset.csv'\n",
    "\n",
    "conf = {\n",
    "    \"S3_BUCKET\": 'glovo-products-dataset-d1c9720d',\n",
    "    \"S3_KEY_DATASET\": DATASET_CSV,\n",
    "    \"LOCAL_RAW_DATASET\": os.path.join(PATH_DATA, DATASET_CSV),\n",
    "    \"LOCAL_DATASET\": os.path.join(PATH_DATA, 'samples_small'),\n",
    "    \"LOCAL_IMAGES\": os.path.join(PATH_DATA, 'dataset'),\n",
    "    \"LOCAL_VOCAB\": os.path.join(PATH_FOODI, '.vocab_cache/foodiml_vocab.json'),\n",
    "    \"pth_dwn_samples\": '/home/ec2-user/SageMaker/dataset/',\n",
    "    \"pth_dwn_images\": '/home/ec2-user/SageMaker/dataset/dataset/',\n",
    "    \"pth_vocab\": '/home/ec2-user/SageMaker/foodi-ml/.vocab_cache/foodiml_vocab.json',\n",
    "    \"pth_dataset_json\": '/home/ec2-user/SageMaker/dataset/dataset_foodiml.json',\n",
    "}"
   ]
  },
  {
   "cell_type": "markdown",
   "id": "fd929cff",
   "metadata": {},
   "source": [
    "# Read all samples"
   ]
  },
  {
   "cell_type": "code",
   "execution_count": 3,
   "id": "0286e44d",
   "metadata": {},
   "outputs": [],
   "source": [
    "samples = pd.read_csv(os.path.join(conf['LOCAL_RAW_DATASET']))"
   ]
  },
  {
   "cell_type": "code",
   "execution_count": 4,
   "id": "1a3b8403",
   "metadata": {},
   "outputs": [
    {
     "data": {
      "text/plain": [
       "(2887444, 15)"
      ]
     },
     "execution_count": 4,
     "metadata": {},
     "output_type": "execute_result"
    }
   ],
   "source": [
    "samples.shape"
   ]
  },
  {
   "cell_type": "code",
   "execution_count": 5,
   "id": "c15209e9",
   "metadata": {},
   "outputs": [
    {
     "data": {
      "text/html": [
       "<div>\n",
       "<style scoped>\n",
       "    .dataframe tbody tr th:only-of-type {\n",
       "        vertical-align: middle;\n",
       "    }\n",
       "\n",
       "    .dataframe tbody tr th {\n",
       "        vertical-align: top;\n",
       "    }\n",
       "\n",
       "    .dataframe thead th {\n",
       "        text-align: right;\n",
       "    }\n",
       "</style>\n",
       "<table border=\"1\" class=\"dataframe\">\n",
       "  <thead>\n",
       "    <tr style=\"text-align: right;\">\n",
       "      <th></th>\n",
       "      <th>Unnamed: 0</th>\n",
       "      <th>Unnamed: 0.1</th>\n",
       "      <th>Unnamed: 0.1.1</th>\n",
       "      <th>Unnamed: 0.1.1.1</th>\n",
       "      <th>country_code</th>\n",
       "      <th>city_code</th>\n",
       "      <th>store_name</th>\n",
       "      <th>product_name</th>\n",
       "      <th>collection_section</th>\n",
       "      <th>product_description</th>\n",
       "      <th>subset</th>\n",
       "      <th>hash</th>\n",
       "      <th>aux_store</th>\n",
       "      <th>HIER</th>\n",
       "      <th>s3_path</th>\n",
       "    </tr>\n",
       "  </thead>\n",
       "  <tbody>\n",
       "    <tr>\n",
       "      <th>0</th>\n",
       "      <td>0</td>\n",
       "      <td>0</td>\n",
       "      <td>0</td>\n",
       "      <td>0</td>\n",
       "      <td>CL</td>\n",
       "      <td>STG</td>\n",
       "      <td>AS_000</td>\n",
       "      <td>Savital Shampoo Keratina Y Sabila 550Ml (00001...</td>\n",
       "      <td>Shampoo</td>\n",
       "      <td>NaN</td>\n",
       "      <td>train</td>\n",
       "      <td>3509449892161349181</td>\n",
       "      <td>True</td>\n",
       "      <td>False</td>\n",
       "      <td>/home/ec2-user/SageMaker/dataset/dataset/NZTCK...</td>\n",
       "    </tr>\n",
       "    <tr>\n",
       "      <th>1</th>\n",
       "      <td>1</td>\n",
       "      <td>1</td>\n",
       "      <td>1</td>\n",
       "      <td>1</td>\n",
       "      <td>KE</td>\n",
       "      <td>NRK</td>\n",
       "      <td>Cold Stone Creamery Cart</td>\n",
       "      <td>Chocolate Layer Cake™</td>\n",
       "      <td>Promotions - Free waffles on every ice cream p...</td>\n",
       "      <td>Sweet Cream Ice Cream with Crumbles of Chocola...</td>\n",
       "      <td>train</td>\n",
       "      <td>1077526765743747663</td>\n",
       "      <td>False</td>\n",
       "      <td>True</td>\n",
       "      <td>/home/ec2-user/SageMaker/dataset/dataset/YKKVT...</td>\n",
       "    </tr>\n",
       "    <tr>\n",
       "      <th>2</th>\n",
       "      <td>2</td>\n",
       "      <td>2</td>\n",
       "      <td>2</td>\n",
       "      <td>2</td>\n",
       "      <td>UA</td>\n",
       "      <td>DNP</td>\n",
       "      <td>Khinkali &amp; Khachapuri / Хинкали &amp; Хачапури</td>\n",
       "      <td>Асорті на компанію</td>\n",
       "      <td>ЗАКУСКИ</td>\n",
       "      <td>балик домашній,грудинка копчена,паштет з печін...</td>\n",
       "      <td>train</td>\n",
       "      <td>-4606644841517710049</td>\n",
       "      <td>False</td>\n",
       "      <td>True</td>\n",
       "      <td>/home/ec2-user/SageMaker/dataset/dataset/ZFSHH...</td>\n",
       "    </tr>\n",
       "    <tr>\n",
       "      <th>3</th>\n",
       "      <td>3</td>\n",
       "      <td>3</td>\n",
       "      <td>3</td>\n",
       "      <td>3</td>\n",
       "      <td>CL</td>\n",
       "      <td>STG</td>\n",
       "      <td>AS_001</td>\n",
       "      <td>Suav Vivere Hierbas F Jazmin Pouch 900Cc</td>\n",
       "      <td>Suavizantes</td>\n",
       "      <td>NaN</td>\n",
       "      <td>train</td>\n",
       "      <td>-3420249778599023770</td>\n",
       "      <td>True</td>\n",
       "      <td>False</td>\n",
       "      <td>/home/ec2-user/SageMaker/dataset/dataset/NZTCK...</td>\n",
       "    </tr>\n",
       "    <tr>\n",
       "      <th>4</th>\n",
       "      <td>4</td>\n",
       "      <td>4</td>\n",
       "      <td>4</td>\n",
       "      <td>4</td>\n",
       "      <td>CL</td>\n",
       "      <td>STG</td>\n",
       "      <td>AS_000</td>\n",
       "      <td>Leoncio Y El Doctor Veterinario</td>\n",
       "      <td>Infantil</td>\n",
       "      <td>NaN</td>\n",
       "      <td>train</td>\n",
       "      <td>2295647601757404193</td>\n",
       "      <td>True</td>\n",
       "      <td>False</td>\n",
       "      <td>/home/ec2-user/SageMaker/dataset/dataset/NZTCK...</td>\n",
       "    </tr>\n",
       "  </tbody>\n",
       "</table>\n",
       "</div>"
      ],
      "text/plain": [
       "   Unnamed: 0  Unnamed: 0.1  Unnamed: 0.1.1  Unnamed: 0.1.1.1 country_code  \\\n",
       "0           0             0               0                 0           CL   \n",
       "1           1             1               1                 1           KE   \n",
       "2           2             2               2                 2           UA   \n",
       "3           3             3               3                 3           CL   \n",
       "4           4             4               4                 4           CL   \n",
       "\n",
       "  city_code                                  store_name  \\\n",
       "0       STG                                      AS_000   \n",
       "1       NRK                    Cold Stone Creamery Cart   \n",
       "2       DNP  Khinkali & Khachapuri / Хинкали & Хачапури   \n",
       "3       STG                                      AS_001   \n",
       "4       STG                                      AS_000   \n",
       "\n",
       "                                        product_name  \\\n",
       "0  Savital Shampoo Keratina Y Sabila 550Ml (00001...   \n",
       "1                              Chocolate Layer Cake™   \n",
       "2                                 Асорті на компанію   \n",
       "3           Suav Vivere Hierbas F Jazmin Pouch 900Cc   \n",
       "4                    Leoncio Y El Doctor Veterinario   \n",
       "\n",
       "                                  collection_section  \\\n",
       "0                                            Shampoo   \n",
       "1  Promotions - Free waffles on every ice cream p...   \n",
       "2                                            ЗАКУСКИ   \n",
       "3                                        Suavizantes   \n",
       "4                                           Infantil   \n",
       "\n",
       "                                 product_description subset  \\\n",
       "0                                                NaN  train   \n",
       "1  Sweet Cream Ice Cream with Crumbles of Chocola...  train   \n",
       "2  балик домашній,грудинка копчена,паштет з печін...  train   \n",
       "3                                                NaN  train   \n",
       "4                                                NaN  train   \n",
       "\n",
       "                  hash  aux_store   HIER  \\\n",
       "0  3509449892161349181       True  False   \n",
       "1  1077526765743747663      False   True   \n",
       "2 -4606644841517710049      False   True   \n",
       "3 -3420249778599023770       True  False   \n",
       "4  2295647601757404193       True  False   \n",
       "\n",
       "                                             s3_path  \n",
       "0  /home/ec2-user/SageMaker/dataset/dataset/NZTCK...  \n",
       "1  /home/ec2-user/SageMaker/dataset/dataset/YKKVT...  \n",
       "2  /home/ec2-user/SageMaker/dataset/dataset/ZFSHH...  \n",
       "3  /home/ec2-user/SageMaker/dataset/dataset/NZTCK...  \n",
       "4  /home/ec2-user/SageMaker/dataset/dataset/NZTCK...  "
      ]
     },
     "execution_count": 5,
     "metadata": {},
     "output_type": "execute_result"
    }
   ],
   "source": [
    "samples.head()"
   ]
  },
  {
   "cell_type": "code",
   "execution_count": 6,
   "id": "17e42c58",
   "metadata": {},
   "outputs": [
    {
     "data": {
      "text/plain": [
       "'/home/ec2-user/SageMaker/dataset/dataset/NZTCKFL_0017467_1193055503.png'"
      ]
     },
     "execution_count": 6,
     "metadata": {},
     "output_type": "execute_result"
    }
   ],
   "source": [
    "# Check that images in the dataframe are refering to the correct path\n",
    "samples[\"s3_path\"].iloc[0]"
   ]
  },
  {
   "cell_type": "markdown",
   "id": "7799a441",
   "metadata": {},
   "source": [
    "There are some images (~30) that are missing in the S3 bucket but they appear in the CSV file. We remove them."
   ]
  },
  {
   "cell_type": "code",
   "execution_count": 8,
   "id": "4f52dcb1",
   "metadata": {},
   "outputs": [
    {
     "name": "stdout",
     "output_type": "stream",
     "text": [
      "/home/ec2-user/SageMaker/dataset/dataset/LNQBTMC_0092690_1654903940.png\n",
      "/home/ec2-user/SageMaker/dataset/dataset/VJTTJQD_0040488_1098020161.png\n",
      "/home/ec2-user/SageMaker/dataset/dataset/PPKWSJR_0004646_60587075.png\n",
      "/home/ec2-user/SageMaker/dataset/dataset/BSCRBMV_0011116_1220714661.png\n",
      "/home/ec2-user/SageMaker/dataset/dataset/VJTTJQD_0214351_1380823197.png\n",
      "/home/ec2-user/SageMaker/dataset/dataset/BFDKZRG_0032872_617098369.png\n",
      "/home/ec2-user/SageMaker/dataset/dataset/BFDKZRG_0036209_809223163.png\n",
      "/home/ec2-user/SageMaker/dataset/dataset/VJTTJQD_0211327_1380809266.png\n",
      "/home/ec2-user/SageMaker/dataset/dataset/VJTTJQD_0213966_1380821411.png\n",
      "/home/ec2-user/SageMaker/dataset/dataset/PPKWSJR_0002867_60584254.png\n",
      "/home/ec2-user/SageMaker/dataset/dataset/VJTTJQD_0206886_1380791874.png\n",
      "/home/ec2-user/SageMaker/dataset/dataset/QPCYVVZ_0009860_1097897031.png\n",
      "/home/ec2-user/SageMaker/dataset/dataset/FZKQYZG_0004222_1586626572.png\n",
      "/home/ec2-user/SageMaker/dataset/dataset/VJTTJQD_0211294_1380809134.png\n",
      "/home/ec2-user/SageMaker/dataset/dataset/GYTGYCG_0016434_1702351010.png\n",
      "/home/ec2-user/SageMaker/dataset/dataset/BFDKZRG_0032867_617097242.png\n",
      "/home/ec2-user/SageMaker/dataset/dataset/GYTGYCG_0017030_1702351898.png\n",
      "/home/ec2-user/SageMaker/dataset/dataset/VJTTJQD_0212459_1380812814.png\n",
      "/home/ec2-user/SageMaker/dataset/dataset/QSMFWRR_0343290_1954774924.png\n",
      "/home/ec2-user/SageMaker/dataset/dataset/QSMFWRR_0431055_2126020785.png\n",
      "/home/ec2-user/SageMaker/dataset/dataset/VJTTJQD_0206597_1380790598.png\n",
      "/home/ec2-user/SageMaker/dataset/dataset/GYTGYCG_0016440_1702351017.png\n",
      "/home/ec2-user/SageMaker/dataset/dataset/VJTTJQD_0214344_1380823105.png\n"
     ]
    }
   ],
   "source": [
    "missing_images = []\n",
    "for p in samples[\"s3_path\"].unique():\n",
    "    if not os.path.exists(p):\n",
    "        print(p)\n",
    "        missing_images.append(p)"
   ]
  },
  {
   "cell_type": "code",
   "execution_count": 9,
   "id": "4322a01f",
   "metadata": {},
   "outputs": [
    {
     "data": {
      "text/plain": [
       "(2887399, 15)"
      ]
     },
     "execution_count": 9,
     "metadata": {},
     "output_type": "execute_result"
    }
   ],
   "source": [
    "samples = samples[~samples[\"s3_path\"].isin(missing_images)]\n",
    "samples.shape"
   ]
  },
  {
   "cell_type": "code",
   "execution_count": null,
   "id": "4a02d24f",
   "metadata": {
    "jupyter": {
     "source_hidden": true
    }
   },
   "outputs": [],
   "source": [
    "samples.columns"
   ]
  },
  {
   "cell_type": "code",
   "execution_count": 10,
   "id": "034e21ce",
   "metadata": {},
   "outputs": [],
   "source": [
    "samples = samples.drop_duplicates(subset=[\"product_name\", \"collection_section\", \"product_description\", \"hash\"])"
   ]
  },
  {
   "cell_type": "code",
   "execution_count": 11,
   "id": "418369f9",
   "metadata": {},
   "outputs": [
    {
     "data": {
      "text/plain": [
       "(2120964, 15)"
      ]
     },
     "execution_count": 11,
     "metadata": {},
     "output_type": "execute_result"
    }
   ],
   "source": [
    "samples.shape"
   ]
  },
  {
   "cell_type": "code",
   "execution_count": 12,
   "id": "5e322277",
   "metadata": {},
   "outputs": [
    {
     "data": {
      "text/plain": [
       "train    1571554\n",
       "val       280630\n",
       "test      268780\n",
       "Name: subset, dtype: int64"
      ]
     },
     "execution_count": 12,
     "metadata": {},
     "output_type": "execute_result"
    }
   ],
   "source": [
    "samples[\"subset\"].value_counts()"
   ]
  },
  {
   "cell_type": "markdown",
   "id": "c188e1f6",
   "metadata": {},
   "source": [
    "## 1) Create sentences"
   ]
  },
  {
   "cell_type": "code",
   "execution_count": 13,
   "id": "6a2e5610",
   "metadata": {},
   "outputs": [],
   "source": [
    "samples[\"product_description\"].fillna(\"\", inplace=True)\n",
    "samples[\"sentence\"] = \\\n",
    "    np.where(samples[\"product_name\"], samples[\"product_name\"].astype(str), \"\") + \" \" + \\\n",
    "    np.where(samples[\"collection_section\"], samples[\"collection_section\"].astype(str), \"\") + \" \" + \\\n",
    "    np.where(samples[\"product_description\"], samples[\"product_description\"].astype(str), \"\")\n",
    "\n",
    "samples[\"sentence\"] = samples[\"sentence\"].str.lower()\n",
    "samples.rename(columns={'Unnamed: 0': 'idx'}, inplace=True)"
   ]
  },
  {
   "cell_type": "markdown",
   "id": "dee7ddf7",
   "metadata": {},
   "source": [
    "## 1.1) Fit Tokenizer (only if it is not fitted)"
   ]
  },
  {
   "cell_type": "code",
   "execution_count": 14,
   "id": "3eecc65a",
   "metadata": {},
   "outputs": [],
   "source": [
    "# 1) Get all sentences \n",
    "sentences = samples[\"sentence\"].values"
   ]
  },
  {
   "cell_type": "code",
   "execution_count": 65,
   "id": "c7747456",
   "metadata": {},
   "outputs": [],
   "source": [
    "if not os.path.isfile(conf[\"LOCAL_VOCAB\"]):\n",
    "    # 2) Fit Tokenizer with senteces (CAREFUL, takes 6-7 min)\n",
    "    tokenizer = Tokenizer(vocab_path=None, download_tokenizer=True)\n",
    "    # Fit tokenize\n",
    "    vocab = tokenizer.fit(sentences)\n",
    "    # 3) Saving vocabulary\n",
    "    tokenizer.save(conf['LOCAL_VOCAB'])"
   ]
  },
  {
   "cell_type": "code",
   "execution_count": 66,
   "id": "aeb7371d",
   "metadata": {},
   "outputs": [
    {
     "data": {
      "text/plain": [
       "245962"
      ]
     },
     "execution_count": 66,
     "metadata": {},
     "output_type": "execute_result"
    }
   ],
   "source": [
    "len(tokenizer.vocab)"
   ]
  },
  {
   "cell_type": "code",
   "execution_count": 24,
   "id": "b4be1e3a",
   "metadata": {},
   "outputs": [
    {
     "name": "stderr",
     "output_type": "stream",
     "text": [
      "[nltk_data] Downloading package punkt to /home/ec2-user/nltk_data...\n",
      "[nltk_data]   Package punkt is already up-to-date!\n"
     ]
    },
    {
     "data": {
      "text/plain": [
       "245967"
      ]
     },
     "execution_count": 24,
     "metadata": {},
     "output_type": "execute_result"
    }
   ],
   "source": [
    "# 4) Load if already saved\n",
    "tokenizer = Tokenizer(vocab_path=conf[\"LOCAL_VOCAB\"], download_tokenizer=True)\n",
    "len(tokenizer.vocab)"
   ]
  },
  {
   "cell_type": "markdown",
   "id": "9e9f887d",
   "metadata": {},
   "source": [
    "## 2) Creating dataset parquet\n",
    "In this section we create a parquet file that contains the DataFrame with all the captions and images of our dataset. This parquet file **will be consumed by our DataLoader class.**"
   ]
  },
  {
   "cell_type": "code",
   "execution_count": 15,
   "id": "9d59436d",
   "metadata": {},
   "outputs": [],
   "source": [
    "# Keep only necessary columns for modelling\n",
    "final_samples = samples[[\"sentence\", \"s3_path\", \"subset\",\"country_code\", \"hash\"]].reset_index().copy()\n",
    "final_samples.rename(columns={\"sentence\": \"caption\"}, inplace=True)\n",
    "final_samples.rename(columns={\"subset\": \"split\"}, inplace=True)\n",
    "final_samples.rename(columns={\"index\": \"img_id\"}, inplace=True)"
   ]
  },
  {
   "cell_type": "code",
   "execution_count": 16,
   "id": "0891f830",
   "metadata": {},
   "outputs": [
    {
     "data": {
      "text/plain": [
       "array(['train', 'val', 'test'], dtype=object)"
      ]
     },
     "execution_count": 16,
     "metadata": {},
     "output_type": "execute_result"
    }
   ],
   "source": [
    "final_samples.split.unique()"
   ]
  },
  {
   "cell_type": "code",
   "execution_count": 17,
   "id": "9a6f6c86",
   "metadata": {},
   "outputs": [
    {
     "data": {
      "text/plain": [
       "1571554"
      ]
     },
     "execution_count": 17,
     "metadata": {},
     "output_type": "execute_result"
    }
   ],
   "source": [
    "num_samples_train = (final_samples[\"split\"] == \"train\").sum()\n",
    "num_samples_train"
   ]
  },
  {
   "cell_type": "markdown",
   "id": "57cb676b",
   "metadata": {},
   "source": [
    "### Action required: set subsample to True or False "
   ]
  },
  {
   "cell_type": "code",
   "execution_count": 18,
   "id": "ce6e011b",
   "metadata": {},
   "outputs": [
    {
     "name": "stdout",
     "output_type": "stream",
     "text": [
      "(7000, 6) (1500, 6) (1500, 6)\n",
      "(10000, 6)\n"
     ]
    },
    {
     "name": "stderr",
     "output_type": "stream",
     "text": [
      "/home/ec2-user/anaconda3/envs/python3/lib/python3.6/site-packages/ipykernel/__main__.py:8: SettingWithCopyWarning: \n",
      "A value is trying to be set on a copy of a slice from a DataFrame.\n",
      "Try using .loc[row_indexer,col_indexer] = value instead\n",
      "\n",
      "See the caveats in the documentation: https://pandas.pydata.org/pandas-docs/stable/user_guide/indexing.html#returning-a-view-versus-a-copy\n",
      "/home/ec2-user/anaconda3/envs/python3/lib/python3.6/site-packages/ipykernel/__main__.py:9: SettingWithCopyWarning: \n",
      "A value is trying to be set on a copy of a slice from a DataFrame.\n",
      "Try using .loc[row_indexer,col_indexer] = value instead\n",
      "\n",
      "See the caveats in the documentation: https://pandas.pydata.org/pandas-docs/stable/user_guide/indexing.html#returning-a-view-versus-a-copy\n",
      "/home/ec2-user/anaconda3/envs/python3/lib/python3.6/site-packages/ipykernel/__main__.py:10: SettingWithCopyWarning: \n",
      "A value is trying to be set on a copy of a slice from a DataFrame.\n",
      "Try using .loc[row_indexer,col_indexer] = value instead\n",
      "\n",
      "See the caveats in the documentation: https://pandas.pydata.org/pandas-docs/stable/user_guide/indexing.html#returning-a-view-versus-a-copy\n"
     ]
    }
   ],
   "source": [
    "subsample = True # Set me\n",
    "subsample_size = 10000\n",
    "if subsample:\n",
    "    final_samples_ES = final_samples[final_samples[\"country_code\"]==\"ES\"]\n",
    "    final_samples_ES = final_samples_ES.sample(subsample_size)\n",
    "    train, val_test = train_test_split(final_samples_ES, test_size=int(subsample_size*0.3))\n",
    "    val, test = train_test_split(val_test, test_size=int(val_test.shape[0]*0.5))\n",
    "    train[\"split\"] = 'train'\n",
    "    val[\"split\"] = 'val'\n",
    "    test[\"split\"] = 'test'\n",
    "    print(train.shape, val.shape, test.shape)\n",
    "    final_samples = pd.concat([train, val, test])\n",
    "    print(final_samples.shape)"
   ]
  },
  {
   "cell_type": "code",
   "execution_count": 19,
   "id": "9b9d7f81",
   "metadata": {},
   "outputs": [
    {
     "data": {
      "text/plain": [
       "(10000, 6)"
      ]
     },
     "execution_count": 19,
     "metadata": {},
     "output_type": "execute_result"
    }
   ],
   "source": [
    "# Remove previous version\n",
    "if os.path.exists(conf[\"LOCAL_DATASET\"]):\n",
    "    shutil.rmtree(conf[\"LOCAL_DATASET\"])\n",
    "final_samples.shape"
   ]
  },
  {
   "cell_type": "code",
   "execution_count": 20,
   "id": "28ef0432",
   "metadata": {},
   "outputs": [],
   "source": [
    "# Save as partitioned parquet\n",
    "final_samples.to_parquet(\n",
    "    path=conf[\"LOCAL_DATASET\"],\n",
    "    engine=\"pyarrow\",\n",
    "    index=False,\n",
    "    partition_cols=[\"split\"],\n",
    ")"
   ]
  },
  {
   "cell_type": "code",
   "execution_count": null,
   "id": "edbe4635",
   "metadata": {},
   "outputs": [],
   "source": []
  },
  {
   "cell_type": "code",
   "execution_count": 95,
   "id": "e5a424f7",
   "metadata": {},
   "outputs": [
    {
     "data": {
      "text/plain": [
       "train    1571554\n",
       "val       280630\n",
       "test      268780\n",
       "Name: split, dtype: int64"
      ]
     },
     "execution_count": 95,
     "metadata": {},
     "output_type": "execute_result"
    }
   ],
   "source": [
    "final_samples.split.value_counts()"
   ]
  },
  {
   "cell_type": "code",
   "execution_count": 56,
   "id": "661101b5",
   "metadata": {},
   "outputs": [
    {
     "data": {
      "text/plain": [
       "(7000, 6)"
      ]
     },
     "execution_count": 56,
     "metadata": {},
     "output_type": "execute_result"
    }
   ],
   "source": [
    "train.shape"
   ]
  },
  {
   "cell_type": "code",
   "execution_count": 57,
   "id": "ba51d881",
   "metadata": {},
   "outputs": [
    {
     "data": {
      "text/plain": [
       "(1500, 6)"
      ]
     },
     "execution_count": 57,
     "metadata": {},
     "output_type": "execute_result"
    }
   ],
   "source": [
    "val.shape"
   ]
  },
  {
   "cell_type": "code",
   "execution_count": null,
   "id": "390a3cee",
   "metadata": {},
   "outputs": [],
   "source": []
  }
 ],
 "metadata": {
  "kernelspec": {
   "display_name": "conda_python3",
   "language": "python",
   "name": "conda_python3"
  },
  "language_info": {
   "codemirror_mode": {
    "name": "ipython",
    "version": 3
   },
   "file_extension": ".py",
   "mimetype": "text/x-python",
   "name": "python",
   "nbconvert_exporter": "python",
   "pygments_lexer": "ipython3",
   "version": "3.6.13"
  }
 },
 "nbformat": 4,
 "nbformat_minor": 5
}
