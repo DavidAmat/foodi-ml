{
 "cells": [
  {
   "cell_type": "code",
   "execution_count": 1,
   "id": "79a66782",
   "metadata": {},
   "outputs": [],
   "source": [
    "import os\n",
    "import numpy as np\n",
    "import pandas as pd\n",
    "import multiprocessing\n",
    "import sys\n",
    "import json\n",
    "from tqdm import tqdm\n",
    "import shutil\n",
    "\n",
    "#os.chdir(\"/home/ec2-user/SageMaker/foodi-ml/notebooks/\")"
   ]
  },
  {
   "cell_type": "code",
   "execution_count": 2,
   "id": "e1c5c248",
   "metadata": {},
   "outputs": [
    {
     "data": {
      "text/plain": [
       "'1.1.0'"
      ]
     },
     "execution_count": 2,
     "metadata": {},
     "output_type": "execute_result"
    }
   ],
   "source": [
    "import torch\n",
    "torch.__version__"
   ]
  },
  {
   "cell_type": "code",
   "execution_count": 3,
   "id": "ba71f278",
   "metadata": {},
   "outputs": [],
   "source": [
    "os.chdir(\"/home/ec2-user/SageMaker/foodi-ml/\")\n",
    "from retrieval.data.tokenizer import Tokenizer"
   ]
  },
  {
   "cell_type": "markdown",
   "id": "cde1dc4b",
   "metadata": {},
   "source": [
    "# Exploration of execution\n",
    "\n",
    "Execution \n",
    "\n",
    "```{bash}\n",
    "cd /home/ec2-user/SageMaker/foodi-ml\n",
    "source activate python3\n",
    "export DATA_PATH=/home/ec2-user/SageMaker/dataset/\n",
    "python run.py options/adapt/foodi-ml/i2t.yaml\n",
    "\n",
    "#watch -n 1 \"nvidia-smi\"\n",
    "```"
   ]
  },
  {
   "cell_type": "markdown",
   "id": "7a77feb5",
   "metadata": {},
   "source": [
    "# Configurations"
   ]
  },
  {
   "cell_type": "code",
   "execution_count": 4,
   "id": "f8107b02",
   "metadata": {},
   "outputs": [],
   "source": [
    "PATH_DATA = '/home/ec2-user/SageMaker/dataset/'\n",
    "PATH_FOODI = '/home/ec2-user/SageMaker/foodi-ml'\n",
    "DATASET_CSV = 'glovo-foodi-ml-dataset.csv'\n",
    "\n",
    "conf = {\n",
    "    \"S3_BUCKET\": 'glovo-products-dataset-d1c9720d',\n",
    "    \"S3_KEY_DATASET\": DATASET_CSV,\n",
    "    \"LOCAL_RAW_DATASET\": os.path.join(PATH_DATA, DATASET_CSV),\n",
    "    \"LOCAL_DATASET\": os.path.join(PATH_DATA, 'samples'),\n",
    "    \"LOCAL_IMAGES\": os.path.join(PATH_DATA, 'dataset'),\n",
    "    \"LOCAL_VOCAB\": os.path.join(PATH_FOODI, '.vocab_cache/foodiml_vocab.json'),\n",
    "    \"pth_dwn_samples\": '/home/ec2-user/SageMaker/dataset/',\n",
    "    \"pth_dwn_images\": '/home/ec2-user/SageMaker/dataset/dataset/',\n",
    "    \"pth_vocab\": '/home/ec2-user/SageMaker/foodi-ml/.vocab_cache/foodiml_vocab.json',\n",
    "    \"pth_dataset_json\": '/home/ec2-user/SageMaker/dataset/dataset_foodiml.json',\n",
    "}"
   ]
  },
  {
   "cell_type": "markdown",
   "id": "6279ae19",
   "metadata": {},
   "source": [
    "# Read all samples"
   ]
  },
  {
   "cell_type": "code",
   "execution_count": 5,
   "id": "a8ae1d31",
   "metadata": {},
   "outputs": [],
   "source": [
    "samples = pd.read_csv(os.path.join(conf['LOCAL_RAW_DATASET']))"
   ]
  },
  {
   "cell_type": "code",
   "execution_count": 6,
   "id": "44dfd5c7",
   "metadata": {},
   "outputs": [
    {
     "data": {
      "text/plain": [
       "(2887444, 13)"
      ]
     },
     "execution_count": 6,
     "metadata": {},
     "output_type": "execute_result"
    }
   ],
   "source": [
    "samples.shape"
   ]
  },
  {
   "cell_type": "code",
   "execution_count": 7,
   "id": "3754f98a",
   "metadata": {},
   "outputs": [
    {
     "data": {
      "text/html": [
       "<div>\n",
       "<style scoped>\n",
       "    .dataframe tbody tr th:only-of-type {\n",
       "        vertical-align: middle;\n",
       "    }\n",
       "\n",
       "    .dataframe tbody tr th {\n",
       "        vertical-align: top;\n",
       "    }\n",
       "\n",
       "    .dataframe thead th {\n",
       "        text-align: right;\n",
       "    }\n",
       "</style>\n",
       "<table border=\"1\" class=\"dataframe\">\n",
       "  <thead>\n",
       "    <tr style=\"text-align: right;\">\n",
       "      <th></th>\n",
       "      <th>Unnamed: 0</th>\n",
       "      <th>img_id</th>\n",
       "      <th>caption</th>\n",
       "      <th>s3_path</th>\n",
       "      <th>split</th>\n",
       "    </tr>\n",
       "  </thead>\n",
       "  <tbody>\n",
       "    <tr>\n",
       "      <th>0</th>\n",
       "      <td>2076195</td>\n",
       "      <td>1643078</td>\n",
       "      <td>crema oxigenada 30v har 60 ml coloracion nan</td>\n",
       "      <td>/home/ec2-user/SageMaker/dataset/dataset/NZTCK...</td>\n",
       "      <td>train</td>\n",
       "    </tr>\n",
       "    <tr>\n",
       "      <th>1</th>\n",
       "      <td>1131612</td>\n",
       "      <td>698495</td>\n",
       "      <td>la baitagalleano, composta di ribes e peperonc...</td>\n",
       "      <td>/home/ec2-user/SageMaker/dataset/dataset/YNGJL...</td>\n",
       "      <td>train</td>\n",
       "    </tr>\n",
       "    <tr>\n",
       "      <th>2</th>\n",
       "      <td>1584914</td>\n",
       "      <td>1151797</td>\n",
       "      <td>pollo asado brie bocadillos pan gran reserva, ...</td>\n",
       "      <td>/home/ec2-user/SageMaker/dataset/dataset/BFDKZ...</td>\n",
       "      <td>train</td>\n",
       "    </tr>\n",
       "    <tr>\n",
       "      <th>3</th>\n",
       "      <td>1412771</td>\n",
       "      <td>979654</td>\n",
       "      <td>jus de fraise jus nan</td>\n",
       "      <td>/home/ec2-user/SageMaker/dataset/dataset/JVHVQ...</td>\n",
       "      <td>train</td>\n",
       "    </tr>\n",
       "    <tr>\n",
       "      <th>4</th>\n",
       "      <td>1831135</td>\n",
       "      <td>1398018</td>\n",
       "      <td>auricular bola rosa auriculares nan</td>\n",
       "      <td>/home/ec2-user/SageMaker/dataset/dataset/NZTCK...</td>\n",
       "      <td>train</td>\n",
       "    </tr>\n",
       "  </tbody>\n",
       "</table>\n",
       "</div>"
      ],
      "text/plain": [
       "   Unnamed: 0   img_id                                            caption  \\\n",
       "0     2076195  1643078       crema oxigenada 30v har 60 ml coloracion nan   \n",
       "1     1131612   698495  la baitagalleano, composta di ribes e peperonc...   \n",
       "2     1584914  1151797  pollo asado brie bocadillos pan gran reserva, ...   \n",
       "3     1412771   979654                              jus de fraise jus nan   \n",
       "4     1831135  1398018                auricular bola rosa auriculares nan   \n",
       "\n",
       "                                             s3_path  split  \n",
       "0  /home/ec2-user/SageMaker/dataset/dataset/NZTCK...  train  \n",
       "1  /home/ec2-user/SageMaker/dataset/dataset/YNGJL...  train  \n",
       "2  /home/ec2-user/SageMaker/dataset/dataset/BFDKZ...  train  \n",
       "3  /home/ec2-user/SageMaker/dataset/dataset/JVHVQ...  train  \n",
       "4  /home/ec2-user/SageMaker/dataset/dataset/NZTCK...  train  "
      ]
     },
     "execution_count": 7,
     "metadata": {},
     "output_type": "execute_result"
    }
   ],
   "source": [
    "samples.head()"
   ]
  },
  {
   "cell_type": "code",
   "execution_count": 8,
   "id": "e3c85bf6",
   "metadata": {},
   "outputs": [
    {
     "data": {
      "text/plain": [
       "(10000, 5)"
      ]
     },
     "execution_count": 8,
     "metadata": {},
     "output_type": "execute_result"
    }
   ],
   "source": [
    "samples.shape"
   ]
  },
  {
   "cell_type": "code",
   "execution_count": 9,
   "id": "9d68eff2",
   "metadata": {},
   "outputs": [
    {
     "data": {
      "text/plain": [
       "'/home/ec2-user/SageMaker/dataset/dataset/NZTCKFL_0047961_1210684862.png'"
      ]
     },
     "execution_count": 9,
     "metadata": {},
     "output_type": "execute_result"
    }
   ],
   "source": [
    "samples[\"s3_path\"].iloc[0]"
   ]
  },
  {
   "cell_type": "code",
   "execution_count": 10,
   "id": "025b44be",
   "metadata": {},
   "outputs": [
    {
     "data": {
      "text/plain": [
       "True"
      ]
     },
     "execution_count": 10,
     "metadata": {},
     "output_type": "execute_result"
    }
   ],
   "source": [
    "os.path.exists(samples[\"s3_path\"].iloc[0])"
   ]
  },
  {
   "cell_type": "markdown",
   "id": "dab32ec1",
   "metadata": {},
   "source": [
    "## 1) Create sentences"
   ]
  },
  {
   "cell_type": "code",
   "execution_count": 11,
   "id": "f537613d",
   "metadata": {},
   "outputs": [],
   "source": [
    "sentences = samples[\"caption\"]"
   ]
  },
  {
   "cell_type": "markdown",
   "id": "e468486b",
   "metadata": {},
   "source": [
    "### 1.1) Fit tokenizer"
   ]
  },
  {
   "cell_type": "code",
   "execution_count": 14,
   "id": "3dd765dc",
   "metadata": {},
   "outputs": [],
   "source": [
    "os.chdir(PATH_FOODI)\n",
    "from retrieval.data.tokenizer import Tokenizer"
   ]
  },
  {
   "cell_type": "code",
   "execution_count": 16,
   "id": "15d7226f",
   "metadata": {},
   "outputs": [
    {
     "name": "stderr",
     "output_type": "stream",
     "text": [
      "[nltk_data] Downloading package punkt to /home/ec2-user/nltk_data...\n",
      "[nltk_data]   Package punkt is already up-to-date!\n"
     ]
    }
   ],
   "source": [
    "# 2) Fit Tokenizer with senteces (CAREFUL, takes 6-7 min)\n",
    "tokenizer = Tokenizer(vocab_path=None, download_tokenizer=True)"
   ]
  },
  {
   "cell_type": "code",
   "execution_count": 17,
   "id": "0124f517",
   "metadata": {},
   "outputs": [
    {
     "name": "stderr",
     "output_type": "stream",
     "text": [
      "100%|██████████| 10000/10000 [00:01<00:00, 7410.06it/s]\n"
     ]
    }
   ],
   "source": [
    "# Fit tokenize\n",
    "vocab = tokenizer.fit(sentences)"
   ]
  },
  {
   "cell_type": "code",
   "execution_count": 18,
   "id": "fd3301ff",
   "metadata": {},
   "outputs": [
    {
     "data": {
      "text/plain": [
       "4963"
      ]
     },
     "execution_count": 18,
     "metadata": {},
     "output_type": "execute_result"
    }
   ],
   "source": [
    "len(vocab.word2idx)"
   ]
  },
  {
   "cell_type": "code",
   "execution_count": 19,
   "id": "5d7af9e1",
   "metadata": {},
   "outputs": [
    {
     "name": "stdout",
     "output_type": "stream",
     "text": [
      "CPU times: user 7.66 ms, sys: 226 µs, total: 7.89 ms\n",
      "Wall time: 7.29 ms\n"
     ]
    }
   ],
   "source": [
    "%%time\n",
    "# 3) Saving vocabulary\n",
    "tokenizer.save(conf['LOCAL_VOCAB'])"
   ]
  },
  {
   "cell_type": "code",
   "execution_count": 20,
   "id": "22fe646f",
   "metadata": {},
   "outputs": [
    {
     "data": {
      "text/plain": [
       "4963"
      ]
     },
     "execution_count": 20,
     "metadata": {},
     "output_type": "execute_result"
    }
   ],
   "source": [
    "# 4) Load if already saved\n",
    "tokenizer = tokenizer.load(conf['LOCAL_VOCAB'])\n",
    "len(tokenizer.vocab)"
   ]
  },
  {
   "cell_type": "code",
   "execution_count": 21,
   "id": "ad77ddb1",
   "metadata": {},
   "outputs": [
    {
     "name": "stderr",
     "output_type": "stream",
     "text": [
      "[nltk_data] Downloading package punkt to /home/ec2-user/nltk_data...\n",
      "[nltk_data]   Package punkt is already up-to-date!\n"
     ]
    }
   ],
   "source": [
    "# LOAD equivalent\n",
    "tokenizer_2 = Tokenizer(vocab_path=conf[\"pth_vocab\"], download_tokenizer=True)"
   ]
  },
  {
   "cell_type": "code",
   "execution_count": 22,
   "id": "bff2ce8d",
   "metadata": {},
   "outputs": [
    {
     "data": {
      "text/plain": [
       "4963"
      ]
     },
     "execution_count": 22,
     "metadata": {},
     "output_type": "execute_result"
    }
   ],
   "source": [
    "len(tokenizer_2.vocab)"
   ]
  },
  {
   "cell_type": "markdown",
   "id": "c9dd4ce2",
   "metadata": {},
   "source": [
    "### 1.2) Creating dataset parquet"
   ]
  },
  {
   "cell_type": "code",
   "execution_count": 25,
   "id": "36c84be3",
   "metadata": {},
   "outputs": [
    {
     "data": {
      "text/html": [
       "<div>\n",
       "<style scoped>\n",
       "    .dataframe tbody tr th:only-of-type {\n",
       "        vertical-align: middle;\n",
       "    }\n",
       "\n",
       "    .dataframe tbody tr th {\n",
       "        vertical-align: top;\n",
       "    }\n",
       "\n",
       "    .dataframe thead th {\n",
       "        text-align: right;\n",
       "    }\n",
       "</style>\n",
       "<table border=\"1\" class=\"dataframe\">\n",
       "  <thead>\n",
       "    <tr style=\"text-align: right;\">\n",
       "      <th></th>\n",
       "      <th>Unnamed: 0</th>\n",
       "      <th>img_id</th>\n",
       "      <th>caption</th>\n",
       "      <th>s3_path</th>\n",
       "      <th>split</th>\n",
       "    </tr>\n",
       "  </thead>\n",
       "  <tbody>\n",
       "    <tr>\n",
       "      <th>0</th>\n",
       "      <td>2076195</td>\n",
       "      <td>1643078</td>\n",
       "      <td>crema oxigenada 30v har 60 ml coloracion nan</td>\n",
       "      <td>/home/ec2-user/SageMaker/dataset/dataset/NZTCK...</td>\n",
       "      <td>train</td>\n",
       "    </tr>\n",
       "    <tr>\n",
       "      <th>1</th>\n",
       "      <td>1131612</td>\n",
       "      <td>698495</td>\n",
       "      <td>la baitagalleano, composta di ribes e peperonc...</td>\n",
       "      <td>/home/ec2-user/SageMaker/dataset/dataset/YNGJL...</td>\n",
       "      <td>train</td>\n",
       "    </tr>\n",
       "    <tr>\n",
       "      <th>2</th>\n",
       "      <td>1584914</td>\n",
       "      <td>1151797</td>\n",
       "      <td>pollo asado brie bocadillos pan gran reserva, ...</td>\n",
       "      <td>/home/ec2-user/SageMaker/dataset/dataset/BFDKZ...</td>\n",
       "      <td>train</td>\n",
       "    </tr>\n",
       "    <tr>\n",
       "      <th>3</th>\n",
       "      <td>1412771</td>\n",
       "      <td>979654</td>\n",
       "      <td>jus de fraise jus nan</td>\n",
       "      <td>/home/ec2-user/SageMaker/dataset/dataset/JVHVQ...</td>\n",
       "      <td>train</td>\n",
       "    </tr>\n",
       "    <tr>\n",
       "      <th>4</th>\n",
       "      <td>1831135</td>\n",
       "      <td>1398018</td>\n",
       "      <td>auricular bola rosa auriculares nan</td>\n",
       "      <td>/home/ec2-user/SageMaker/dataset/dataset/NZTCK...</td>\n",
       "      <td>train</td>\n",
       "    </tr>\n",
       "  </tbody>\n",
       "</table>\n",
       "</div>"
      ],
      "text/plain": [
       "   Unnamed: 0   img_id                                            caption  \\\n",
       "0     2076195  1643078       crema oxigenada 30v har 60 ml coloracion nan   \n",
       "1     1131612   698495  la baitagalleano, composta di ribes e peperonc...   \n",
       "2     1584914  1151797  pollo asado brie bocadillos pan gran reserva, ...   \n",
       "3     1412771   979654                              jus de fraise jus nan   \n",
       "4     1831135  1398018                auricular bola rosa auriculares nan   \n",
       "\n",
       "                                             s3_path  split  \n",
       "0  /home/ec2-user/SageMaker/dataset/dataset/NZTCK...  train  \n",
       "1  /home/ec2-user/SageMaker/dataset/dataset/YNGJL...  train  \n",
       "2  /home/ec2-user/SageMaker/dataset/dataset/BFDKZ...  train  \n",
       "3  /home/ec2-user/SageMaker/dataset/dataset/JVHVQ...  train  \n",
       "4  /home/ec2-user/SageMaker/dataset/dataset/NZTCK...  train  "
      ]
     },
     "execution_count": 25,
     "metadata": {},
     "output_type": "execute_result"
    }
   ],
   "source": [
    "samples.head()"
   ]
  },
  {
   "cell_type": "code",
   "execution_count": 26,
   "id": "8024079d",
   "metadata": {},
   "outputs": [],
   "source": [
    "# Remove previous version\n",
    "if os.path.exists(conf[\"LOCAL_DATASET\"]):\n",
    "    shutil.rmtree(conf[\"LOCAL_DATASET\"])"
   ]
  },
  {
   "cell_type": "code",
   "execution_count": 27,
   "id": "78ba5a3b",
   "metadata": {},
   "outputs": [],
   "source": [
    "# Save as partitioned parquet\n",
    "samples.to_parquet(\n",
    "    path=conf[\"LOCAL_DATASET\"],\n",
    "    engine=\"pyarrow\",\n",
    "    index=False,\n",
    "    partition_cols=[\"split\"],\n",
    ")"
   ]
  },
  {
   "cell_type": "code",
   "execution_count": 28,
   "id": "3fcf3c2c",
   "metadata": {},
   "outputs": [
    {
     "data": {
      "text/plain": [
       "'/home/ec2-user/SageMaker/dataset/samples'"
      ]
     },
     "execution_count": 28,
     "metadata": {},
     "output_type": "execute_result"
    }
   ],
   "source": [
    "conf[\"LOCAL_DATASET\"]"
   ]
  },
  {
   "cell_type": "markdown",
   "id": "36c7d9eb",
   "metadata": {},
   "source": [
    "## Samples for reproducibility"
   ]
  },
  {
   "cell_type": "code",
   "execution_count": 32,
   "id": "6d66d38c",
   "metadata": {},
   "outputs": [],
   "source": [
    "samples_dataset = {\n",
    "    \"images\": [],\n",
    "    \"dataset\": \"foodiml\"\n",
    "}"
   ]
  },
  {
   "cell_type": "code",
   "execution_count": 33,
   "id": "112804c6",
   "metadata": {},
   "outputs": [
    {
     "name": "stderr",
     "output_type": "stream",
     "text": [
      "10000it [00:02, 4035.18it/s]\n"
     ]
    }
   ],
   "source": [
    "for i, row in tqdm(samples.iterrows()):\n",
    "    raw_sentence = row[\"caption\"]\n",
    "    filename = row[\"s3_path\"].split(\"/\")[-1]\n",
    "    sentence_tokens = tokenizer.split_sentence(raw_sentence)\n",
    "    sentence_json = {}\n",
    "    sentence_json[\"imgid\"] = i\n",
    "    sentence_json[\"sentences\"] = [\n",
    "        {\n",
    "            \"tokens\": sentence_tokens,\n",
    "            \"raw\": raw_sentence,\n",
    "            \"imgid\": i\n",
    "        }\n",
    "    ]\n",
    "    sentence_json[\"split\"] = row[\"split\"]\n",
    "    sentence_json[\"filename\"] = filename\n",
    "    samples_dataset[\"images\"].append(sentence_json)\n",
    "    #print(\"raw sentence: \", raw_sentence)\n",
    "    #print(\"filename: \", filename)\n",
    "    #print(\"sentence_tokens :\", sentence_tokens)\n",
    "    #print(\"sentence_json: \", sentence_json)\n",
    "    #print(\"samples_dataset:\", samples_dataset)\n",
    "    "
   ]
  },
  {
   "cell_type": "code",
   "execution_count": 34,
   "id": "d009c21a",
   "metadata": {},
   "outputs": [],
   "source": [
    "# Save dataset_foodiml.json \n",
    "with open(\"/home/ec2-user/SageMaker/dataset/foodiml_json.json\", \"w\") as f:\n",
    "    json.dump(samples_dataset, f)"
   ]
  },
  {
   "cell_type": "markdown",
   "id": "c100f7d8",
   "metadata": {},
   "source": [
    "# GloVE (in case we want to retrain a new GloVE)"
   ]
  },
  {
   "cell_type": "code",
   "execution_count": 87,
   "id": "e2d5fb7d",
   "metadata": {},
   "outputs": [
    {
     "name": "stdout",
     "output_type": "stream",
     "text": [
      "Requirement already satisfied: glove_python in /home/ec2-user/anaconda3/envs/python3/lib/python3.6/site-packages (0.1.0)\n",
      "Requirement already satisfied: scipy in /home/ec2-user/anaconda3/envs/python3/lib/python3.6/site-packages (from glove_python) (1.5.3)\n",
      "Requirement already satisfied: numpy in /home/ec2-user/anaconda3/envs/python3/lib/python3.6/site-packages (from glove_python) (1.16.2)\n"
     ]
    }
   ],
   "source": [
    "!pip install glove_python"
   ]
  },
  {
   "cell_type": "code",
   "execution_count": 88,
   "id": "01409322",
   "metadata": {},
   "outputs": [],
   "source": [
    "from glove import Corpus, Glove"
   ]
  },
  {
   "cell_type": "code",
   "execution_count": 89,
   "id": "db7ba9b5",
   "metadata": {},
   "outputs": [],
   "source": [
    "#Creating a corpus object\n",
    "corpus = Corpus() "
   ]
  },
  {
   "cell_type": "code",
   "execution_count": 92,
   "id": "3d21d953",
   "metadata": {},
   "outputs": [
    {
     "data": {
      "text/plain": [
       "Index(['img_id', 'caption', 's3_path', 'split'], dtype='object')"
      ]
     },
     "execution_count": 92,
     "metadata": {},
     "output_type": "execute_result"
    }
   ],
   "source": [
    "samples.columns"
   ]
  },
  {
   "cell_type": "code",
   "execution_count": 93,
   "id": "e2e33f32",
   "metadata": {},
   "outputs": [],
   "source": [
    "sentences = list(samples[\"caption\"].values)"
   ]
  },
  {
   "cell_type": "code",
   "execution_count": 94,
   "id": "59c4273f",
   "metadata": {},
   "outputs": [
    {
     "name": "stderr",
     "output_type": "stream",
     "text": [
      "100%|██████████| 2887444/2887444 [06:27<00:00, 7449.51it/s]\n"
     ]
    }
   ],
   "source": [
    "lines = []\n",
    "for sentence in tqdm(sentences):\n",
    "    lines.append(tokenizer.split_sentence(sentence))"
   ]
  },
  {
   "cell_type": "code",
   "execution_count": 95,
   "id": "dd1b1e4b",
   "metadata": {},
   "outputs": [
    {
     "name": "stdout",
     "output_type": "stream",
     "text": [
      "CPU times: user 1min 24s, sys: 317 ms, total: 1min 24s\n",
      "Wall time: 1min 24s\n"
     ]
    }
   ],
   "source": [
    "%%time\n",
    "#Training the corpus to generate the co occurence matrix which is used in GloVe\n",
    "corpus.fit(lines, window=5)"
   ]
  },
  {
   "cell_type": "code",
   "execution_count": 96,
   "id": "538a7c7c",
   "metadata": {
    "scrolled": true
   },
   "outputs": [
    {
     "name": "stdout",
     "output_type": "stream",
     "text": [
      "Performing 30 training epochs with 4 threads\n",
      "Epoch 0\n",
      "Epoch 1\n",
      "Epoch 2\n",
      "Epoch 3\n",
      "Epoch 4\n",
      "Epoch 5\n",
      "Epoch 6\n",
      "Epoch 7\n",
      "Epoch 8\n",
      "Epoch 9\n",
      "Epoch 10\n",
      "Epoch 11\n",
      "Epoch 12\n",
      "Epoch 13\n",
      "Epoch 14\n",
      "Epoch 15\n",
      "Epoch 16\n",
      "Epoch 17\n",
      "Epoch 18\n",
      "Epoch 19\n",
      "Epoch 20\n",
      "Epoch 21\n",
      "Epoch 22\n",
      "Epoch 23\n",
      "Epoch 24\n",
      "Epoch 25\n",
      "Epoch 26\n",
      "Epoch 27\n",
      "Epoch 28\n",
      "Epoch 29\n"
     ]
    }
   ],
   "source": [
    "glove = Glove(no_components=300, learning_rate=0.05) # no_components=300 as in abstract.yaml\n",
    "glove.fit(corpus.matrix, epochs=30, no_threads=4, verbose=True)\n",
    "glove.add_dictionary(corpus.dictionary)\n",
    "glove.save('/home/ec2-user/SageMaker/dataset/glove-foodiml.pkl')"
   ]
  },
  {
   "cell_type": "code",
   "execution_count": null,
   "id": "cbd20c96",
   "metadata": {},
   "outputs": [],
   "source": []
  }
 ],
 "metadata": {
  "kernelspec": {
   "display_name": "conda_python3",
   "language": "python",
   "name": "conda_python3"
  },
  "language_info": {
   "codemirror_mode": {
    "name": "ipython",
    "version": 3
   },
   "file_extension": ".py",
   "mimetype": "text/x-python",
   "name": "python",
   "nbconvert_exporter": "python",
   "pygments_lexer": "ipython3",
   "version": "3.6.13"
  }
 },
 "nbformat": 4,
 "nbformat_minor": 5
}
