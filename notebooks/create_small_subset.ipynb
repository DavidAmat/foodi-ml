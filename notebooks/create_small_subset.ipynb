{
 "cells": [
  {
   "cell_type": "markdown",
   "id": "25c96b55",
   "metadata": {},
   "source": [
    "# FINAL PREPROCESS\n",
    "1. Read CSV\n",
    "2. Fit Tokenizer (if it is already fitted read it from disk)\n",
    "3. Create a parquet file called samples\n",
    "4. Save the parquet"
   ]
  },
  {
   "cell_type": "code",
   "execution_count": 1,
   "id": "eddcba41",
   "metadata": {},
   "outputs": [],
   "source": [
    "import os\n",
    "import numpy as np\n",
    "import pandas as pd\n",
    "import multiprocessing\n",
    "import sys\n",
    "import json\n",
    "from tqdm import tqdm\n",
    "import shutil\n",
    "from sklearn.model_selection import train_test_split\n",
    "\n",
    "#os.chdir(\"/home/ec2-user/SageMaker/foodi-ml/notebooks/\")"
   ]
  },
  {
   "cell_type": "code",
   "execution_count": 2,
   "id": "3de88bc8",
   "metadata": {},
   "outputs": [
    {
     "data": {
      "text/plain": [
       "'1.1.0'"
      ]
     },
     "execution_count": 2,
     "metadata": {},
     "output_type": "execute_result"
    }
   ],
   "source": [
    "import torch\n",
    "torch.__version__"
   ]
  },
  {
   "cell_type": "code",
   "execution_count": 3,
   "id": "c882056b",
   "metadata": {},
   "outputs": [],
   "source": [
    "os.chdir(\"/home/ec2-user/SageMaker/foodi-ml/\")\n",
    "from retrieval.data.tokenizer import Tokenizer"
   ]
  },
  {
   "cell_type": "markdown",
   "id": "a5a31579",
   "metadata": {},
   "source": [
    "# Exploration of execution\n",
    "\n",
    "Execution \n",
    "\n",
    "```{bash}\n",
    "cd /home/ec2-user/SageMaker/foodi-ml\n",
    "source activate python3\n",
    "export DATA_PATH=/home/ec2-user/SageMaker/dataset/\n",
    "python run.py options/adapt/foodi-ml/i2t.yaml\n",
    "python test.py options/adapt/foodi-ml/i2t.yaml\n",
    "\n",
    "#watch -n 1 \"nvidia-smi\"\n",
    "```"
   ]
  },
  {
   "cell_type": "markdown",
   "id": "7221581d",
   "metadata": {},
   "source": [
    "# Configurations"
   ]
  },
  {
   "cell_type": "code",
   "execution_count": 4,
   "id": "0a81c937",
   "metadata": {},
   "outputs": [],
   "source": [
    "PATH_DATA = '/home/ec2-user/SageMaker/dataset/'\n",
    "PATH_FOODI = '/home/ec2-user/SageMaker/foodi-ml'\n",
    "DATASET_CSV = 'glovo-foodi-ml-dataset.csv'\n",
    "\n",
    "conf = {\n",
    "    \"S3_BUCKET\": 'glovo-products-dataset-d1c9720d',\n",
    "    \"S3_KEY_DATASET\": DATASET_CSV,\n",
    "    \"LOCAL_RAW_DATASET\": os.path.join(PATH_DATA, DATASET_CSV),\n",
    "    \"LOCAL_DATASET\": os.path.join(PATH_DATA, 'samples_spain'),\n",
    "    \"LOCAL_IMAGES\": os.path.join(PATH_DATA, 'dataset'),\n",
    "    \"LOCAL_VOCAB\": os.path.join(PATH_FOODI, '.vocab_cache/foodiml_vocab.json'),\n",
    "    \"pth_dwn_samples\": '/home/ec2-user/SageMaker/dataset/',\n",
    "    \"pth_dwn_images\": '/home/ec2-user/SageMaker/dataset/dataset/',\n",
    "    \"pth_vocab\": '/home/ec2-user/SageMaker/foodi-ml/.vocab_cache/foodiml_vocab.json',\n",
    "    \"pth_dataset_json\": '/home/ec2-user/SageMaker/dataset/dataset_foodiml.json',\n",
    "}"
   ]
  },
  {
   "cell_type": "markdown",
   "id": "44c4b0b4",
   "metadata": {},
   "source": [
    "# Read all samples"
   ]
  },
  {
   "cell_type": "code",
   "execution_count": 5,
   "id": "eb5920af",
   "metadata": {},
   "outputs": [],
   "source": [
    "samples = pd.read_csv(os.path.join(conf['LOCAL_RAW_DATASET']))"
   ]
  },
  {
   "cell_type": "code",
   "execution_count": 6,
   "id": "f30c08ee",
   "metadata": {},
   "outputs": [
    {
     "data": {
      "text/plain": [
       "(2887444, 13)"
      ]
     },
     "execution_count": 6,
     "metadata": {},
     "output_type": "execute_result"
    }
   ],
   "source": [
    "samples.shape"
   ]
  },
  {
   "cell_type": "code",
   "execution_count": 7,
   "id": "ffb2c6fd",
   "metadata": {},
   "outputs": [
    {
     "data": {
      "text/html": [
       "<div>\n",
       "<style scoped>\n",
       "    .dataframe tbody tr th:only-of-type {\n",
       "        vertical-align: middle;\n",
       "    }\n",
       "\n",
       "    .dataframe tbody tr th {\n",
       "        vertical-align: top;\n",
       "    }\n",
       "\n",
       "    .dataframe thead th {\n",
       "        text-align: right;\n",
       "    }\n",
       "</style>\n",
       "<table border=\"1\" class=\"dataframe\">\n",
       "  <thead>\n",
       "    <tr style=\"text-align: right;\">\n",
       "      <th></th>\n",
       "      <th>Unnamed: 0</th>\n",
       "      <th>Unnamed: 0.1</th>\n",
       "      <th>country_code</th>\n",
       "      <th>city_code</th>\n",
       "      <th>store_name</th>\n",
       "      <th>product_name</th>\n",
       "      <th>collection_section</th>\n",
       "      <th>product_description</th>\n",
       "      <th>subset</th>\n",
       "      <th>hash</th>\n",
       "      <th>aux_store</th>\n",
       "      <th>HIER</th>\n",
       "      <th>s3_path</th>\n",
       "    </tr>\n",
       "  </thead>\n",
       "  <tbody>\n",
       "    <tr>\n",
       "      <th>0</th>\n",
       "      <td>0</td>\n",
       "      <td>0</td>\n",
       "      <td>CL</td>\n",
       "      <td>STG</td>\n",
       "      <td>AS_000</td>\n",
       "      <td>Savital Shampoo Keratina Y Sabila 550Ml (00001...</td>\n",
       "      <td>Shampoo</td>\n",
       "      <td>NaN</td>\n",
       "      <td>train</td>\n",
       "      <td>3509449892161349181</td>\n",
       "      <td>True</td>\n",
       "      <td>False</td>\n",
       "      <td>/home/ec2-user/SageMaker/dataset/dataset/NZTCK...</td>\n",
       "    </tr>\n",
       "    <tr>\n",
       "      <th>1</th>\n",
       "      <td>1</td>\n",
       "      <td>1</td>\n",
       "      <td>KE</td>\n",
       "      <td>NRK</td>\n",
       "      <td>Cold Stone Creamery Cart</td>\n",
       "      <td>Chocolate Layer Cake™</td>\n",
       "      <td>Promotions - Free waffles on every ice cream p...</td>\n",
       "      <td>Sweet Cream Ice Cream with Crumbles of Chocola...</td>\n",
       "      <td>train</td>\n",
       "      <td>1077526765743747663</td>\n",
       "      <td>False</td>\n",
       "      <td>True</td>\n",
       "      <td>/home/ec2-user/SageMaker/dataset/dataset/YKKVT...</td>\n",
       "    </tr>\n",
       "    <tr>\n",
       "      <th>2</th>\n",
       "      <td>2</td>\n",
       "      <td>2</td>\n",
       "      <td>UA</td>\n",
       "      <td>DNP</td>\n",
       "      <td>Khinkali &amp; Khachapuri / Хинкали &amp; Хачапури</td>\n",
       "      <td>Асорті на компанію</td>\n",
       "      <td>ЗАКУСКИ</td>\n",
       "      <td>балик домашній,грудинка копчена,паштет з печін...</td>\n",
       "      <td>train</td>\n",
       "      <td>-4606644841517710049</td>\n",
       "      <td>False</td>\n",
       "      <td>True</td>\n",
       "      <td>/home/ec2-user/SageMaker/dataset/dataset/ZFSHH...</td>\n",
       "    </tr>\n",
       "    <tr>\n",
       "      <th>3</th>\n",
       "      <td>3</td>\n",
       "      <td>3</td>\n",
       "      <td>CL</td>\n",
       "      <td>STG</td>\n",
       "      <td>AS_001</td>\n",
       "      <td>Suav Vivere Hierbas F Jazmin Pouch 900Cc</td>\n",
       "      <td>Suavizantes</td>\n",
       "      <td>NaN</td>\n",
       "      <td>train</td>\n",
       "      <td>-3420249778599023770</td>\n",
       "      <td>True</td>\n",
       "      <td>False</td>\n",
       "      <td>/home/ec2-user/SageMaker/dataset/dataset/NZTCK...</td>\n",
       "    </tr>\n",
       "    <tr>\n",
       "      <th>4</th>\n",
       "      <td>4</td>\n",
       "      <td>4</td>\n",
       "      <td>CL</td>\n",
       "      <td>STG</td>\n",
       "      <td>AS_000</td>\n",
       "      <td>Leoncio Y El Doctor Veterinario</td>\n",
       "      <td>Infantil</td>\n",
       "      <td>NaN</td>\n",
       "      <td>train</td>\n",
       "      <td>2295647601757404193</td>\n",
       "      <td>True</td>\n",
       "      <td>False</td>\n",
       "      <td>/home/ec2-user/SageMaker/dataset/dataset/NZTCK...</td>\n",
       "    </tr>\n",
       "  </tbody>\n",
       "</table>\n",
       "</div>"
      ],
      "text/plain": [
       "   Unnamed: 0  Unnamed: 0.1 country_code city_code  \\\n",
       "0           0             0           CL       STG   \n",
       "1           1             1           KE       NRK   \n",
       "2           2             2           UA       DNP   \n",
       "3           3             3           CL       STG   \n",
       "4           4             4           CL       STG   \n",
       "\n",
       "                                   store_name  \\\n",
       "0                                      AS_000   \n",
       "1                    Cold Stone Creamery Cart   \n",
       "2  Khinkali & Khachapuri / Хинкали & Хачапури   \n",
       "3                                      AS_001   \n",
       "4                                      AS_000   \n",
       "\n",
       "                                        product_name  \\\n",
       "0  Savital Shampoo Keratina Y Sabila 550Ml (00001...   \n",
       "1                              Chocolate Layer Cake™   \n",
       "2                                 Асорті на компанію   \n",
       "3           Suav Vivere Hierbas F Jazmin Pouch 900Cc   \n",
       "4                    Leoncio Y El Doctor Veterinario   \n",
       "\n",
       "                                  collection_section  \\\n",
       "0                                            Shampoo   \n",
       "1  Promotions - Free waffles on every ice cream p...   \n",
       "2                                            ЗАКУСКИ   \n",
       "3                                        Suavizantes   \n",
       "4                                           Infantil   \n",
       "\n",
       "                                 product_description subset  \\\n",
       "0                                                NaN  train   \n",
       "1  Sweet Cream Ice Cream with Crumbles of Chocola...  train   \n",
       "2  балик домашній,грудинка копчена,паштет з печін...  train   \n",
       "3                                                NaN  train   \n",
       "4                                                NaN  train   \n",
       "\n",
       "                  hash  aux_store   HIER  \\\n",
       "0  3509449892161349181       True  False   \n",
       "1  1077526765743747663      False   True   \n",
       "2 -4606644841517710049      False   True   \n",
       "3 -3420249778599023770       True  False   \n",
       "4  2295647601757404193       True  False   \n",
       "\n",
       "                                             s3_path  \n",
       "0  /home/ec2-user/SageMaker/dataset/dataset/NZTCK...  \n",
       "1  /home/ec2-user/SageMaker/dataset/dataset/YKKVT...  \n",
       "2  /home/ec2-user/SageMaker/dataset/dataset/ZFSHH...  \n",
       "3  /home/ec2-user/SageMaker/dataset/dataset/NZTCK...  \n",
       "4  /home/ec2-user/SageMaker/dataset/dataset/NZTCK...  "
      ]
     },
     "execution_count": 7,
     "metadata": {},
     "output_type": "execute_result"
    }
   ],
   "source": [
    "samples.head()"
   ]
  },
  {
   "cell_type": "code",
   "execution_count": 8,
   "id": "ef2a2caa",
   "metadata": {},
   "outputs": [
    {
     "data": {
      "text/plain": [
       "'/home/ec2-user/SageMaker/dataset/dataset/NZTCKFL_0017467_1193055503.png'"
      ]
     },
     "execution_count": 8,
     "metadata": {},
     "output_type": "execute_result"
    }
   ],
   "source": [
    "# Check that images in the dataframe are refering to the correct path\n",
    "samples[\"s3_path\"].iloc[0]"
   ]
  },
  {
   "cell_type": "markdown",
   "id": "5c32a1e6",
   "metadata": {},
   "source": [
    "There are some images (~30) that are missing in the S3 bucket but they appear in the CSV file. We remove them."
   ]
  },
  {
   "cell_type": "code",
   "execution_count": 9,
   "id": "58fdc2bd",
   "metadata": {},
   "outputs": [
    {
     "name": "stdout",
     "output_type": "stream",
     "text": [
      "/home/ec2-user/SageMaker/dataset/dataset/LNQBTMC_0092690_1654903940.png\n",
      "/home/ec2-user/SageMaker/dataset/dataset/VJTTJQD_0040488_1098020161.png\n",
      "/home/ec2-user/SageMaker/dataset/dataset/PPKWSJR_0004646_60587075.png\n",
      "/home/ec2-user/SageMaker/dataset/dataset/BSCRBMV_0011116_1220714661.png\n",
      "/home/ec2-user/SageMaker/dataset/dataset/VJTTJQD_0214351_1380823197.png\n",
      "/home/ec2-user/SageMaker/dataset/dataset/BFDKZRG_0032872_617098369.png\n",
      "/home/ec2-user/SageMaker/dataset/dataset/BFDKZRG_0036209_809223163.png\n",
      "/home/ec2-user/SageMaker/dataset/dataset/VJTTJQD_0211327_1380809266.png\n",
      "/home/ec2-user/SageMaker/dataset/dataset/VJTTJQD_0213966_1380821411.png\n",
      "/home/ec2-user/SageMaker/dataset/dataset/PPKWSJR_0002867_60584254.png\n",
      "/home/ec2-user/SageMaker/dataset/dataset/VJTTJQD_0206886_1380791874.png\n",
      "/home/ec2-user/SageMaker/dataset/dataset/QPCYVVZ_0009860_1097897031.png\n",
      "/home/ec2-user/SageMaker/dataset/dataset/FZKQYZG_0004222_1586626572.png\n",
      "/home/ec2-user/SageMaker/dataset/dataset/VJTTJQD_0211294_1380809134.png\n",
      "/home/ec2-user/SageMaker/dataset/dataset/GYTGYCG_0016434_1702351010.png\n",
      "/home/ec2-user/SageMaker/dataset/dataset/BFDKZRG_0032867_617097242.png\n",
      "/home/ec2-user/SageMaker/dataset/dataset/GYTGYCG_0017030_1702351898.png\n",
      "/home/ec2-user/SageMaker/dataset/dataset/VJTTJQD_0212459_1380812814.png\n",
      "/home/ec2-user/SageMaker/dataset/dataset/QSMFWRR_0343290_1954774924.png\n",
      "/home/ec2-user/SageMaker/dataset/dataset/QSMFWRR_0431055_2126020785.png\n",
      "/home/ec2-user/SageMaker/dataset/dataset/VJTTJQD_0206597_1380790598.png\n",
      "/home/ec2-user/SageMaker/dataset/dataset/GYTGYCG_0016440_1702351017.png\n",
      "/home/ec2-user/SageMaker/dataset/dataset/VJTTJQD_0214344_1380823105.png\n"
     ]
    }
   ],
   "source": [
    "missing_images = []\n",
    "for p in samples[\"s3_path\"].unique():\n",
    "    if not os.path.exists(p):\n",
    "        print(p)\n",
    "        missing_images.append(p)"
   ]
  },
  {
   "cell_type": "code",
   "execution_count": 10,
   "id": "ac29ecbd",
   "metadata": {},
   "outputs": [
    {
     "data": {
      "text/plain": [
       "(2887399, 13)"
      ]
     },
     "execution_count": 10,
     "metadata": {},
     "output_type": "execute_result"
    }
   ],
   "source": [
    "samples = samples[~samples[\"s3_path\"].isin(missing_images)]\n",
    "samples.shape"
   ]
  },
  {
   "cell_type": "code",
   "execution_count": 11,
   "id": "b3f8d004",
   "metadata": {},
   "outputs": [
    {
     "data": {
      "text/plain": [
       "Index(['Unnamed: 0', 'Unnamed: 0.1', 'country_code', 'city_code', 'store_name',\n",
       "       'product_name', 'collection_section', 'product_description', 'subset',\n",
       "       'hash', 'aux_store', 'HIER', 's3_path'],\n",
       "      dtype='object')"
      ]
     },
     "execution_count": 11,
     "metadata": {},
     "output_type": "execute_result"
    }
   ],
   "source": [
    "samples.columns"
   ]
  },
  {
   "cell_type": "markdown",
   "id": "f88f2f28",
   "metadata": {},
   "source": [
    "## 1) Create sentences"
   ]
  },
  {
   "cell_type": "code",
   "execution_count": 12,
   "id": "77148b0d",
   "metadata": {},
   "outputs": [],
   "source": [
    "samples[\"product_description\"].fillna(\"\", inplace=True)\n",
    "samples[\"sentence\"] = \\\n",
    "    np.where(samples[\"product_name\"], samples[\"product_name\"].astype(str), \"\") + \" \" + \\\n",
    "    np.where(samples[\"collection_section\"], samples[\"collection_section\"].astype(str), \"\") + \" \" + \\\n",
    "    np.where(samples[\"product_description\"], samples[\"product_description\"].astype(str), \"\")\n",
    "\n",
    "samples[\"sentence\"] = samples[\"sentence\"].str.lower()\n",
    "samples.rename(columns={'Unnamed: 0': 'idx'}, inplace=True)"
   ]
  },
  {
   "cell_type": "markdown",
   "id": "24cc90ce",
   "metadata": {},
   "source": [
    "## 1.1) Fit Tokenizer (only if it is not fitted)"
   ]
  },
  {
   "cell_type": "code",
   "execution_count": 13,
   "id": "5cbd6d9e",
   "metadata": {},
   "outputs": [],
   "source": [
    "# 1) Get all sentences \n",
    "sentences = samples[\"sentence\"].values"
   ]
  },
  {
   "cell_type": "code",
   "execution_count": 14,
   "id": "b289f867",
   "metadata": {},
   "outputs": [
    {
     "name": "stderr",
     "output_type": "stream",
     "text": [
      "[nltk_data] Downloading package punkt to /home/ec2-user/nltk_data...\n",
      "[nltk_data]   Package punkt is already up-to-date!\n",
      "100%|██████████| 2887399/2887399 [06:49<00:00, 7048.82it/s]\n"
     ]
    }
   ],
   "source": [
    "if not os.path.isfile(conf[\"LOCAL_VOCAB\"]):\n",
    "#if True:\n",
    "    # 2) Fit Tokenizer with senteces (CAREFUL, takes 6-7 min)\n",
    "    tokenizer = Tokenizer(vocab_path=None, download_tokenizer=True)\n",
    "    # Fit tokenize\n",
    "    vocab = tokenizer.fit(sentences)\n",
    "    # 3) Saving vocabulary\n",
    "    tokenizer.save(conf['LOCAL_VOCAB'])"
   ]
  },
  {
   "cell_type": "code",
   "execution_count": 15,
   "id": "d8ecb83d",
   "metadata": {},
   "outputs": [
    {
     "name": "stderr",
     "output_type": "stream",
     "text": [
      "[nltk_data] Downloading package punkt to /home/ec2-user/nltk_data...\n",
      "[nltk_data]   Package punkt is already up-to-date!\n"
     ]
    },
    {
     "data": {
      "text/plain": [
       "245962"
      ]
     },
     "execution_count": 15,
     "metadata": {},
     "output_type": "execute_result"
    }
   ],
   "source": [
    "# 4) Load if already saved\n",
    "tokenizer = Tokenizer(vocab_path=conf[\"LOCAL_VOCAB\"], download_tokenizer=True)\n",
    "len(tokenizer.vocab)"
   ]
  },
  {
   "cell_type": "markdown",
   "id": "490a85aa",
   "metadata": {},
   "source": [
    "## 2) Creating dataset parquet\n",
    "In this section we create a parquet file that contains the DataFrame with all the captions and images of our dataset. This parquet file **will be consumed by our DataLoader class.**"
   ]
  },
  {
   "cell_type": "code",
   "execution_count": 14,
   "id": "93c9e1ab",
   "metadata": {},
   "outputs": [],
   "source": [
    "# Keep only necessary columns for modelling\n",
    "final_samples = samples[[\"sentence\", \"s3_path\", \"subset\",\"country_code\", \"hash\"]].reset_index().copy()\n",
    "final_samples.rename(columns={\"sentence\": \"caption\"}, inplace=True)\n",
    "final_samples.rename(columns={\"subset\": \"split\"}, inplace=True)\n",
    "final_samples.rename(columns={\"index\": \"img_id\"}, inplace=True)"
   ]
  },
  {
   "cell_type": "code",
   "execution_count": 15,
   "id": "6c7bd5f4",
   "metadata": {},
   "outputs": [
    {
     "data": {
      "text/plain": [
       "array(['train', 'val', 'test'], dtype=object)"
      ]
     },
     "execution_count": 15,
     "metadata": {},
     "output_type": "execute_result"
    }
   ],
   "source": [
    "final_samples.split.unique()"
   ]
  },
  {
   "cell_type": "code",
   "execution_count": 16,
   "id": "0a514e9d",
   "metadata": {},
   "outputs": [
    {
     "data": {
      "text/plain": [
       "2021174"
      ]
     },
     "execution_count": 16,
     "metadata": {},
     "output_type": "execute_result"
    }
   ],
   "source": [
    "num_samples_train = (final_samples[\"split\"] == \"train\").sum()\n",
    "num_samples_train"
   ]
  },
  {
   "cell_type": "markdown",
   "id": "f02c937f",
   "metadata": {},
   "source": [
    "### Action required: set subsample to True or False "
   ]
  },
  {
   "cell_type": "code",
   "execution_count": 17,
   "id": "acbd7146",
   "metadata": {},
   "outputs": [
    {
     "name": "stdout",
     "output_type": "stream",
     "text": [
      "(7000, 6) (1500, 6) (1500, 6)\n"
     ]
    }
   ],
   "source": [
    "subsample = True # Set me\n",
    "subsample_size = 10000\n",
    "if subsample:\n",
    "    final_samples_ES = final_samples[final_samples[\"country_code\"]==\"ES\"]\n",
    "    final_samples_ES = final_samples_ES.sample(subsample_size)\n",
    "    train, val_test = train_test_split(final_samples_ES, test_size=int(subsample_size*0.3))\n",
    "    val, test = train_test_split(val_test, test_size=int(val_test.shape[0]*0.5))\n",
    "    print(train.shape, val.shape, test.shape)\n",
    "    final_samples = pd.concat([train, val, test])"
   ]
  },
  {
   "cell_type": "code",
   "execution_count": 18,
   "id": "21143be7",
   "metadata": {},
   "outputs": [],
   "source": [
    "# Remove previous version\n",
    "if os.path.exists(conf[\"LOCAL_DATASET\"]):\n",
    "    shutil.rmtree(conf[\"LOCAL_DATASET\"])"
   ]
  },
  {
   "cell_type": "code",
   "execution_count": 19,
   "id": "752fa78e",
   "metadata": {},
   "outputs": [],
   "source": [
    "# Save as partitioned parquet\n",
    "final_samples.to_parquet(\n",
    "    path=conf[\"LOCAL_DATASET\"],\n",
    "    engine=\"pyarrow\",\n",
    "    index=False,\n",
    "    partition_cols=[\"split\"],\n",
    ")"
   ]
  },
  {
   "cell_type": "code",
   "execution_count": 20,
   "id": "91776834",
   "metadata": {},
   "outputs": [],
   "source": [
    "import pandas as pd\n",
    "import shutil\n",
    "final_samples = pd.read_parquet(conf[\"LOCAL_DATASET\"])"
   ]
  },
  {
   "cell_type": "code",
   "execution_count": 21,
   "id": "57dd6b00",
   "metadata": {},
   "outputs": [],
   "source": [
    "destination_dir_root = \"/home/ec2-user/SageMaker/dataset/spanish_subset/\""
   ]
  },
  {
   "cell_type": "code",
   "execution_count": 22,
   "id": "3e7690e0",
   "metadata": {},
   "outputs": [],
   "source": [
    "for p in final_samples[\"s3_path\"].to_list():\n",
    "    file_name = p.split(\"/\")[-1]\n",
    "    shutil.copy(p, os.path.join(destination_dir_root, file_name))"
   ]
  },
  {
   "cell_type": "code",
   "execution_count": 23,
   "id": "a7cc70e3",
   "metadata": {},
   "outputs": [],
   "source": [
    "final_samples.to_csv(\"/home/ec2-user/SageMaker/dataset/spanish_subset.csv\")"
   ]
  },
  {
   "cell_type": "code",
   "execution_count": 45,
   "id": "ca62e057",
   "metadata": {},
   "outputs": [
    {
     "data": {
      "text/plain": [
       "(10000, 6)"
      ]
     },
     "execution_count": 45,
     "metadata": {},
     "output_type": "execute_result"
    }
   ],
   "source": [
    "final_samples.shape"
   ]
  },
  {
   "cell_type": "code",
   "execution_count": 24,
   "id": "43c4a11e",
   "metadata": {},
   "outputs": [],
   "source": [
    "import"
   ]
  },
  {
   "cell_type": "code",
   "execution_count": null,
   "id": "6dc495f5",
   "metadata": {},
   "outputs": [
    {
     "name": "stdout",
     "output_type": "stream",
     "text": [
      "Computing valid answers: \n",
      "0.0\n",
      "4.714774973220078e-05\n",
      "9.429549946440156e-05\n",
      "0.00014144324919660234\n",
      "0.00018859099892880313\n",
      "0.00023573874866100392\n",
      "0.0002828864983932047\n",
      "0.00033003424812540547\n",
      "0.00037718199785760626\n",
      "0.000424329747589807\n",
      "0.00047147749732200783\n",
      "0.0005186252470542087\n",
      "0.0005657729967864094\n",
      "0.0006129207465186101\n",
      "0.0006600684962508109\n",
      "0.0007072162459830117\n",
      "0.0007543639957152125\n",
      "0.0008015117454474132\n",
      "0.000848659495179614\n",
      "0.0008958072449118148\n",
      "0.0009429549946440157\n",
      "0.0009901027443762166\n",
      "0.0010372504941084174\n",
      "0.001084398243840618\n",
      "0.0011315459935728187\n",
      "0.0011786937433050195\n",
      "0.0012258414930372203\n",
      "0.001272989242769421\n",
      "0.0013201369925016219\n",
      "0.0013672847422338227\n",
      "0.0014144324919660234\n",
      "0.0014615802416982242\n",
      "0.001508727991430425\n",
      "0.0015558757411626258\n",
      "0.0016030234908948264\n",
      "0.0016501712406270274\n",
      "0.001697318990359228\n",
      "0.001744466740091429\n"
     ]
    }
   ],
   "source": [
    "valid_answers = {}\n",
    "data = pd.read_parquet(\"/home/ec2-user/SageMaker/dataset/samples\")\n",
    "data = data[[\"caption\", \"s3_path\", \"img_id\"]]\n",
    "print(\"Computing valid answers: \")\n",
    "n = data.shape[0]\n",
    "for i, row in data.iterrows():\n",
    "    print((i/n)*100)\n",
    "    idxs_where_duplication = (data[\"caption\"] == row[\"caption\"]) | (data[\"s3_path\"] == row[\"s3_path\"])\n",
    "    list_indexes_duplication = list(np.where(np.array(idxs_where_duplication.to_list()) == True)[0])\n",
    "    valid_answers[row[\"img_id\"]] = list_indexes_duplication"
   ]
  },
  {
   "cell_type": "code",
   "execution_count": 30,
   "id": "b87f821f",
   "metadata": {},
   "outputs": [],
   "source": [
    "class ValidAnswersCalculator:\n",
    "    def __init__(self, data):\n",
    "        self.data = data\n",
    "\n",
    "    def create_jobs(self, data):\n",
    "        jobs = []\n",
    "        for row in range(self.data.iterrows()):\n",
    "            caption = row[\"caption\"]\n",
    "            s3_path = row[\"s3_path\"]\n",
    "            img_id = row[\"img_id\"]\n",
    "            jobs.append((caption, s3_path, img_id))\n",
    "        return jobs\n",
    "    \n",
    "    def "
   ]
  },
  {
   "cell_type": "code",
   "execution_count": 36,
   "id": "3b1ee1c5",
   "metadata": {},
   "outputs": [
    {
     "data": {
      "text/plain": [
       "{2454329: [0, 307866, 556709, 905909, 1099345, 1364996],\n",
       " 2454330: [1, 618398, 943853, 1764810],\n",
       " 2454332: [2],\n",
       " 2454333: [3],\n",
       " 2454334: [4],\n",
       " 2454337: [5, 712734],\n",
       " 2454340: [6,\n",
       "  433913,\n",
       "  488693,\n",
       "  651519,\n",
       "  990019,\n",
       "  1112458,\n",
       "  1115857,\n",
       "  1334721,\n",
       "  1359118,\n",
       "  1469795,\n",
       "  1512277,\n",
       "  1650348,\n",
       "  2063700],\n",
       " 2454341: [7,\n",
       "  106339,\n",
       "  435985,\n",
       "  599349,\n",
       "  626551,\n",
       "  1009452,\n",
       "  1077714,\n",
       "  1604874,\n",
       "  1772681],\n",
       " 2454343: [8],\n",
       " 2454344: [9, 904899, 1838136],\n",
       " 2454346: [10],\n",
       " 2454347: [11],\n",
       " 2454351: [12, 317095, 1625739, 1698063, 1769007],\n",
       " 2454352: [13, 356499],\n",
       " 2454354: [14, 479257, 730910, 916990, 1658203],\n",
       " 2454355: [15],\n",
       " 2454356: [16, 200310],\n",
       " 2454357: [17],\n",
       " 2454359: [18],\n",
       " 2454361: [19],\n",
       " 2454364: [20, 1833522, 1964237],\n",
       " 2454365: [21],\n",
       " 2454366: [22,\n",
       "  71834,\n",
       "  324439,\n",
       "  328418,\n",
       "  548643,\n",
       "  1198214,\n",
       "  1311305,\n",
       "  1345777,\n",
       "  1546494],\n",
       " 2454367: [23],\n",
       " 2454368: [24, 617877, 1434232, 1967411],\n",
       " 2454369: [25],\n",
       " 2454370: [26, 464338, 474167, 1050306, 1415492, 1507753, 1626902, 1854197],\n",
       " 2454375: [27],\n",
       " 2454376: [28, 717609, 1317117],\n",
       " 2454379: [29, 82350],\n",
       " 2454380: [30,\n",
       "  103377,\n",
       "  136866,\n",
       "  283221,\n",
       "  412003,\n",
       "  509971,\n",
       "  535197,\n",
       "  574425,\n",
       "  726404,\n",
       "  816241,\n",
       "  1147704,\n",
       "  1327767,\n",
       "  1371192,\n",
       "  1962509,\n",
       "  1972882],\n",
       " 2454381: [31],\n",
       " 2454382: [32, 425969, 532221, 655891, 825956, 1002236, 1291844, 1420157],\n",
       " 2454392: [33, 515, 306665, 339190, 868516, 902320, 968538, 1189462],\n",
       " 2454394: [34],\n",
       " 2454396: [35],\n",
       " 2454397: [36],\n",
       " 2454399: [37, 578917],\n",
       " 2454401: [38],\n",
       " 2454402: [39],\n",
       " 2454404: [40],\n",
       " 2454408: [41, 117340],\n",
       " 2454409: [42],\n",
       " 2454412: [43, 526241],\n",
       " 2454414: [44, 1148244],\n",
       " 2454416: [45, 187893, 321766, 835473]}"
      ]
     },
     "execution_count": 36,
     "metadata": {},
     "output_type": "execute_result"
    }
   ],
   "source": [
    "valid_answers"
   ]
  },
  {
   "cell_type": "code",
   "execution_count": null,
   "id": "003d1832",
   "metadata": {},
   "outputs": [],
   "source": []
  }
 ],
 "metadata": {
  "kernelspec": {
   "display_name": "conda_python3",
   "language": "python",
   "name": "conda_python3"
  },
  "language_info": {
   "codemirror_mode": {
    "name": "ipython",
    "version": 3
   },
   "file_extension": ".py",
   "mimetype": "text/x-python",
   "name": "python",
   "nbconvert_exporter": "python",
   "pygments_lexer": "ipython3",
   "version": "3.6.13"
  }
 },
 "nbformat": 4,
 "nbformat_minor": 5
}
