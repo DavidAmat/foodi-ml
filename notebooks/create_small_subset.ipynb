{
 "cells": [
  {
   "cell_type": "markdown",
   "id": "de19a05e",
   "metadata": {},
   "source": [
    "# FINAL PREPROCESS\n",
    "1. Read CSV\n",
    "2. Fit Tokenizer (if it is already fitted read it from disk)\n",
    "3. Create a parquet file called samples\n",
    "4. Save the parquet"
   ]
  },
  {
   "cell_type": "code",
   "execution_count": 63,
   "id": "41ba92c6",
   "metadata": {},
   "outputs": [],
   "source": [
    "import os\n",
    "import numpy as np\n",
    "import pandas as pd\n",
    "import multiprocessing\n",
    "import sys\n",
    "import json\n",
    "from tqdm import tqdm\n",
    "import shutil\n",
    "from sklearn.model_selection import train_test_split\n",
    "\n",
    "#os.chdir(\"/home/ec2-user/SageMaker/foodi-ml/notebooks/\")"
   ]
  },
  {
   "cell_type": "code",
   "execution_count": 64,
   "id": "e8e38149",
   "metadata": {},
   "outputs": [
    {
     "data": {
      "text/plain": [
       "'1.1.0'"
      ]
     },
     "execution_count": 64,
     "metadata": {},
     "output_type": "execute_result"
    }
   ],
   "source": [
    "import torch\n",
    "torch.__version__"
   ]
  },
  {
   "cell_type": "code",
   "execution_count": 65,
   "id": "d0f40ad4",
   "metadata": {},
   "outputs": [],
   "source": [
    "os.chdir(\"/home/ec2-user/SageMaker/foodi-ml/\")\n",
    "from retrieval.data.tokenizer import Tokenizer"
   ]
  },
  {
   "cell_type": "markdown",
   "id": "1b865794",
   "metadata": {},
   "source": [
    "# Exploration of execution\n",
    "\n",
    "Execution \n",
    "\n",
    "```{bash}\n",
    "cd /home/ec2-user/SageMaker/foodi-ml\n",
    "source activate python3\n",
    "export DATA_PATH=/home/ec2-user/SageMaker/dataset/\n",
    "python run.py options/adapt/foodi-ml/i2t.yaml\n",
    "python test.py options/adapt/foodi-ml/i2t.yaml\n",
    "\n",
    "#watch -n 1 \"nvidia-smi\"\n",
    "```"
   ]
  },
  {
   "cell_type": "markdown",
   "id": "085205eb",
   "metadata": {},
   "source": [
    "# Configurations"
   ]
  },
  {
   "cell_type": "code",
   "execution_count": 95,
   "id": "10d7f348",
   "metadata": {},
   "outputs": [],
   "source": [
    "PATH_DATA = '/home/ec2-user/SageMaker/dataset/'\n",
    "PATH_FOODI = '/home/ec2-user/SageMaker/foodi-ml'\n",
    "DATASET_CSV = 'glovo-foodi-ml-dataset.csv'\n",
    "\n",
    "conf = {\n",
    "    \"S3_BUCKET\": 'glovo-products-dataset-d1c9720d',\n",
    "    \"S3_KEY_DATASET\": DATASET_CSV,\n",
    "    \"LOCAL_RAW_DATASET\": os.path.join(PATH_DATA, DATASET_CSV),\n",
    "    \"LOCAL_DATASET\": os.path.join(PATH_DATA, 'samples'),\n",
    "    \"LOCAL_DATASET_SMALL\": os.path.join(PATH_DATA, 'samples_small'),\n",
    "    \"LOCAL_IMAGES\": os.path.join(PATH_DATA, 'dataset'),\n",
    "    \"LOCAL_VOCAB\": os.path.join(PATH_FOODI, '.vocab_cache/foodiml_vocab.json'),\n",
    "    \"pth_dwn_samples\": '/home/ec2-user/SageMaker/dataset/',\n",
    "    \"pth_dwn_images\": '/home/ec2-user/SageMaker/dataset/dataset/',\n",
    "    \"pth_vocab\": '/home/ec2-user/SageMaker/foodi-ml/.vocab_cache/foodiml_vocab.json',\n",
    "    \"pth_dataset_json\": '/home/ec2-user/SageMaker/dataset/dataset_foodiml.json',\n",
    "}"
   ]
  },
  {
   "cell_type": "markdown",
   "id": "53e2ef9a",
   "metadata": {},
   "source": [
    "# Read all samples"
   ]
  },
  {
   "cell_type": "code",
   "execution_count": 97,
   "id": "341960ef",
   "metadata": {},
   "outputs": [],
   "source": [
    "samples = pd.read_csv(os.path.join(conf['LOCAL_RAW_DATASET']))"
   ]
  },
  {
   "cell_type": "code",
   "execution_count": 98,
   "id": "419c015a",
   "metadata": {},
   "outputs": [
    {
     "data": {
      "text/plain": [
       "(2887444, 15)"
      ]
     },
     "execution_count": 98,
     "metadata": {},
     "output_type": "execute_result"
    }
   ],
   "source": [
    "samples.shape"
   ]
  },
  {
   "cell_type": "code",
   "execution_count": 99,
   "id": "0c2889c3",
   "metadata": {},
   "outputs": [
    {
     "data": {
      "text/html": [
       "<div>\n",
       "<style scoped>\n",
       "    .dataframe tbody tr th:only-of-type {\n",
       "        vertical-align: middle;\n",
       "    }\n",
       "\n",
       "    .dataframe tbody tr th {\n",
       "        vertical-align: top;\n",
       "    }\n",
       "\n",
       "    .dataframe thead th {\n",
       "        text-align: right;\n",
       "    }\n",
       "</style>\n",
       "<table border=\"1\" class=\"dataframe\">\n",
       "  <thead>\n",
       "    <tr style=\"text-align: right;\">\n",
       "      <th></th>\n",
       "      <th>Unnamed: 0</th>\n",
       "      <th>Unnamed: 0.1</th>\n",
       "      <th>Unnamed: 0.1.1</th>\n",
       "      <th>Unnamed: 0.1.1.1</th>\n",
       "      <th>country_code</th>\n",
       "      <th>city_code</th>\n",
       "      <th>store_name</th>\n",
       "      <th>product_name</th>\n",
       "      <th>collection_section</th>\n",
       "      <th>product_description</th>\n",
       "      <th>subset</th>\n",
       "      <th>hash</th>\n",
       "      <th>aux_store</th>\n",
       "      <th>HIER</th>\n",
       "      <th>s3_path</th>\n",
       "    </tr>\n",
       "  </thead>\n",
       "  <tbody>\n",
       "    <tr>\n",
       "      <th>0</th>\n",
       "      <td>0</td>\n",
       "      <td>0</td>\n",
       "      <td>0</td>\n",
       "      <td>0</td>\n",
       "      <td>CL</td>\n",
       "      <td>STG</td>\n",
       "      <td>AS_000</td>\n",
       "      <td>Savital Shampoo Keratina Y Sabila 550Ml (00001...</td>\n",
       "      <td>Shampoo</td>\n",
       "      <td>NaN</td>\n",
       "      <td>train</td>\n",
       "      <td>3509449892161349181</td>\n",
       "      <td>True</td>\n",
       "      <td>False</td>\n",
       "      <td>/home/ec2-user/SageMaker/dataset/dataset/NZTCK...</td>\n",
       "    </tr>\n",
       "    <tr>\n",
       "      <th>1</th>\n",
       "      <td>1</td>\n",
       "      <td>1</td>\n",
       "      <td>1</td>\n",
       "      <td>1</td>\n",
       "      <td>KE</td>\n",
       "      <td>NRK</td>\n",
       "      <td>Cold Stone Creamery Cart</td>\n",
       "      <td>Chocolate Layer Cake™</td>\n",
       "      <td>Promotions - Free waffles on every ice cream p...</td>\n",
       "      <td>Sweet Cream Ice Cream with Crumbles of Chocola...</td>\n",
       "      <td>train</td>\n",
       "      <td>1077526765743747663</td>\n",
       "      <td>False</td>\n",
       "      <td>True</td>\n",
       "      <td>/home/ec2-user/SageMaker/dataset/dataset/YKKVT...</td>\n",
       "    </tr>\n",
       "    <tr>\n",
       "      <th>2</th>\n",
       "      <td>2</td>\n",
       "      <td>2</td>\n",
       "      <td>2</td>\n",
       "      <td>2</td>\n",
       "      <td>UA</td>\n",
       "      <td>DNP</td>\n",
       "      <td>Khinkali &amp; Khachapuri / Хинкали &amp; Хачапури</td>\n",
       "      <td>Асорті на компанію</td>\n",
       "      <td>ЗАКУСКИ</td>\n",
       "      <td>балик домашній,грудинка копчена,паштет з печін...</td>\n",
       "      <td>train</td>\n",
       "      <td>-4606644841517710049</td>\n",
       "      <td>False</td>\n",
       "      <td>True</td>\n",
       "      <td>/home/ec2-user/SageMaker/dataset/dataset/ZFSHH...</td>\n",
       "    </tr>\n",
       "    <tr>\n",
       "      <th>3</th>\n",
       "      <td>3</td>\n",
       "      <td>3</td>\n",
       "      <td>3</td>\n",
       "      <td>3</td>\n",
       "      <td>CL</td>\n",
       "      <td>STG</td>\n",
       "      <td>AS_001</td>\n",
       "      <td>Suav Vivere Hierbas F Jazmin Pouch 900Cc</td>\n",
       "      <td>Suavizantes</td>\n",
       "      <td>NaN</td>\n",
       "      <td>train</td>\n",
       "      <td>-3420249778599023770</td>\n",
       "      <td>True</td>\n",
       "      <td>False</td>\n",
       "      <td>/home/ec2-user/SageMaker/dataset/dataset/NZTCK...</td>\n",
       "    </tr>\n",
       "    <tr>\n",
       "      <th>4</th>\n",
       "      <td>4</td>\n",
       "      <td>4</td>\n",
       "      <td>4</td>\n",
       "      <td>4</td>\n",
       "      <td>CL</td>\n",
       "      <td>STG</td>\n",
       "      <td>AS_000</td>\n",
       "      <td>Leoncio Y El Doctor Veterinario</td>\n",
       "      <td>Infantil</td>\n",
       "      <td>NaN</td>\n",
       "      <td>train</td>\n",
       "      <td>2295647601757404193</td>\n",
       "      <td>True</td>\n",
       "      <td>False</td>\n",
       "      <td>/home/ec2-user/SageMaker/dataset/dataset/NZTCK...</td>\n",
       "    </tr>\n",
       "  </tbody>\n",
       "</table>\n",
       "</div>"
      ],
      "text/plain": [
       "   Unnamed: 0  Unnamed: 0.1  Unnamed: 0.1.1  Unnamed: 0.1.1.1 country_code  \\\n",
       "0           0             0               0                 0           CL   \n",
       "1           1             1               1                 1           KE   \n",
       "2           2             2               2                 2           UA   \n",
       "3           3             3               3                 3           CL   \n",
       "4           4             4               4                 4           CL   \n",
       "\n",
       "  city_code                                  store_name  \\\n",
       "0       STG                                      AS_000   \n",
       "1       NRK                    Cold Stone Creamery Cart   \n",
       "2       DNP  Khinkali & Khachapuri / Хинкали & Хачапури   \n",
       "3       STG                                      AS_001   \n",
       "4       STG                                      AS_000   \n",
       "\n",
       "                                        product_name  \\\n",
       "0  Savital Shampoo Keratina Y Sabila 550Ml (00001...   \n",
       "1                              Chocolate Layer Cake™   \n",
       "2                                 Асорті на компанію   \n",
       "3           Suav Vivere Hierbas F Jazmin Pouch 900Cc   \n",
       "4                    Leoncio Y El Doctor Veterinario   \n",
       "\n",
       "                                  collection_section  \\\n",
       "0                                            Shampoo   \n",
       "1  Promotions - Free waffles on every ice cream p...   \n",
       "2                                            ЗАКУСКИ   \n",
       "3                                        Suavizantes   \n",
       "4                                           Infantil   \n",
       "\n",
       "                                 product_description subset  \\\n",
       "0                                                NaN  train   \n",
       "1  Sweet Cream Ice Cream with Crumbles of Chocola...  train   \n",
       "2  балик домашній,грудинка копчена,паштет з печін...  train   \n",
       "3                                                NaN  train   \n",
       "4                                                NaN  train   \n",
       "\n",
       "                  hash  aux_store   HIER  \\\n",
       "0  3509449892161349181       True  False   \n",
       "1  1077526765743747663      False   True   \n",
       "2 -4606644841517710049      False   True   \n",
       "3 -3420249778599023770       True  False   \n",
       "4  2295647601757404193       True  False   \n",
       "\n",
       "                                             s3_path  \n",
       "0  /home/ec2-user/SageMaker/dataset/dataset/NZTCK...  \n",
       "1  /home/ec2-user/SageMaker/dataset/dataset/YKKVT...  \n",
       "2  /home/ec2-user/SageMaker/dataset/dataset/ZFSHH...  \n",
       "3  /home/ec2-user/SageMaker/dataset/dataset/NZTCK...  \n",
       "4  /home/ec2-user/SageMaker/dataset/dataset/NZTCK...  "
      ]
     },
     "execution_count": 99,
     "metadata": {},
     "output_type": "execute_result"
    }
   ],
   "source": [
    "samples.head()"
   ]
  },
  {
   "cell_type": "code",
   "execution_count": 100,
   "id": "f525a613",
   "metadata": {},
   "outputs": [
    {
     "data": {
      "text/plain": [
       "'/home/ec2-user/SageMaker/dataset/dataset/NZTCKFL_0017467_1193055503.png'"
      ]
     },
     "execution_count": 100,
     "metadata": {},
     "output_type": "execute_result"
    }
   ],
   "source": [
    "# Check that images in the dataframe are refering to the correct path\n",
    "samples[\"s3_path\"].iloc[0]"
   ]
  },
  {
   "cell_type": "markdown",
   "id": "dd12b4f5",
   "metadata": {},
   "source": [
    "There are some images (~30) that are missing in the S3 bucket but they appear in the CSV file. We remove them."
   ]
  },
  {
   "cell_type": "code",
   "execution_count": 101,
   "id": "1e360d60",
   "metadata": {},
   "outputs": [
    {
     "name": "stdout",
     "output_type": "stream",
     "text": [
      "/home/ec2-user/SageMaker/dataset/dataset/LNQBTMC_0092690_1654903940.png\n",
      "/home/ec2-user/SageMaker/dataset/dataset/VJTTJQD_0040488_1098020161.png\n",
      "/home/ec2-user/SageMaker/dataset/dataset/PPKWSJR_0004646_60587075.png\n",
      "/home/ec2-user/SageMaker/dataset/dataset/BSCRBMV_0011116_1220714661.png\n",
      "/home/ec2-user/SageMaker/dataset/dataset/VJTTJQD_0214351_1380823197.png\n",
      "/home/ec2-user/SageMaker/dataset/dataset/BFDKZRG_0032872_617098369.png\n",
      "/home/ec2-user/SageMaker/dataset/dataset/BFDKZRG_0036209_809223163.png\n",
      "/home/ec2-user/SageMaker/dataset/dataset/VJTTJQD_0211327_1380809266.png\n",
      "/home/ec2-user/SageMaker/dataset/dataset/VJTTJQD_0213966_1380821411.png\n",
      "/home/ec2-user/SageMaker/dataset/dataset/PPKWSJR_0002867_60584254.png\n",
      "/home/ec2-user/SageMaker/dataset/dataset/VJTTJQD_0206886_1380791874.png\n",
      "/home/ec2-user/SageMaker/dataset/dataset/QPCYVVZ_0009860_1097897031.png\n",
      "/home/ec2-user/SageMaker/dataset/dataset/FZKQYZG_0004222_1586626572.png\n",
      "/home/ec2-user/SageMaker/dataset/dataset/VJTTJQD_0211294_1380809134.png\n",
      "/home/ec2-user/SageMaker/dataset/dataset/GYTGYCG_0016434_1702351010.png\n",
      "/home/ec2-user/SageMaker/dataset/dataset/BFDKZRG_0032867_617097242.png\n",
      "/home/ec2-user/SageMaker/dataset/dataset/GYTGYCG_0017030_1702351898.png\n",
      "/home/ec2-user/SageMaker/dataset/dataset/VJTTJQD_0212459_1380812814.png\n",
      "/home/ec2-user/SageMaker/dataset/dataset/QSMFWRR_0343290_1954774924.png\n",
      "/home/ec2-user/SageMaker/dataset/dataset/QSMFWRR_0431055_2126020785.png\n",
      "/home/ec2-user/SageMaker/dataset/dataset/VJTTJQD_0206597_1380790598.png\n",
      "/home/ec2-user/SageMaker/dataset/dataset/GYTGYCG_0016440_1702351017.png\n",
      "/home/ec2-user/SageMaker/dataset/dataset/VJTTJQD_0214344_1380823105.png\n"
     ]
    }
   ],
   "source": [
    "missing_images = []\n",
    "for p in samples[\"s3_path\"].unique():\n",
    "    if not os.path.exists(p):\n",
    "        print(p)\n",
    "        missing_images.append(p)"
   ]
  },
  {
   "cell_type": "code",
   "execution_count": 102,
   "id": "5bddac97",
   "metadata": {},
   "outputs": [
    {
     "data": {
      "text/plain": [
       "(2887399, 15)"
      ]
     },
     "execution_count": 102,
     "metadata": {},
     "output_type": "execute_result"
    }
   ],
   "source": [
    "samples = samples[~samples[\"s3_path\"].isin(missing_images)]\n",
    "samples.shape"
   ]
  },
  {
   "cell_type": "code",
   "execution_count": 103,
   "id": "ee20fcf0",
   "metadata": {},
   "outputs": [
    {
     "data": {
      "text/plain": [
       "Index(['Unnamed: 0', 'Unnamed: 0.1', 'Unnamed: 0.1.1', 'Unnamed: 0.1.1.1',\n",
       "       'country_code', 'city_code', 'store_name', 'product_name',\n",
       "       'collection_section', 'product_description', 'subset', 'hash',\n",
       "       'aux_store', 'HIER', 's3_path'],\n",
       "      dtype='object')"
      ]
     },
     "execution_count": 103,
     "metadata": {},
     "output_type": "execute_result"
    }
   ],
   "source": [
    "samples.columns"
   ]
  },
  {
   "cell_type": "code",
   "execution_count": 104,
   "id": "4037464d",
   "metadata": {},
   "outputs": [],
   "source": [
    "samples = samples.drop_duplicates(subset=[\"product_name\", \"collection_section\", \"product_description\", \"hash\"])"
   ]
  },
  {
   "cell_type": "markdown",
   "id": "1da6cd66",
   "metadata": {},
   "source": [
    "## 1) Create sentences"
   ]
  },
  {
   "cell_type": "code",
   "execution_count": 105,
   "id": "5fab9dee",
   "metadata": {},
   "outputs": [],
   "source": [
    "samples[\"product_description\"].fillna(\"\", inplace=True)\n",
    "samples[\"sentence\"] = \\\n",
    "    np.where(samples[\"product_name\"], samples[\"product_name\"].astype(str), \"\") + \" \" + \\\n",
    "    np.where(samples[\"collection_section\"], samples[\"collection_section\"].astype(str), \"\") + \" \" + \\\n",
    "    np.where(samples[\"product_description\"], samples[\"product_description\"].astype(str), \"\")\n",
    "\n",
    "samples[\"sentence\"] = samples[\"sentence\"].str.lower()\n",
    "samples.rename(columns={'Unnamed: 0': 'idx'}, inplace=True)"
   ]
  },
  {
   "cell_type": "markdown",
   "id": "6828ac48",
   "metadata": {},
   "source": [
    "## 1.1) Fit Tokenizer (only if it is not fitted)"
   ]
  },
  {
   "cell_type": "code",
   "execution_count": 106,
   "id": "c7147a81",
   "metadata": {},
   "outputs": [],
   "source": [
    "# 1) Get all sentences \n",
    "sentences = samples[\"sentence\"].values"
   ]
  },
  {
   "cell_type": "code",
   "execution_count": 78,
   "id": "c5e90da4",
   "metadata": {},
   "outputs": [],
   "source": [
    "if not os.path.isfile(conf[\"LOCAL_VOCAB\"]):\n",
    "#if True:\n",
    "    # 2) Fit Tokenizer with senteces (CAREFUL, takes 6-7 min)\n",
    "    tokenizer = Tokenizer(vocab_path=None, download_tokenizer=True)\n",
    "    # Fit tokenize\n",
    "    vocab = tokenizer.fit(sentences)\n",
    "    # 3) Saving vocabulary\n",
    "    tokenizer.save(conf['LOCAL_VOCAB'])"
   ]
  },
  {
   "cell_type": "code",
   "execution_count": 79,
   "id": "659b9819",
   "metadata": {},
   "outputs": [
    {
     "name": "stderr",
     "output_type": "stream",
     "text": [
      "[nltk_data] Downloading package punkt to /home/ec2-user/nltk_data...\n",
      "[nltk_data]   Package punkt is already up-to-date!\n"
     ]
    },
    {
     "data": {
      "text/plain": [
       "245967"
      ]
     },
     "execution_count": 79,
     "metadata": {},
     "output_type": "execute_result"
    }
   ],
   "source": [
    "# 4) Load if already saved\n",
    "tokenizer = Tokenizer(vocab_path=conf[\"LOCAL_VOCAB\"], download_tokenizer=True)\n",
    "len(tokenizer.vocab)"
   ]
  },
  {
   "cell_type": "markdown",
   "id": "82fa9f32",
   "metadata": {},
   "source": [
    "## 2) Creating dataset parquet\n",
    "In this section we create a parquet file that contains the DataFrame with all the captions and images of our dataset. This parquet file **will be consumed by our DataLoader class.**"
   ]
  },
  {
   "cell_type": "code",
   "execution_count": 80,
   "id": "075f8d16",
   "metadata": {},
   "outputs": [],
   "source": [
    "# Keep only necessary columns for modelling\n",
    "final_samples = samples[[\"sentence\", \"subset\",\"country_code\", \"hash\"]].reset_index().copy()\n",
    "final_samples.rename(columns={\"sentence\": \"caption\"}, inplace=True)\n",
    "final_samples.rename(columns={\"subset\": \"split\"}, inplace=True)\n",
    "final_samples.rename(columns={\"index\": \"img_id\"}, inplace=True)"
   ]
  },
  {
   "cell_type": "code",
   "execution_count": 81,
   "id": "5b0a9e80",
   "metadata": {},
   "outputs": [
    {
     "data": {
      "text/plain": [
       "array(['train', 'val', 'test'], dtype=object)"
      ]
     },
     "execution_count": 81,
     "metadata": {},
     "output_type": "execute_result"
    }
   ],
   "source": [
    "final_samples.split.unique()"
   ]
  },
  {
   "cell_type": "code",
   "execution_count": 82,
   "id": "dcbe5a0f",
   "metadata": {},
   "outputs": [
    {
     "data": {
      "text/plain": [
       "1571554"
      ]
     },
     "execution_count": 82,
     "metadata": {},
     "output_type": "execute_result"
    }
   ],
   "source": [
    "num_samples_train = (final_samples[\"split\"] == \"train\").sum()\n",
    "num_samples_train"
   ]
  },
  {
   "cell_type": "markdown",
   "id": "9ff9dc43",
   "metadata": {},
   "source": [
    "### Action required: set subsample to True or False "
   ]
  },
  {
   "cell_type": "code",
   "execution_count": 94,
   "id": "c9d375d2",
   "metadata": {},
   "outputs": [
    {
     "name": "stdout",
     "output_type": "stream",
     "text": [
      "(7000, 5) (1500, 5) (1500, 5)\n"
     ]
    }
   ],
   "source": [
    "subsample = True # Set me\n",
    "subsample_size = 10000\n",
    "if subsample:\n",
    "    final_samples_ES = final_samples[final_samples[\"country_code\"]==\"ES\"]\n",
    "    final_samples_ES = final_samples_ES.sample(subsample_size)\n",
    "    train, val_test = train_test_split(final_samples_ES, test_size=int(subsample_size*0.3))\n",
    "    val, test = train_test_split(val_test, test_size=int(val_test.shape[0]*0.5))\n",
    "    print(train.shape, val.shape, test.shape)\n",
    "    final_samples = pd.concat([train, val, test])"
   ]
  },
  {
   "cell_type": "code",
   "execution_count": 84,
   "id": "97bf81d1",
   "metadata": {},
   "outputs": [],
   "source": [
    "# Remove previous version\n",
    "if os.path.exists(conf[\"LOCAL_DATASET_SMALL\"]):\n",
    "    shutil.rmtree(conf[\"LOCAL_DATASET_SMALL\"])"
   ]
  },
  {
   "cell_type": "code",
   "execution_count": 96,
   "id": "f7a5f87d",
   "metadata": {},
   "outputs": [],
   "source": [
    "# Save as partitioned parquet\n",
    "final_samples.to_parquet(\n",
    "    path=conf[\"LOCAL_DATASET_SMALL\"],\n",
    "    engine=\"pyarrow\",\n",
    "    index=False,\n",
    "    partition_cols=[\"split\"],\n",
    ")"
   ]
  },
  {
   "cell_type": "code",
   "execution_count": 43,
   "id": "04baf987",
   "metadata": {},
   "outputs": [
    {
     "data": {
      "text/plain": [
       "Index(['img_id', 'caption', 'country_code', 'hash', 'split'], dtype='object')"
      ]
     },
     "execution_count": 43,
     "metadata": {},
     "output_type": "execute_result"
    }
   ],
   "source": [
    "import pandas as pd\n",
    "import shutil\n",
    "final_samples = pd.read_parquet(conf[\"LOCAL_DATASET\"])\n",
    "final_samples.columns"
   ]
  },
  {
   "cell_type": "code",
   "execution_count": 21,
   "id": "c038b5aa",
   "metadata": {},
   "outputs": [],
   "source": [
    "destination_dir_root = \"/home/ec2-user/SageMaker/dataset/spanish_subset/\""
   ]
  },
  {
   "cell_type": "code",
   "execution_count": 22,
   "id": "7a0150ff",
   "metadata": {},
   "outputs": [],
   "source": [
    "for p in final_samples[\"s3_path\"].to_list():\n",
    "    file_name = p.split(\"/\")[-1]\n",
    "    shutil.copy(p, os.path.join(destination_dir_root, file_name))"
   ]
  },
  {
   "cell_type": "code",
   "execution_count": 23,
   "id": "11ecd236",
   "metadata": {},
   "outputs": [],
   "source": [
    "final_samples.to_csv(\"/home/ec2-user/SageMaker/dataset/spanish_subset.csv\")"
   ]
  },
  {
   "cell_type": "code",
   "execution_count": 45,
   "id": "e29dab21",
   "metadata": {},
   "outputs": [
    {
     "data": {
      "text/plain": [
       "(10000, 6)"
      ]
     },
     "execution_count": 45,
     "metadata": {},
     "output_type": "execute_result"
    }
   ],
   "source": [
    "final_samples.shape"
   ]
  },
  {
   "cell_type": "code",
   "execution_count": 89,
   "id": "a807a5db",
   "metadata": {},
   "outputs": [],
   "source": [
    "\n",
    "data = final_samples.copy()\n",
    "data = data[[\"caption\", \"hash\", \"img_id\",\"split\"]]\n",
    "data[\"cap_hash\"] = data[\"caption\"].apply(lambda x : hashlib.md5(str.encode(x)).hexdigest())"
   ]
  },
  {
   "cell_type": "code",
   "execution_count": 90,
   "id": "8cd3de52",
   "metadata": {},
   "outputs": [
    {
     "data": {
      "text/plain": [
       "0          f18d61c2064a545d0abbbfb591cc5eaf\n",
       "1          db7008e065490defad1f2288d4527348\n",
       "2          f48378fd9223d9189ba5d6d4b2b614ac\n",
       "3          64c0e1a808ba99af329ee4180e1ec1c2\n",
       "4          4c0fb395efc59a9785a4b9c80e46cb8a\n",
       "                         ...               \n",
       "2120959    63fe259ea45b338029eeb694c8682baa\n",
       "2120960    3a3fac15e1109d37050b18f6991cefd2\n",
       "2120961    6501fd9506c5af42c4db9b9ed8652378\n",
       "2120962    e60105c516a2bada0d4e3e71a79bdfb7\n",
       "2120963    1865e08555a0bfe40231c8e6012c1d68\n",
       "Name: cap_hash, Length: 2120964, dtype: object"
      ]
     },
     "execution_count": 90,
     "metadata": {},
     "output_type": "execute_result"
    }
   ],
   "source": [
    "data[\"cap_hash\"]"
   ]
  },
  {
   "cell_type": "code",
   "execution_count": 93,
   "id": "de12f855",
   "metadata": {},
   "outputs": [
    {
     "name": "stderr",
     "output_type": "stream",
     "text": [
      "1162it [00:28, 40.78it/s]"
     ]
    },
    {
     "ename": "KeyboardInterrupt",
     "evalue": "",
     "output_type": "error",
     "traceback": [
      "\u001b[0;31m---------------------------------------------------------------------------\u001b[0m",
      "\u001b[0;31mKeyboardInterrupt\u001b[0m                         Traceback (most recent call last)",
      "\u001b[0;32m<ipython-input-93-76f835c3e19e>\u001b[0m in \u001b[0;36m<module>\u001b[0;34m\u001b[0m\n\u001b[1;32m      4\u001b[0m \u001b[0mn\u001b[0m \u001b[0;34m=\u001b[0m \u001b[0mdata\u001b[0m\u001b[0;34m.\u001b[0m\u001b[0mshape\u001b[0m\u001b[0;34m[\u001b[0m\u001b[0;36m0\u001b[0m\u001b[0;34m]\u001b[0m\u001b[0;34m\u001b[0m\u001b[0;34m\u001b[0m\u001b[0m\n\u001b[1;32m      5\u001b[0m \u001b[0;32mfor\u001b[0m \u001b[0mi\u001b[0m\u001b[0;34m,\u001b[0m \u001b[0mrow\u001b[0m \u001b[0;32min\u001b[0m \u001b[0mtqdm\u001b[0m\u001b[0;34m(\u001b[0m\u001b[0mdata\u001b[0m\u001b[0;34m.\u001b[0m\u001b[0miterrows\u001b[0m\u001b[0;34m(\u001b[0m\u001b[0;34m)\u001b[0m\u001b[0;34m)\u001b[0m\u001b[0;34m:\u001b[0m\u001b[0;34m\u001b[0m\u001b[0;34m\u001b[0m\u001b[0m\n\u001b[0;32m----> 6\u001b[0;31m     \u001b[0midxs_where_duplication\u001b[0m \u001b[0;34m=\u001b[0m \u001b[0;34m(\u001b[0m\u001b[0mdata\u001b[0m\u001b[0;34m[\u001b[0m\u001b[0;34m\"cap_hash\"\u001b[0m\u001b[0;34m]\u001b[0m \u001b[0;34m==\u001b[0m \u001b[0mrow\u001b[0m\u001b[0;34m[\u001b[0m\u001b[0;34m\"cap_hash\"\u001b[0m\u001b[0;34m]\u001b[0m\u001b[0;34m)\u001b[0m \u001b[0;34m|\u001b[0m \u001b[0;34m(\u001b[0m\u001b[0mdata\u001b[0m\u001b[0;34m[\u001b[0m\u001b[0;34m\"hash\"\u001b[0m\u001b[0;34m]\u001b[0m \u001b[0;34m==\u001b[0m \u001b[0mrow\u001b[0m\u001b[0;34m[\u001b[0m\u001b[0;34m\"hash\"\u001b[0m\u001b[0;34m]\u001b[0m\u001b[0;34m)\u001b[0m\u001b[0;34m\u001b[0m\u001b[0;34m\u001b[0m\u001b[0m\n\u001b[0m\u001b[1;32m      7\u001b[0m     \u001b[0mlist_indexes_duplication\u001b[0m \u001b[0;34m=\u001b[0m \u001b[0mlist\u001b[0m\u001b[0;34m(\u001b[0m\u001b[0mnp\u001b[0m\u001b[0;34m.\u001b[0m\u001b[0mwhere\u001b[0m\u001b[0;34m(\u001b[0m\u001b[0mnp\u001b[0m\u001b[0;34m.\u001b[0m\u001b[0marray\u001b[0m\u001b[0;34m(\u001b[0m\u001b[0midxs_where_duplication\u001b[0m\u001b[0;34m.\u001b[0m\u001b[0mto_list\u001b[0m\u001b[0;34m(\u001b[0m\u001b[0;34m)\u001b[0m\u001b[0;34m)\u001b[0m \u001b[0;34m==\u001b[0m \u001b[0;32mTrue\u001b[0m\u001b[0;34m)\u001b[0m\u001b[0;34m[\u001b[0m\u001b[0;36m0\u001b[0m\u001b[0;34m]\u001b[0m\u001b[0;34m)\u001b[0m\u001b[0;34m\u001b[0m\u001b[0;34m\u001b[0m\u001b[0m\n\u001b[1;32m      8\u001b[0m     \u001b[0mvalid_answers\u001b[0m\u001b[0;34m[\u001b[0m\u001b[0mrow\u001b[0m\u001b[0;34m[\u001b[0m\u001b[0;34m\"img_id\"\u001b[0m\u001b[0;34m]\u001b[0m\u001b[0;34m]\u001b[0m \u001b[0;34m=\u001b[0m \u001b[0mlist_indexes_duplication\u001b[0m\u001b[0;34m\u001b[0m\u001b[0;34m\u001b[0m\u001b[0m\n",
      "\u001b[0;32m~/anaconda3/envs/python3/lib/python3.6/site-packages/pandas/core/ops/common.py\u001b[0m in \u001b[0;36mnew_method\u001b[0;34m(self, other)\u001b[0m\n\u001b[1;32m     63\u001b[0m         \u001b[0mother\u001b[0m \u001b[0;34m=\u001b[0m \u001b[0mitem_from_zerodim\u001b[0m\u001b[0;34m(\u001b[0m\u001b[0mother\u001b[0m\u001b[0;34m)\u001b[0m\u001b[0;34m\u001b[0m\u001b[0;34m\u001b[0m\u001b[0m\n\u001b[1;32m     64\u001b[0m \u001b[0;34m\u001b[0m\u001b[0m\n\u001b[0;32m---> 65\u001b[0;31m         \u001b[0;32mreturn\u001b[0m \u001b[0mmethod\u001b[0m\u001b[0;34m(\u001b[0m\u001b[0mself\u001b[0m\u001b[0;34m,\u001b[0m \u001b[0mother\u001b[0m\u001b[0;34m)\u001b[0m\u001b[0;34m\u001b[0m\u001b[0;34m\u001b[0m\u001b[0m\n\u001b[0m\u001b[1;32m     66\u001b[0m \u001b[0;34m\u001b[0m\u001b[0m\n\u001b[1;32m     67\u001b[0m     \u001b[0;32mreturn\u001b[0m \u001b[0mnew_method\u001b[0m\u001b[0;34m\u001b[0m\u001b[0;34m\u001b[0m\u001b[0m\n",
      "\u001b[0;32m~/anaconda3/envs/python3/lib/python3.6/site-packages/pandas/core/ops/__init__.py\u001b[0m in \u001b[0;36mwrapper\u001b[0;34m(self, other)\u001b[0m\n\u001b[1;32m    368\u001b[0m         \u001b[0mrvalues\u001b[0m \u001b[0;34m=\u001b[0m \u001b[0mextract_array\u001b[0m\u001b[0;34m(\u001b[0m\u001b[0mother\u001b[0m\u001b[0;34m,\u001b[0m \u001b[0mextract_numpy\u001b[0m\u001b[0;34m=\u001b[0m\u001b[0;32mTrue\u001b[0m\u001b[0;34m)\u001b[0m\u001b[0;34m\u001b[0m\u001b[0;34m\u001b[0m\u001b[0m\n\u001b[1;32m    369\u001b[0m \u001b[0;34m\u001b[0m\u001b[0m\n\u001b[0;32m--> 370\u001b[0;31m         \u001b[0mres_values\u001b[0m \u001b[0;34m=\u001b[0m \u001b[0mcomparison_op\u001b[0m\u001b[0;34m(\u001b[0m\u001b[0mlvalues\u001b[0m\u001b[0;34m,\u001b[0m \u001b[0mrvalues\u001b[0m\u001b[0;34m,\u001b[0m \u001b[0mop\u001b[0m\u001b[0;34m)\u001b[0m\u001b[0;34m\u001b[0m\u001b[0;34m\u001b[0m\u001b[0m\n\u001b[0m\u001b[1;32m    371\u001b[0m \u001b[0;34m\u001b[0m\u001b[0m\n\u001b[1;32m    372\u001b[0m         \u001b[0;32mreturn\u001b[0m \u001b[0mself\u001b[0m\u001b[0;34m.\u001b[0m\u001b[0m_construct_result\u001b[0m\u001b[0;34m(\u001b[0m\u001b[0mres_values\u001b[0m\u001b[0;34m,\u001b[0m \u001b[0mname\u001b[0m\u001b[0;34m=\u001b[0m\u001b[0mres_name\u001b[0m\u001b[0;34m)\u001b[0m\u001b[0;34m\u001b[0m\u001b[0;34m\u001b[0m\u001b[0m\n",
      "\u001b[0;32m~/anaconda3/envs/python3/lib/python3.6/site-packages/pandas/core/ops/array_ops.py\u001b[0m in \u001b[0;36mcomparison_op\u001b[0;34m(left, right, op)\u001b[0m\n\u001b[1;32m    242\u001b[0m \u001b[0;34m\u001b[0m\u001b[0m\n\u001b[1;32m    243\u001b[0m     \u001b[0;32melif\u001b[0m \u001b[0mis_object_dtype\u001b[0m\u001b[0;34m(\u001b[0m\u001b[0mlvalues\u001b[0m\u001b[0;34m.\u001b[0m\u001b[0mdtype\u001b[0m\u001b[0;34m)\u001b[0m\u001b[0;34m:\u001b[0m\u001b[0;34m\u001b[0m\u001b[0;34m\u001b[0m\u001b[0m\n\u001b[0;32m--> 244\u001b[0;31m         \u001b[0mres_values\u001b[0m \u001b[0;34m=\u001b[0m \u001b[0mcomp_method_OBJECT_ARRAY\u001b[0m\u001b[0;34m(\u001b[0m\u001b[0mop\u001b[0m\u001b[0;34m,\u001b[0m \u001b[0mlvalues\u001b[0m\u001b[0;34m,\u001b[0m \u001b[0mrvalues\u001b[0m\u001b[0;34m)\u001b[0m\u001b[0;34m\u001b[0m\u001b[0;34m\u001b[0m\u001b[0m\n\u001b[0m\u001b[1;32m    245\u001b[0m \u001b[0;34m\u001b[0m\u001b[0m\n\u001b[1;32m    246\u001b[0m     \u001b[0;32melse\u001b[0m\u001b[0;34m:\u001b[0m\u001b[0;34m\u001b[0m\u001b[0;34m\u001b[0m\u001b[0m\n",
      "\u001b[0;32m~/anaconda3/envs/python3/lib/python3.6/site-packages/pandas/core/ops/array_ops.py\u001b[0m in \u001b[0;36mcomp_method_OBJECT_ARRAY\u001b[0;34m(op, x, y)\u001b[0m\n\u001b[1;32m     54\u001b[0m         \u001b[0mresult\u001b[0m \u001b[0;34m=\u001b[0m \u001b[0mlibops\u001b[0m\u001b[0;34m.\u001b[0m\u001b[0mvec_compare\u001b[0m\u001b[0;34m(\u001b[0m\u001b[0mx\u001b[0m\u001b[0;34m.\u001b[0m\u001b[0mravel\u001b[0m\u001b[0;34m(\u001b[0m\u001b[0;34m)\u001b[0m\u001b[0;34m,\u001b[0m \u001b[0my\u001b[0m\u001b[0;34m.\u001b[0m\u001b[0mravel\u001b[0m\u001b[0;34m(\u001b[0m\u001b[0;34m)\u001b[0m\u001b[0;34m,\u001b[0m \u001b[0mop\u001b[0m\u001b[0;34m)\u001b[0m\u001b[0;34m\u001b[0m\u001b[0;34m\u001b[0m\u001b[0m\n\u001b[1;32m     55\u001b[0m     \u001b[0;32melse\u001b[0m\u001b[0;34m:\u001b[0m\u001b[0;34m\u001b[0m\u001b[0;34m\u001b[0m\u001b[0m\n\u001b[0;32m---> 56\u001b[0;31m         \u001b[0mresult\u001b[0m \u001b[0;34m=\u001b[0m \u001b[0mlibops\u001b[0m\u001b[0;34m.\u001b[0m\u001b[0mscalar_compare\u001b[0m\u001b[0;34m(\u001b[0m\u001b[0mx\u001b[0m\u001b[0;34m.\u001b[0m\u001b[0mravel\u001b[0m\u001b[0;34m(\u001b[0m\u001b[0;34m)\u001b[0m\u001b[0;34m,\u001b[0m \u001b[0my\u001b[0m\u001b[0;34m,\u001b[0m \u001b[0mop\u001b[0m\u001b[0;34m)\u001b[0m\u001b[0;34m\u001b[0m\u001b[0;34m\u001b[0m\u001b[0m\n\u001b[0m\u001b[1;32m     57\u001b[0m     \u001b[0;32mreturn\u001b[0m \u001b[0mresult\u001b[0m\u001b[0;34m.\u001b[0m\u001b[0mreshape\u001b[0m\u001b[0;34m(\u001b[0m\u001b[0mx\u001b[0m\u001b[0;34m.\u001b[0m\u001b[0mshape\u001b[0m\u001b[0;34m)\u001b[0m\u001b[0;34m\u001b[0m\u001b[0;34m\u001b[0m\u001b[0m\n\u001b[1;32m     58\u001b[0m \u001b[0;34m\u001b[0m\u001b[0m\n",
      "\u001b[0;31mKeyboardInterrupt\u001b[0m: "
     ]
    },
    {
     "name": "stderr",
     "output_type": "stream",
     "text": [
      "1162it [00:40, 29.03it/s]"
     ]
    }
   ],
   "source": [
    "valid_answers = {}\n",
    "#data = pd.read_parquet(\"/home/ec2-user/SageMaker/dataset/samples\")\n",
    "data = data[data[\"split\"]==\"val\"]\n",
    "n = data.shape[0]\n",
    "for i, row in tqdm(data.iterrows()):\n",
    "    idxs_where_duplication = (data[\"cap_hash\"] == row[\"cap_hash\"]) | (data[\"hash\"] == row[\"hash\"])\n",
    "    list_indexes_duplication = list(np.where(np.array(idxs_where_duplication.to_list()) == True)[0])\n",
    "    valid_answers[row[\"img_id\"]] = list_indexes_duplication"
   ]
  },
  {
   "cell_type": "code",
   "execution_count": 30,
   "id": "3ad1ae97",
   "metadata": {},
   "outputs": [],
   "source": []
  },
  {
   "cell_type": "code",
   "execution_count": 36,
   "id": "dc152e27",
   "metadata": {},
   "outputs": [
    {
     "data": {
      "text/plain": [
       "{2454329: [0, 307866, 556709, 905909, 1099345, 1364996],\n",
       " 2454330: [1, 618398, 943853, 1764810],\n",
       " 2454332: [2],\n",
       " 2454333: [3],\n",
       " 2454334: [4],\n",
       " 2454337: [5, 712734],\n",
       " 2454340: [6,\n",
       "  433913,\n",
       "  488693,\n",
       "  651519,\n",
       "  990019,\n",
       "  1112458,\n",
       "  1115857,\n",
       "  1334721,\n",
       "  1359118,\n",
       "  1469795,\n",
       "  1512277,\n",
       "  1650348,\n",
       "  2063700],\n",
       " 2454341: [7,\n",
       "  106339,\n",
       "  435985,\n",
       "  599349,\n",
       "  626551,\n",
       "  1009452,\n",
       "  1077714,\n",
       "  1604874,\n",
       "  1772681],\n",
       " 2454343: [8],\n",
       " 2454344: [9, 904899, 1838136],\n",
       " 2454346: [10],\n",
       " 2454347: [11],\n",
       " 2454351: [12, 317095, 1625739, 1698063, 1769007],\n",
       " 2454352: [13, 356499],\n",
       " 2454354: [14, 479257, 730910, 916990, 1658203],\n",
       " 2454355: [15],\n",
       " 2454356: [16, 200310],\n",
       " 2454357: [17],\n",
       " 2454359: [18],\n",
       " 2454361: [19],\n",
       " 2454364: [20, 1833522, 1964237],\n",
       " 2454365: [21],\n",
       " 2454366: [22,\n",
       "  71834,\n",
       "  324439,\n",
       "  328418,\n",
       "  548643,\n",
       "  1198214,\n",
       "  1311305,\n",
       "  1345777,\n",
       "  1546494],\n",
       " 2454367: [23],\n",
       " 2454368: [24, 617877, 1434232, 1967411],\n",
       " 2454369: [25],\n",
       " 2454370: [26, 464338, 474167, 1050306, 1415492, 1507753, 1626902, 1854197],\n",
       " 2454375: [27],\n",
       " 2454376: [28, 717609, 1317117],\n",
       " 2454379: [29, 82350],\n",
       " 2454380: [30,\n",
       "  103377,\n",
       "  136866,\n",
       "  283221,\n",
       "  412003,\n",
       "  509971,\n",
       "  535197,\n",
       "  574425,\n",
       "  726404,\n",
       "  816241,\n",
       "  1147704,\n",
       "  1327767,\n",
       "  1371192,\n",
       "  1962509,\n",
       "  1972882],\n",
       " 2454381: [31],\n",
       " 2454382: [32, 425969, 532221, 655891, 825956, 1002236, 1291844, 1420157],\n",
       " 2454392: [33, 515, 306665, 339190, 868516, 902320, 968538, 1189462],\n",
       " 2454394: [34],\n",
       " 2454396: [35],\n",
       " 2454397: [36],\n",
       " 2454399: [37, 578917],\n",
       " 2454401: [38],\n",
       " 2454402: [39],\n",
       " 2454404: [40],\n",
       " 2454408: [41, 117340],\n",
       " 2454409: [42],\n",
       " 2454412: [43, 526241],\n",
       " 2454414: [44, 1148244],\n",
       " 2454416: [45, 187893, 321766, 835473]}"
      ]
     },
     "execution_count": 36,
     "metadata": {},
     "output_type": "execute_result"
    }
   ],
   "source": [
    "valid_answers"
   ]
  },
  {
   "cell_type": "code",
   "execution_count": null,
   "id": "a29373ba",
   "metadata": {},
   "outputs": [],
   "source": []
  }
 ],
 "metadata": {
  "kernelspec": {
   "display_name": "conda_python3",
   "language": "python",
   "name": "conda_python3"
  },
  "language_info": {
   "codemirror_mode": {
    "name": "ipython",
    "version": 3
   },
   "file_extension": ".py",
   "mimetype": "text/x-python",
   "name": "python",
   "nbconvert_exporter": "python",
   "pygments_lexer": "ipython3",
   "version": "3.6.13"
  }
 },
 "nbformat": 4,
 "nbformat_minor": 5
}
